{
  "cells": [
    {
      "cell_type": "markdown",
      "metadata": {
        "id": "view-in-github",
        "colab_type": "text"
      },
      "source": [
        "<a href=\"https://colab.research.google.com/github/yashasangani/Application-Programming-Interface/blob/main/Multi_api_interaction.ipynb\" target=\"_parent\"><img src=\"https://colab.research.google.com/assets/colab-badge.svg\" alt=\"Open In Colab\"/></a>"
      ]
    },
    {
      "cell_type": "code",
      "execution_count": null,
      "id": "884aea21",
      "metadata": {
        "id": "884aea21"
      },
      "outputs": [],
      "source": [
        "import json\n",
        "import requests\n",
        "\n",
        "\n",
        "cart_url = \"https://dummyjson.com/carts/1\"\n",
        "response_cart_url = requests.get(cart_url)\n",
        "\n",
        "\n",
        "\n",
        "products_from_cart = response_cart_url.json()[\"products\"]\n",
        "user_from_cart = response_cart_url.json()[\"userId\"]\n",
        "\n",
        "\n",
        "user_from_cart\n",
        "\n",
        "user_info_url = f\"https://dummyjson.com/users/{user_from_cart}\"\n",
        "\n",
        "user_info_response = requests.get(user_info_url)\n"
      ]
    },
    {
      "cell_type": "code",
      "execution_count": null,
      "id": "5f98678b",
      "metadata": {
        "id": "5f98678b"
      },
      "outputs": [],
      "source": [
        "firsy_name,last_name,phone,email = user_info_response.json()[\"firstName\"],user_info_response.json()[\"lastName\"],user_info_response.json()[\"phone\"], user_info_response.json()[\"email\"]"
      ]
    },
    {
      "cell_type": "code",
      "execution_count": null,
      "id": "49a72c7c",
      "metadata": {
        "id": "49a72c7c",
        "outputId": "e1007ea8-6076-412b-9c76-97fa10251501"
      },
      "outputs": [
        {
          "data": {
            "text/plain": [
              "('Carter', 'Baker', '+49 787-512-9117', 'carter.baker@x.dummyjson.com')"
            ]
          },
          "execution_count": 10,
          "metadata": {},
          "output_type": "execute_result"
        }
      ],
      "source": [
        "firsy_name,last_name,phone,email"
      ]
    },
    {
      "cell_type": "code",
      "execution_count": null,
      "id": "48c6d538",
      "metadata": {
        "id": "48c6d538",
        "outputId": "4e346142-5f50-4cf9-93e5-96cd51843f15"
      },
      "outputs": [
        {
          "data": {
            "text/plain": [
              "[{'id': 168,\n",
              "  'title': 'Charger SXT RWD',\n",
              "  'price': 32999.99,\n",
              "  'quantity': 3,\n",
              "  'total': 98999.97,\n",
              "  'discountPercentage': 13.39,\n",
              "  'discountedTotal': 85743.87,\n",
              "  'thumbnail': 'https://cdn.dummyjson.com/products/images/vehicle/Charger%20SXT%20RWD/thumbnail.png'},\n",
              " {'id': 78,\n",
              "  'title': 'Apple MacBook Pro 14 Inch Space Grey',\n",
              "  'price': 1999.99,\n",
              "  'quantity': 2,\n",
              "  'total': 3999.98,\n",
              "  'discountPercentage': 18.52,\n",
              "  'discountedTotal': 3259.18,\n",
              "  'thumbnail': 'https://cdn.dummyjson.com/products/images/laptops/Apple%20MacBook%20Pro%2014%20Inch%20Space%20Grey/thumbnail.png'},\n",
              " {'id': 183,\n",
              "  'title': 'Green Oval Earring',\n",
              "  'price': 24.99,\n",
              "  'quantity': 5,\n",
              "  'total': 124.94999999999999,\n",
              "  'discountPercentage': 6.28,\n",
              "  'discountedTotal': 117.1,\n",
              "  'thumbnail': 'https://cdn.dummyjson.com/products/images/womens-jewellery/Green%20Oval%20Earring/thumbnail.png'},\n",
              " {'id': 100,\n",
              "  'title': 'Apple Airpods',\n",
              "  'price': 129.99,\n",
              "  'quantity': 5,\n",
              "  'total': 649.95,\n",
              "  'discountPercentage': 12.84,\n",
              "  'discountedTotal': 566.5,\n",
              "  'thumbnail': 'https://cdn.dummyjson.com/products/images/mobile-accessories/Apple%20Airpods/thumbnail.png'}]"
            ]
          },
          "execution_count": 11,
          "metadata": {},
          "output_type": "execute_result"
        }
      ],
      "source": [
        "products_from_cart"
      ]
    },
    {
      "cell_type": "code",
      "execution_count": null,
      "id": "306a5c14",
      "metadata": {
        "id": "306a5c14",
        "outputId": "10fb22e8-ec2c-4d75-c8f5-329ce123be74"
      },
      "outputs": [
        {
          "name": "stdout",
          "output_type": "stream",
          "text": [
            "2.92\n",
            "3.13\n",
            "2.54\n",
            "4.38\n"
          ]
        }
      ],
      "source": [
        "for product_info in products_from_cart:\n",
        "\n",
        "    pid = product_info[\"id\"]\n",
        "\n",
        "    pid_data = requests.get(f\"https://dummyjson.com/products/{pid}\")\n",
        "    print(pid_data.json()[\"rating\"])"
      ]
    },
    {
      "cell_type": "code",
      "execution_count": null,
      "id": "af02d988",
      "metadata": {
        "id": "af02d988"
      },
      "outputs": [],
      "source": [
        "new_cart_info = response_cart_url.json()"
      ]
    },
    {
      "cell_type": "code",
      "execution_count": null,
      "id": "cf863abf",
      "metadata": {
        "id": "cf863abf"
      },
      "outputs": [],
      "source": [
        "new_cart_info[\"extra_user_info\"] = [\n",
        "        user_info_response.json()[\"firstName\"],\n",
        "        user_info_response.json()[\"lastName\"],  # corrected the typo from \"lastane\" to \"lastName\"\n",
        "        user_info_response.json()[\"phone\"],\n",
        "        user_info_response.json()[\"email\"]\n",
        "    ]"
      ]
    },
    {
      "cell_type": "code",
      "execution_count": null,
      "id": "1a245801",
      "metadata": {
        "id": "1a245801"
      },
      "outputs": [],
      "source": [
        "extra_product_info = []\n",
        "\n",
        "for product_info in products_from_cart:\n",
        "\n",
        "    pid = product_info[\"id\"]\n",
        "\n",
        "    pid_data = requests.get(f\"https://dummyjson.com/products/{pid}\")\n",
        "\n",
        "    extra_product_info.append([pid, pid_data.json()[\"rating\"]])"
      ]
    },
    {
      "cell_type": "code",
      "execution_count": null,
      "id": "1800be3b",
      "metadata": {
        "id": "1800be3b",
        "outputId": "ec829be2-2c78-46fb-a526-9fd33d518b3b"
      },
      "outputs": [
        {
          "data": {
            "text/plain": [
              "[[168, 2.92], [78, 3.13], [183, 2.54], [100, 4.38]]"
            ]
          },
          "execution_count": 21,
          "metadata": {},
          "output_type": "execute_result"
        }
      ],
      "source": [
        "extra_product_info"
      ]
    },
    {
      "cell_type": "code",
      "execution_count": null,
      "id": "64207d57",
      "metadata": {
        "id": "64207d57"
      },
      "outputs": [],
      "source": [
        "new_cart_info[\"extra_product_info\"] = extra_product_info"
      ]
    },
    {
      "cell_type": "code",
      "execution_count": null,
      "id": "698a13cc",
      "metadata": {
        "id": "698a13cc",
        "outputId": "40a4519d-5ec3-4097-8186-c61ec1600ca9"
      },
      "outputs": [
        {
          "data": {
            "text/plain": [
              "{'id': 1,\n",
              " 'products': [{'id': 168,\n",
              "   'title': 'Charger SXT RWD',\n",
              "   'price': 32999.99,\n",
              "   'quantity': 3,\n",
              "   'total': 98999.97,\n",
              "   'discountPercentage': 13.39,\n",
              "   'discountedTotal': 85743.87,\n",
              "   'thumbnail': 'https://cdn.dummyjson.com/products/images/vehicle/Charger%20SXT%20RWD/thumbnail.png'},\n",
              "  {'id': 78,\n",
              "   'title': 'Apple MacBook Pro 14 Inch Space Grey',\n",
              "   'price': 1999.99,\n",
              "   'quantity': 2,\n",
              "   'total': 3999.98,\n",
              "   'discountPercentage': 18.52,\n",
              "   'discountedTotal': 3259.18,\n",
              "   'thumbnail': 'https://cdn.dummyjson.com/products/images/laptops/Apple%20MacBook%20Pro%2014%20Inch%20Space%20Grey/thumbnail.png'},\n",
              "  {'id': 183,\n",
              "   'title': 'Green Oval Earring',\n",
              "   'price': 24.99,\n",
              "   'quantity': 5,\n",
              "   'total': 124.94999999999999,\n",
              "   'discountPercentage': 6.28,\n",
              "   'discountedTotal': 117.1,\n",
              "   'thumbnail': 'https://cdn.dummyjson.com/products/images/womens-jewellery/Green%20Oval%20Earring/thumbnail.png'},\n",
              "  {'id': 100,\n",
              "   'title': 'Apple Airpods',\n",
              "   'price': 129.99,\n",
              "   'quantity': 5,\n",
              "   'total': 649.95,\n",
              "   'discountPercentage': 12.84,\n",
              "   'discountedTotal': 566.5,\n",
              "   'thumbnail': 'https://cdn.dummyjson.com/products/images/mobile-accessories/Apple%20Airpods/thumbnail.png'}],\n",
              " 'total': 103774.85,\n",
              " 'discountedTotal': 89686.65,\n",
              " 'userId': 33,\n",
              " 'totalProducts': 4,\n",
              " 'totalQuantity': 15,\n",
              " 'extra_user_info': ['Carter',\n",
              "  'Baker',\n",
              "  '+49 787-512-9117',\n",
              "  'carter.baker@x.dummyjson.com'],\n",
              " 'extra_product_info': [[168, 2.92], [78, 3.13], [183, 2.54], [100, 4.38]]}"
            ]
          },
          "execution_count": 23,
          "metadata": {},
          "output_type": "execute_result"
        }
      ],
      "source": [
        "new_cart_info"
      ]
    },
    {
      "cell_type": "code",
      "execution_count": null,
      "id": "e1fb3919",
      "metadata": {
        "id": "e1fb3919"
      },
      "outputs": [],
      "source": []
    }
  ],
  "metadata": {
    "kernelspec": {
      "display_name": "Python 3 (ipykernel)",
      "language": "python",
      "name": "python3"
    },
    "language_info": {
      "codemirror_mode": {
        "name": "ipython",
        "version": 3
      },
      "file_extension": ".py",
      "mimetype": "text/x-python",
      "name": "python",
      "nbconvert_exporter": "python",
      "pygments_lexer": "ipython3",
      "version": "3.11.5"
    },
    "colab": {
      "provenance": [],
      "include_colab_link": true
    }
  },
  "nbformat": 4,
  "nbformat_minor": 5
}