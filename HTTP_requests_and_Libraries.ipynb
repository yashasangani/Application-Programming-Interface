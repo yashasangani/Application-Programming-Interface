{
  "nbformat": 4,
  "nbformat_minor": 0,
  "metadata": {
    "colab": {
      "provenance": [],
      "authorship_tag": "ABX9TyOSl3hg1tLQaR/w14/3mpVz",
      "include_colab_link": true
    },
    "kernelspec": {
      "name": "python3",
      "display_name": "Python 3"
    },
    "language_info": {
      "name": "python"
    }
  },
  "cells": [
    {
      "cell_type": "markdown",
      "metadata": {
        "id": "view-in-github",
        "colab_type": "text"
      },
      "source": [
        "<a href=\"https://colab.research.google.com/github/yashasangani/Application-Programming-Interface/blob/main/HTTP_requests_and_Libraries.ipynb\" target=\"_parent\"><img src=\"https://colab.research.google.com/assets/colab-badge.svg\" alt=\"Open In Colab\"/></a>"
      ]
    },
    {
      "cell_type": "code",
      "execution_count": null,
      "metadata": {
        "id": "862ASs5lGoP4"
      },
      "outputs": [],
      "source": [
        "import json\n",
        "import requests"
      ]
    },
    {
      "cell_type": "markdown",
      "source": [
        "HTTP requests- Web API"
      ],
      "metadata": {
        "id": "Vgw7ifRyG72S"
      }
    },
    {
      "cell_type": "markdown",
      "source": [
        "GET Method:\n",
        "1. GET method is used to fetch data from API.\n",
        "2. It is safe and idempotent method, meaning it can be called multiple times without changing the state of the server.\n",
        "3. GET requests are typically used to retrieve the information or fetch resources or retrieve data from dataset."
      ],
      "metadata": {
        "id": "ysn2oi-fHCHS"
      }
    },
    {
      "cell_type": "code",
      "source": [
        "get_response = requests.get('https://dummyjson.com/products')\n",
        "get_response.status_code"
      ],
      "metadata": {
        "colab": {
          "base_uri": "https://localhost:8080/"
        },
        "id": "k_bWfddRG3WJ",
        "outputId": "4c414995-a336-408c-ed2b-395854cea6b9"
      },
      "execution_count": null,
      "outputs": [
        {
          "output_type": "execute_result",
          "data": {
            "text/plain": [
              "200"
            ]
          },
          "metadata": {},
          "execution_count": 4
        }
      ]
    },
    {
      "cell_type": "code",
      "source": [
        "get_response.text"
      ],
      "metadata": {
        "colab": {
          "base_uri": "https://localhost:8080/",
          "height": 143
        },
        "id": "QmoZLIRmIUz4",
        "outputId": "e9862572-941a-4eed-f57f-c714066c3386"
      },
      "execution_count": null,
      "outputs": [
        {
          "output_type": "execute_result",
          "data": {
            "text/plain": [
              "'{\"products\":[{\"id\":1,\"title\":\"Essence Mascara Lash Princess\",\"description\":\"The Essence Mascara Lash Princess is a popular mascara known for its volumizing and lengthening effects. Achieve dramatic lashes with this long-lasting and cruelty-free formula.\",\"category\":\"beauty\",\"price\":9.99,\"discountPercentage\":7.17,\"rating\":4.94,\"stock\":5,\"tags\":[\"beauty\",\"mascara\"],\"brand\":\"Essence\",\"sku\":\"RCH45Q1A\",\"weight\":2,\"dimensions\":{\"width\":23.17,\"height\":14.43,\"depth\":28.01},\"warrantyInformation\":\"1 month warranty\",\"shippingInformation\":\"Ships in 1 month\",\"availabilityStatus\":\"Low Stock\",\"reviews\":[{\"rating\":2,\"comment\":\"Very unhappy with my purchase!\",\"date\":\"2024-05-23T08:56:21.618Z\",\"reviewerName\":\"John Doe\",\"reviewerEmail\":\"john.doe@x.dummyjson.com\"},{\"rating\":2,\"comment\":\"Not as described!\",\"date\":\"2024-05-23T08:56:21.618Z\",\"reviewerName\":\"Nolan Gonzalez\",\"reviewerEmail\":\"nolan.gonzalez@x.dummyjson.com\"},{\"rating\":5,\"comment\":\"Very satisfied!\",\"date\":\"2024-05-23T08:56:21.618Z\",\"reviewerName\":\"Scarlett Wright\",\"reviewerEmail\":\"scarlett.wright@x.dummyjson.com\"}],\"returnPolicy\":\"30 days return policy\",\"minimumOrderQuantity\":24,\"meta\":{\"createdAt\":\"2024-05-23T08:56:21.618Z\",\"updatedAt\":\"2024-05-23T08:56:21.618Z\",\"barcode\":\"9164035109868\",\"qrCode\":\"https://assets.dummyjson.com/public/qr-code.png\"},\"images\":[\"https://cdn.dummyjson.com/products/images/beauty/Essence%20Mascara%20Lash%20Princess/1.png\"],\"thumbnail\":\"https://cdn.dummyjson.com/products/images/beauty/Essence%20Mascara%20Lash%20Princess/thumbnail.png\"},{\"id\":2,\"title\":\"Eyeshadow Palette with Mirror\",\"description\":\"The Eyeshadow Palette with Mirror offers a versatile range of eyeshadow shades for creating stunning eye looks. With a built-in mirror, it\\'s convenient for on-the-go makeup application.\",\"category\":\"beauty\",\"price\":19.99,\"discountPercentage\":5.5,\"rating\":3.28,\"stock\":44,\"tags\":[\"beauty\",\"eyeshadow\"],\"brand\":\"Glamour Beauty\",\"sku\":\"MVCFH27F\",\"weight\":3,\"dimensions\":{\"width\":12.42,\"height\":8.63,\"depth\":29.13},\"warrantyInformation\":\"1 year warranty\",\"shippingInformation\":\"Ships in 2 weeks\",\"availabilityStatus\":\"In Stock\",\"reviews\":[{\"rating\":4,\"comment\":\"Very satisfied!\",\"date\":\"2024-05-23T08:56:21.618Z\",\"reviewerName\":\"Liam Garcia\",\"reviewerEmail\":\"liam.garcia@x.dummyjson.com\"},{\"rating\":1,\"comment\":\"Very disappointed!\",\"date\":\"2024-05-23T08:56:21.618Z\",\"reviewerName\":\"Nora Russell\",\"reviewerEmail\":\"nora.russell@x.dummyjson.com\"},{\"rating\":5,\"comment\":\"Highly impressed!\",\"date\":\"2024-05-23T08:56:21.618Z\",\"reviewerName\":\"Elena Baker\",\"reviewerEmail\":\"elena.baker@x.dummyjson.com\"}],\"returnPolicy\":\"30 days return policy\",\"minimumOrderQuantity\":32,\"meta\":{\"createdAt\":\"2024-05-23T08:56:21.618Z\",\"updatedAt\":\"2024-05-23T08:56:21.618Z\",\"barcode\":\"2817839095220\",\"qrCode\":\"https://assets.dummyjson.com/public/qr-code.png\"},\"images\":[\"https://cdn.dummyjson.com/products/images/beauty/Eyeshadow%20Palette%20with%20Mirror/1.png\"],\"thumbnail\":\"https://cdn.dummyjson.com/products/images/beauty/Eyeshadow%20Palette%20with%20Mirror/thumbnail.png\"},{\"id\":3,\"title\":\"Powder Canister\",\"description\":\"The Powder Canister is a finely milled setting powder designed to set makeup and control shine. With a lightweight and translucent formula, it provides a smooth and matte finish.\",\"category\":\"beauty\",\"price\":14.99,\"discountPercentage\":18.14,\"rating\":3.82,\"stock\":59,\"tags\":[\"beauty\",\"face powder\"],\"brand\":\"Velvet Touch\",\"sku\":\"9EN8WLT2\",\"weight\":8,\"dimensions\":{\"width\":24.16,\"height\":10.7,\"depth\":11.07},\"warrantyInformation\":\"2 year warranty\",\"shippingInformation\":\"Ships in 1-2 business days\",\"availabilityStatus\":\"In Stock\",\"reviews\":[{\"rating\":5,\"comment\":\"Very happy with my purchase!\",\"date\":\"2024-05-23T08:56:21.618Z\",\"reviewerName\":\"Ethan Thompson\",\"reviewerEmail\":\"ethan.thompson@x.dummyjson.com\"},{\"rating\":4,\"comment\":\"Great value for money!\",\"date\":\"2024-05-23T08:56:21.618Z\",\"reviewerName\":\"Levi Hicks\",\"reviewerEmail\":\"levi.hicks@x.dummyjson.com\"},{\"rating\":5,\"comment\":\"Highly impressed!\",\"date\":\"2024-05-23T08:56:21.618Z\",\"reviewerName\":\"Hazel Gardner\",\"reviewerEmail\":\"hazel.gardner@x.dummyjson.com\"}],\"returnPolicy\":\"60 days return policy\",\"minimumOrderQuantity\":25,\"meta\":{\"createdAt\":\"2024-05-23T08:56:21.618Z\",\"updatedAt\":\"2024-05-23T08:56:21.618Z\",\"barcode\":\"0516267971277\",\"qrCode\":\"https://assets.dummyjson.com/public/qr-code.png\"},\"images\":[\"https://cdn.dummyjson.com/products/images/beauty/Powder%20Canister/1.png\"],\"thumbnail\":\"https://cdn.dummyjson.com/products/images/beauty/Powder%20Canister/thumbnail.png\"},{\"id\":4,\"title\":\"Red Lipstick\",\"description\":\"The Red Lipstick is a classic and bold choice for adding a pop of color to your lips. With a creamy and pigmented formula, it provides a vibrant and long-lasting finish.\",\"category\":\"beauty\",\"price\":12.99,\"discountPercentage\":19.03,\"rating\":2.51,\"stock\":68,\"tags\":[\"beauty\",\"lipstick\"],\"brand\":\"Chic Cosmetics\",\"sku\":\"O5IF1NTA\",\"weight\":5,\"dimensions\":{\"width\":14.37,\"height\":13.94,\"depth\":14.6},\"warrantyInformation\":\"Lifetime warranty\",\"shippingInformation\":\"Ships in 2 weeks\",\"availabilityStatus\":\"In Stock\",\"reviews\":[{\"rating\":5,\"comment\":\"Great product!\",\"date\":\"2024-05-23T08:56:21.619Z\",\"reviewerName\":\"Leo Rivera\",\"reviewerEmail\":\"leo.rivera@x.dummyjson.com\"},{\"rating\":4,\"comment\":\"Very pleased!\",\"date\":\"2024-05-23T08:56:21.619Z\",\"reviewerName\":\"Oscar Powers\",\"reviewerEmail\":\"oscar.powers@x.dummyjson.com\"},{\"rating\":5,\"comment\":\"Very pleased!\",\"date\":\"2024-05-23T08:56:21.619Z\",\"reviewerName\":\"Carter Rivera\",\"reviewerEmail\":\"carter.rivera@x.dummyjson.com\"}],\"returnPolicy\":\"90 days return policy\",\"minimumOrderQuantity\":6,\"meta\":{\"createdAt\":\"2024-05-23T08:56:21.619Z\",\"updatedAt\":\"2024-05-23T08:56:21.619Z\",\"barcode\":\"9444582199406\",\"qrCode\":\"https://assets.dummyjson.com/public/qr-code.png\"},\"images\":[\"https://cdn.dummyjson.com/products/images/beauty/Red%20Lipstick/1.png\"],\"thumbnail\":\"https://cdn.dummyjson.com/products/images/beauty/Red%20Lipstick/thumbnail.png\"},{\"id\":5,\"title\":\"Red Nail Polish\",\"description\":\"The Red Nail Polish offers a rich and glossy red hue for vibrant and polished nails. With a quick-drying formula, it provides a salon-quality finish at home.\",\"category\":\"beauty\",\"price\":8.99,\"discountPercentage\":2.46,\"rating\":3.91,\"stock\":71,\"tags\":[\"beauty\",\"nail polish\"],\"brand\":\"Nail Couture\",\"sku\":\"YUIIIP4W\",\"weight\":9,\"dimensions\":{\"width\":8.11,\"height\":10.89,\"depth\":29.06},\"warrantyInformation\":\"1 year warranty\",\"shippingInformation\":\"Ships in 1 week\",\"availabilityStatus\":\"In Stock\",\"reviews\":[{\"rating\":5,\"comment\":\"Very pleased!\",\"date\":\"2024-05-23T08:56:21.619Z\",\"reviewerName\":\"Leo Rivera\",\"reviewerEmail\":\"leo.rivera@x.dummyjson.com\"},{\"rating\":5,\"comment\":\"Great product!\",\"date\":\"2024-05-23T08:56:21.619Z\",\"reviewerName\":\"Evan Reed\",\"reviewerEmail\":\"evan.reed@x.dummyjson.com\"},{\"rating\":4,\"comment\":\"Highly recommended!\",\"date\":\"2024-05-23T08:56:21.619Z\",\"reviewerName\":\"Evelyn Sanchez\",\"reviewerEmail\":\"evelyn.sanchez@x.dummyjson.com\"}],\"returnPolicy\":\"No return policy\",\"minimumOrderQuantity\":46,\"meta\":{\"createdAt\":\"2024-05-23T08:56:21.619Z\",\"updatedAt\":\"2024-05-23T08:56:21.619Z\",\"barcode\":\"3212847902461\",\"qrCode\":\"https://assets.dummyjson.com/public/qr-code.png\"},\"images\":[\"https://cdn.dummyjson.com/products/images/beauty/Red%20Nail%20Polish/1.png\"],\"thumbnail\":\"https://cdn.dummyjson.com/products/images/beauty/Red%20Nail%20Polish/thumbnail.png\"},{\"id\":6,\"title\":\"Calvin Klein CK One\",\"description\":\"CK One by Calvin Klein is a classic unisex fragrance, known for its fresh and clean scent. It\\'s a versatile fragrance suitable for everyday wear.\",\"category\":\"fragrances\",\"price\":49.99,\"discountPercentage\":0.32,\"rating\":4.85,\"stock\":17,\"tags\":[\"fragrances\",\"perfumes\"],\"brand\":\"Calvin Klein\",\"sku\":\"DZM2JQZE\",\"weight\":5,\"dimensions\":{\"width\":11.53,\"height\":14.44,\"depth\":6.81},\"warrantyInformation\":\"5 year warranty\",\"shippingInformation\":\"Ships overnight\",\"availabilityStatus\":\"In Stock\",\"reviews\":[{\"rating\":5,\"comment\":\"Great value for money!\",\"date\":\"2024-05-23T08:56:21.619Z\",\"reviewerName\":\"Sophia Brown\",\"reviewerEmail\":\"sophia.brown@x.dummyjson.com\"},{\"rating\":3,\"comment\":\"Very disappointed!\",\"date\":\"2024-05-23T08:56:21.619Z\",\"reviewerName\":\"Madison Collins\",\"reviewerEmail\":\"madison.collins@x.dummyjson.com\"},{\"rating\":1,\"comment\":\"Poor quality!\",\"date\":\"2024-05-23T08:56:21.619Z\",\"reviewerName\":\"Maya Reed\",\"reviewerEmail\":\"maya.reed@x.dummyjson.com\"}],\"returnPolicy\":\"No return policy\",\"minimumOrderQuantity\":20,\"meta\":{\"createdAt\":\"2024-05-23T08:56:21.619Z\",\"updatedAt\":\"2024-05-23T08:56:21.619Z\",\"barcode\":\"2210136215089\",\"qrCode\":\"https://assets.dummyjson.com/public/qr-code.png\"},\"images\":[\"https://cdn.dummyjson.com/products/images/fragrances/Calvin%20Klein%20CK%20One/1.png\",\"https://cdn.dummyjson.com/products/images/fragrances/Calvin%20Klein%20CK%20One/2.png\",\"https://cdn.dummyjson.com/products/images/fragrances/Calvin%20Klein%20CK%20One/3.png\"],\"thumbnail\":\"https://cdn.dummyjson.com/products/images/fragrances/Calvin%20Klein%20CK%20One/thumbnail.png\"},{\"id\":7,\"title\":\"Chanel Coco Noir Eau De\",\"description\":\"Coco Noir by Chanel is an elegant and mysterious fragrance, featuring notes of grapefruit, rose, and sandalwood. Perfect for evening occasions.\",\"category\":\"fragrances\",\"price\":129.99,\"discountPercentage\":18.64,\"rating\":2.76,\"stock\":41,\"tags\":[\"fragrances\",\"perfumes\"],\"brand\":\"Chanel\",\"sku\":\"K71HBCGS\",\"weight\":4,\"dimensions\":{\"width\":21.27,\"height\":28,\"depth\":11.89},\"warrantyInformation\":\"1 week warranty\",\"shippingInformation\":\"Ships in 1 month\",\"availabilityStatus\":\"In Stock\",\"reviews\":[{\"rating\":1,\"comment\":\"Disappointing product!\",\"date\":\"2024-05-23T08:56:21.619Z\",\"reviewerName\":\"Lincoln Kelly\",\"reviewerEmail\":\"lincoln.kelly@x.dummyjson.com\"},{\"rating\":4,\"comment\":\"Great product!\",\"date\":\"2024-05-23T08:56:21.619Z\",\"reviewerName\":\"Lincoln Kelly\",\"reviewerEmail\":\"lincoln.kelly@x.dummyjson.com\"},{\"rating\":4,\"comment\":\"Excellent quality!\",\"date\":\"2024-05-23T08:56:21.619Z\",\"reviewerName\":\"Lucas Allen\",\"reviewerEmail\":\"lucas.allen@x.dummyjson.com\"}],\"returnPolicy\":\"60 days return policy\",\"minimumOrderQuantity\":5,\"meta\":{\"createdAt\":\"2024-05-23T08:56:21.619Z\",\"updatedAt\":\"2024-05-23T08:56:21.619Z\",\"barcode\":\"1435582999795\",\"qrCode\":\"https://assets.dummyjson.com/public/qr-code.png\"},\"images\":[\"https://cdn.dummyjson.com/products/images/fragrances/Chanel%20Coco%20Noir%20Eau%20De/1.png\",\"https://cdn.dummyjson.com/products/images/fragrances/Chanel%20Coco%20Noir%20Eau%20De/2.png\",\"https://cdn.dummyjson.com/products/images/fragrances/Chanel%20Coco%20Noir%20Eau%20De/3.png\"],\"thumbnail\":\"https://cdn.dummyjson.com/products/images/fragrances/Chanel%20Coco%20Noir%20Eau%20De/thumbnail.png\"},{\"id\":8,\"title\":\"Dior J\\'adore\",\"description\":\"J\\'adore by Dior is a luxurious and floral fragrance, known for its blend of ylang-ylang, rose, and jasmine. It embodies femininity and sophistication.\",\"category\":\"fragrances\",\"price\":89.99,\"discountPercentage\":17.44,\"rating\":3.31,\"stock\":91,\"tags\":[\"fragrances\",\"perfumes\"],\"brand\":\"Dior\",\"sku\":\"E70NB03B\",\"weight\":10,\"dimensions\":{\"width\":21.51,\"height\":7,\"depth\":26.51},\"warrantyInformation\":\"Lifetime warranty\",\"shippingInformation\":\"Ships in 2 weeks\",\"availabilityStatus\":\"In Stock\",\"reviews\":[{\"rating\":5,\"comment\":\"Fast shipping!\",\"date\":\"2024-05-23T08:56:21.619Z\",\"reviewerName\":\"Zoe Nicholson\",\"reviewerEmail\":\"zoe.nicholson@x.dummyjson.com\"},{\"rating\":4,\"comment\":\"Excellent quality!\",\"date\":\"2024-05-23T08:56:21.619Z\",\"reviewerName\":\"Addison Wright\",\"reviewerEmail\":\"addison.wright@x.dummyjson.com\"},{\"rating\":4,\"comment\":\"Would buy again!\",\"date\":\"2024-05-23T08:56:21.619Z\",\"reviewerName\":\"Clara Berry\",\"reviewerEmail\":\"clara.berry@x.dummyjson.com\"}],\"returnPolicy\":\"7 days return policy\",\"minimumOrderQuantity\":8,\"meta\":{\"createdAt\":\"2024-05-23T08:56:21.619Z\",\"updatedAt\":\"2024-05-23T08:56:21.619Z\",\"barcode\":\"0887083199279\",\"qrCode\":\"https://assets.dummyjson.com/public/qr-code.png\"},\"images\":[\"https://cdn.dummyjson.com/products/images/fragrances/Dior%20J\\'adore/1.png\",\"https://cdn.dummyjson.com/products/images/fragrances/Dior%20J\\'adore/2.png\",\"https://cdn.dummyjson.com/products/images/fragrances/Dior%20J\\'adore/3.png\"],\"thumbnail\":\"https://cdn.dummyjson.com/products/images/fragrances/Dior%20J\\'adore/thumbnail.png\"},{\"id\":9,\"title\":\"Dolce Shine Eau de\",\"description\":\"Dolce Shine by Dolce & Gabbana is a vibrant and fruity fragrance, featuring notes of mango, jasmine, and blonde woods. It\\'s a joyful and youthful scent.\",\"category\":\"fragrances\",\"price\":69.99,\"discountPercentage\":11.47,\"rating\":2.68,\"stock\":3,\"tags\":[\"fragrances\",\"perfumes\"],\"brand\":\"Dolce & Gabbana\",\"sku\":\"1NBFK980\",\"weight\":5,\"dimensions\":{\"width\":17,\"height\":24.57,\"depth\":13.3},\"warrantyInformation\":\"5 year warranty\",\"shippingInformation\":\"Ships in 1-2 business days\",\"availabilityStatus\":\"Low Stock\",\"reviews\":[{\"rating\":4,\"comment\":\"Very satisfied!\",\"date\":\"2024-05-23T08:56:21.619Z\",\"reviewerName\":\"Xavier Wright\",\"reviewerEmail\":\"xavier.wright@x.dummyjson.com\"},{\"rating\":1,\"comment\":\"Poor quality!\",\"date\":\"2024-05-23T08:56:21.619Z\",\"reviewerName\":\"Mila Hernandez\",\"reviewerEmail\":\"mila.hernandez@x.dummyjson.com\"},{\"rating\":5,\"comment\":\"Very happy with my purchase!\",\"date\":\"2024-05-23T08:56:21.619Z\",\"reviewerName\":\"Sophia Brown\",\"reviewerEmail\":\"sophia.brown@x.dummyjson.com\"}],\"returnPolicy\":\"30 days return policy\",\"minimumOrderQuantity\":9,\"meta\":{\"createdAt\":\"2024-05-23T08:56:21.619Z\",\"updatedAt\":\"2024-05-23T08:56:21.619Z\",\"barcode\":\"1939383392674\",\"qrCode\":\"https://assets.dummyjson.com/public/qr-code.png\"},\"images\":[\"https://cdn.dummyjson.com/products/images/fragrances/Dolce%20Shine%20Eau%20de/1.png\",\"https://cdn.dummyjson.com/products/images/fragrances/Dolce%20Shine%20Eau%20de/2.png\",\"https://cdn.dummyjson.com/products/images/fragrances/Dolce%20Shine%20Eau%20de/3.png\"],\"thumbnail\":\"https://cdn.dummyjson.com/products/images/fragrances/Dolce%20Shine%20Eau%20de/thumbnail.png\"},{\"id\":10,\"title\":\"Gucci Bloom Eau de\",\"description\":\"Gucci Bloom by Gucci is a floral and captivating fragrance, with notes of tuberose, jasmine, and Rangoon creeper. It\\'s a modern and romantic scent.\",\"category\":\"fragrances\",\"price\":79.99,\"discountPercentage\":8.9,\"rating\":2.69,\"stock\":93,\"tags\":[\"fragrances\",\"perfumes\"],\"brand\":\"Gucci\",\"sku\":\"FFKZ6HOF\",\"weight\":10,\"dimensions\":{\"width\":22.28,\"height\":17.81,\"depth\":27.18},\"warrantyInformation\":\"No warranty\",\"shippingInformation\":\"Ships in 2 weeks\",\"availabilityStatus\":\"In Stock\",\"reviews\":[{\"rating\":5,\"comment\":\"Great value for money!\",\"date\":\"2024-05-23T08:56:21.620Z\",\"reviewerName\":\"Aria Parker\",\"reviewerEmail\":\"aria.parker@x.dummyjson.com\"},{\"rating\":4,\"comment\":\"Excellent quality!\",\"date\":\"2024-05-23T08:56:21.620Z\",\"reviewerName\":\"Natalie Harris\",\"reviewerEmail\":\"natalie.harris@x.dummyjson.com\"},{\"rating\":4,\"comment\":\"Fast shipping!\",\"date\":\"2024-05-23T08:56:21.620Z\",\"reviewerName\":\"Ava Harris\",\"reviewerEmail\":\"ava.harris@x.dummyjson.com\"}],\"returnPolicy\":\"No return policy\",\"minimumOrderQuantity\":10,\"meta\":{\"createdAt\":\"2024-05-23T08:56:21.620Z\",\"updatedAt\":\"2024-05-23T08:56:21.620Z\",\"barcode\":\"8232190382069\",\"qrCode\":\"https://assets.dummyjson.com/public/qr-code.png\"},\"images\":[\"https://cdn.dummyjson.com/products/images/fragrances/Gucci%20Bloom%20Eau%20de/1.png\",\"https://cdn.dummyjson.com/products/images/fragrances/Gucci%20Bloom%20Eau%20de/2.png\",\"https://cdn.dummyjson.com/products/images/fragrances/Gucci%20Bloom%20Eau%20de/3.png\"],\"thumbnail\":\"https://cdn.dummyjson.com/products/images/fragrances/Gucci%20Bloom%20Eau%20de/thumbnail.png\"},{\"id\":11,\"title\":\"Annibale Colombo Bed\",\"description\":\"The Annibale Colombo Bed is a luxurious and elegant bed frame, crafted with high-quality materials for a comfortable and stylish bedroom.\",\"category\":\"furniture\",\"price\":1899.99,\"discountPercentage\":0.29,\"rating\":4.14,\"stock\":47,\"tags\":[\"furniture\",\"beds\"],\"brand\":\"Annibale Colombo\",\"sku\":\"4KMDTZWF\",\"weight\":3,\"dimensions\":{\"width\":28.75,\"height\":26.88,\"depth\":24.47},\"warrantyInformation\":\"2 year warranty\",\"shippingInformation\":\"Ships overnight\",\"availabilityStatus\":\"In Stock\",\"reviews\":[{\"rating\":4,\"comment\":\"Great value for money!\",\"date\":\"2024-05-23T08:56:21.620Z\",\"reviewerName\":\"Julian Newton\",\"reviewerEmail\":\"julian.newton@x.dummyjson.com\"},{\"rating\":5,\"comment\":\"Would buy again!\",\"date\":\"2024-05-23T08:56:21.620Z\",\"reviewerName\":\"Madison Collins\",\"reviewerEmail\":\"madison.collins@x.dummyjson.com\"},{\"rating\":4,\"comment\":\"Would buy again!\",\"date\":\"2024-05-23T08:56:21.620Z\",\"reviewerName\":\"Clara Berry\",\"reviewerEmail\":\"clara.berry@x.dummyjson.com\"}],\"returnPolicy\":\"7 days return policy\",\"minimumOrderQuantity\":1,\"meta\":{\"createdAt\":\"2024-05-23T08:56:21.620Z\",\"updatedAt\":\"2024-05-23T08:56:21.620Z\",\"barcode\":\"7113807059215\",\"qrCode\":\"https://assets.dummyjson.com/public/qr-code.png\"},\"images\":[\"https://cdn.dummyjson.com/products/images/furniture/Annibale%20Colombo%20Bed/1.png\",\"https://cdn.dummyjson.com/products/images/furniture/Annibale%20Colombo%20Bed/2.png\",\"https://cdn.dummyjson.com/products/images/furniture/Annibale%20Colombo%20Bed/3.png\"],\"thumbnail\":\"https://cdn.dummyjson.com/products/images/furniture/Annibale%20Colombo%20Bed/thumbnail.png\"},{\"id\":12,\"title\":\"Annibale Colombo Sofa\",\"description\":\"The Annibale Colombo Sofa is a sophisticated and comfortable seating option, featuring exquisite design and premium upholstery for your living room.\",\"category\":\"furniture\",\"price\":2499.99,\"discountPercentage\":18.54,\"rating\":3.08,\"stock\":16,\"tags\":[\"furniture\",\"sofas\"],\"brand\":\"Annibale Colombo\",\"sku\":\"LUU95CQP\",\"weight\":3,\"dimensions\":{\"width\":20.97,\"height\":19.11,\"depth\":25.81},\"warrantyInformation\":\"1 month warranty\",\"shippingInformation\":\"Ships overnight\",\"availabilityStatus\":\"In Stock\",\"reviews\":[{\"rating\":5,\"comment\":\"Very satisfied!\",\"date\":\"2024-05-23T08:56:21.620Z\",\"reviewerName\":\"Tyler Davis\",\"reviewerEmail\":\"tyler.davis@x.dummyjson.com\"},{\"rating\":5,\"comment\":\"Excellent quality!\",\"date\":\"2024-05-23T08:56:21.620Z\",\"reviewerName\":\"Hannah Robinson\",\"reviewerEmail\":\"hannah.robinson@x.dummyjson.com\"},{\"rating\":3,\"comment\":\"Waste of money!\",\"date\":\"2024-05-23T08:56:21.620Z\",\"reviewerName\":\"Madison Collins\",\"reviewerEmail\":\"madison.collins@x.dummyjson.com\"}],\"returnPolicy\":\"7 days return policy\",\"minimumOrderQuantity\":1,\"meta\":{\"createdAt\":\"2024-05-23T08:56:21.620Z\",\"updatedAt\":\"2024-05-23T08:56:21.620Z\",\"barcode\":\"0426785817074\",\"qrCode\":\"https://assets.dummyjson.com/public/qr-code.png\"},\"images\":[\"https://cdn.dummyjson.com/products/images/furniture/Annibale%20Colombo%20Sofa/1.png\",\"https://cdn.dummyjson.com/products/images/furniture/Annibale%20Colombo%20Sofa/2.png\",\"https://cdn.dummyjson.com/products/images/furniture/Annibale%20Colombo%20Sofa/3.png\"],\"thumbnail\":\"https://cdn.dummyjson.com/products/images/furniture/Annibale%20Colombo%20Sofa/thumbnail.png\"},{\"id\":13,\"title\":\"Bedside Table African Cherry\",\"description\":\"The Bedside Table in African Cherry is a stylish and functional addition to your bedroom, providing convenient storage space and a touch of elegance.\",\"category\":\"furniture\",\"price\":299.99,\"discountPercentage\":9.58,\"rating\":4.48,\"stock\":16,\"tags\":[\"furniture\",\"bedside tables\"],\"brand\":\"Furniture Co.\",\"sku\":\"OWPLTZYX\",\"weight\":10,\"dimensions\":{\"width\":25.43,\"height\":20.2,\"depth\":24.95},\"warrantyInformation\":\"6 months warranty\",\"shippingInformation\":\"Ships in 1-2 business days\",\"availabilityStatus\":\"In Stock\",\"reviews\":[{\"rating\":5,\"comment\":\"Very happy with my purchase!\",\"date\":\"2024-05-23T08:56:21.620Z\",\"reviewerName\":\"John Doe\",\"reviewerEmail\":\"john.doe@x.dummyjson.com\"},{\"rating\":4,\"comment\":\"Highly recommended!\",\"date\":\"2024-05-23T08:56:21.620Z\",\"reviewerName\":\"Avery Carter\",\"reviewerEmail\":\"avery.carter@x.dummyjson.com\"},{\"rating\":4,\"comment\":\"Very pleased!\",\"date\":\"2024-05-23T08:56:21.620Z\",\"reviewerName\":\"Evelyn Sanchez\",\"reviewerEmail\":\"evelyn.sanchez@x.dummyjson.com\"}],\"returnPolicy\":\"No return policy\",\"minimumOrderQuantity\":5,\"meta\":{\"createdAt\":\"2024-05-23T08:56:21.620Z\",\"updatedAt\":\"2024-05-23T08:56:21.620Z\",\"barcode\":\"2913244159666\",\"qrCode\":\"https://assets.dummyjson.com/public/qr-code.png\"},\"images\":[\"https://cdn.dummyjson.com/products/images/furniture/Bedside%20Table%20African%20Cherry/1.png\",\"https://cdn.dummyjson.com/products/images/furniture/Bedside%20Table%20African%20Cherry/2.png\",\"https://cdn.dummyjson.com/products/images/furniture/Bedside%20Table%20African%20Cherry/3.png\"],\"thumbnail\":\"https://cdn.dummyjson.com/products/images/furniture/Bedside%20Table%20African%20Cherry/thumbnail.png\"},{\"id\":14,\"title\":\"Knoll Saarinen Executive Conference Chair\",\"description\":\"The Knoll Saarinen Executive Conference Chair is a modern and ergonomic chair, perfect for your office or conference room with its timeless design.\",\"category\":\"furniture\",\"price\":499.99,\"discountPercentage\":15.23,\"rating\":4.11,\"stock\":47,\"tags\":[\"furniture\",\"office chairs\"],\"brand\":\"Knoll\",\"sku\":\"RKHVJ4FE\",\"weight\":3,\"dimensions\":{\"width\":16.59,\"height\":21.46,\"depth\":29.07},\"warrantyInformation\":\"Lifetime warranty\",\"shippingInformation\":\"Ships in 3-5 business days\",\"availabilityStatus\":\"In Stock\",\"reviews\":[{\"rating\":4,\"comment\":\"Very happy with my purchase!\",\"date\":\"2024-05-23T08:56:21.620Z\",\"reviewerName\":\"Leah Gutierrez\",\"reviewerEmail\":\"leah.gutierrez@x.dummyjson.com\"},{\"rating\":4,\"comment\":\"Would buy again!\",\"date\":\"2024-05-23T08:56:21.620Z\",\"reviewerName\":\"Nolan Gonzalez\",\"reviewerEmail\":\"nolan.gonzalez@x.dummyjson.com\"},{\"rating\":2,\"comment\":\"Waste of money!\",\"date\":\"2024-05-23T08:56:21.620Z\",\"reviewerName\":\"Stella Morris\",\"reviewerEmail\":\"stella.morris@x.dummyjson.com\"}],\"returnPolicy\":\"30 days return policy\",\"minimumOrderQuantity\":5,\"meta\":{\"createdAt\":\"2024-05-23T08:56:21.620Z\",\"updatedAt\":\"2024-05-23T08:56:21.620Z\",\"barcode\":\"0726316339746\",\"qrCode\":\"https://assets.dummyjson.com/public/qr-code.png\"},\"images\":[\"https://cdn.dummyjson.com/products/images/furniture/Knoll%20Saarinen%20Executive%20Conference%20Chair/1.png\",\"https://cdn.dummyjson.com/products/images/furniture/Knoll%20Saarinen%20Executive%20Conference%20Chair/2.png\",\"https://cdn.dummyjson.com/products/images/furniture/Knoll%20Saarinen%20Executive%20Conference%20Chair/3.png\"],\"thumbnail\":\"https://cdn.dummyjson.com/products/images/furniture/Knoll%20Saarinen%20Executive%20Conference%20Chair/thumbnail.png\"},{\"id\":15,\"title\":\"Wooden Bathroom Sink With Mirror\",\"description\":\"The Wooden Bathroom Sink with Mirror is a unique and stylish addition to your bathroom, featuring a wooden sink countertop and a matching mirror.\",\"category\":\"furniture\",\"price\":799.99,\"discountPercentage\":11.22,\"rating\":3.26,\"stock\":95,\"tags\":[\"furniture\",\"bathroom\"],\"brand\":\"Bath Trends\",\"sku\":\"7OLTIEVO\",\"weight\":6,\"dimensions\":{\"width\":7.32,\"height\":22.64,\"depth\":12.37},\"warrantyInformation\":\"6 months warranty\",\"shippingInformation\":\"Ships in 3-5 business days\",\"availabilityStatus\":\"In Stock\",\"reviews\":[{\"rating\":5,\"comment\":\"Highly recommended!\",\"date\":\"2024-05-23T08:56:21.620Z\",\"reviewerName\":\"Charlotte Lopez\",\"reviewerEmail\":\"charlotte.lopez@x.dummyjson.com\"},{\"rating\":1,\"comment\":\"Would not recommend!\",\"date\":\"2024-05-23T08:56:21.620Z\",\"reviewerName\":\"William Gonzalez\",\"reviewerEmail\":\"william.gonzalez@x.dummyjson.com\"},{\"rating\":2,\"comment\":\"Not worth the price!\",\"date\":\"2024-05-23T08:56:21.620Z\",\"reviewerName\":\"Ava Harrison\",\"reviewerEmail\":\"ava.harrison@x.dummyjson.com\"}],\"returnPolicy\":\"7 days return policy\",\"minimumOrderQuantity\":1,\"meta\":{\"createdAt\":\"2024-05-23T08:56:21.620Z\",\"updatedAt\":\"2024-05-23T08:56:21.620Z\",\"barcode\":\"7839797529453\",\"qrCode\":\"https://assets.dummyjson.com/public/qr-code.png\"},\"images\":[\"https://cdn.dummyjson.com/products/images/furniture/Wooden%20Bathroom%20Sink%20With%20Mirror/1.png\",\"https://cdn.dummyjson.com/products/images/furniture/Wooden%20Bathroom%20Sink%20With%20Mirror/2.png\",\"https://cdn.dummyjson.com/products/images/furniture/Wooden%20Bathroom%20Sink%20With%20Mirror/3.png\"],\"thumbnail\":\"https://cdn.dummyjson.com/products/images/furniture/Wooden%20Bathroom%20Sink%20With%20Mirror/thumbnail.png\"},{\"id\":16,\"title\":\"Apple\",\"description\":\"Fresh and crisp apples, perfect for snacking or incorporating into various recipes.\",\"category\":\"groceries\",\"price\":1.99,\"discountPercentage\":1.97,\"rating\":2.96,\"stock\":9,\"tags\":[\"fruits\"],\"sku\":\"QTROUV79\",\"weight\":8,\"dimensions\":{\"width\":8.29,\"height\":5.58,\"depth\":12.41},\"warrantyInformation\":\"2 year warranty\",\"shippingInformation\":\"Ships in 2 weeks\",\"availabilityStatus\":\"In Stock\",\"reviews\":[{\"rating\":4,\"comment\":\"Great product!\",\"date\":\"2024-05-23T08:56:21.620Z\",\"reviewerName\":\"Logan Lee\",\"reviewerEmail\":\"logan.lee@x.dummyjson.com\"},{\"rating\":4,\"comment\":\"Great product!\",\"date\":\"2024-05-23T08:56:21.620Z\",\"reviewerName\":\"Elena Long\",\"reviewerEmail\":\"elena.long@x.dummyjson.com\"},{\"rating\":1,\"comment\":\"Not as described!\",\"date\":\"2024-05-23T08:56:21.620Z\",\"reviewerName\":\"Grayson Coleman\",\"reviewerEmail\":\"grayson.coleman@x.dummyjson.com\"}],\"returnPolicy\":\"60 days return policy\",\"minimumOrderQuantity\":44,\"meta\":{\"createdAt\":\"2024-05-23T08:56:21.620Z\",\"updatedAt\":\"2024-05-23T08:56:21.620Z\",\"barcode\":\"2517819903837\",\"qrCode\":\"https://assets.dummyjson.com/public/qr-code.png\"},\"images\":[\"https://cdn.dummyjson.com/products/images/groceries/Apple/1.png\"],\"thumbnail\":\"https://cdn.dummyjson.com/products/images/groceries/Apple/thumbnail.png\"},{\"id\":17,\"title\":\"Beef Steak\",\"description\":\"High-quality beef steak, great for grilling or cooking to your preferred level of doneness.\",\"category\":\"groceries\",\"price\":12.99,\"discountPercentage\":17.99,\"rating\":2.83,\"stock\":96,\"tags\":[\"meat\"],\"sku\":\"BWWA2MSO\",\"weight\":9,\"dimensions\":{\"width\":23.35,\"height\":13.48,\"depth\":26.4},\"warrantyInformation\":\"1 month warranty\",\"shippingInformation\":\"Ships overnight\",\"availabilityStatus\":\"In Stock\",\"reviews\":[{\"rating\":4,\"comment\":\"Very pleased!\",\"date\":\"2024-05-23T08:56:21.620Z\",\"reviewerName\":\"Ethan Martinez\",\"reviewerEmail\":\"ethan.martinez@x.dummyjson.com\"},{\"rating\":3,\"comment\":\"Disappointing product!\",\"date\":\"2024-05-23T08:56:21.620Z\",\"reviewerName\":\"Owen Fisher\",\"reviewerEmail\":\"owen.fisher@x.dummyjson.com\"},{\"rating\":4,\"comment\":\"Very happy with my purchase!\",\"date\":\"2024-05-23T08:56:21.620Z\",\"reviewerName\":\"Scarlett Wright\",\"reviewerEmail\":\"scarlett.wright@x.dummyjson.com\"}],\"returnPolicy\":\"90 days return policy\",\"minimumOrderQuantity\":21,\"meta\":{\"createdAt\":\"2024-05-23T08:56:21.620Z\",\"updatedAt\":\"2024-05-23T08:56:21.620Z\",\"barcode\":\"8335515097879\",\"qrCode\":\"https://assets.dummyjson.com/public/qr-code.png\"},\"images\":[\"https://cdn.dummyjson.com/products/images/groceries/Beef%20Steak/1.png\"],\"thumbnail\":\"https://cdn.dummyjson.com/products/images/groceries/Beef%20Steak/thumbnail.png\"},{\"id\":18,\"title\":\"Cat Food\",\"description\":\"Nutritious cat food formulated to meet the dietary needs of your feline friend.\",\"category\":\"groceries\",\"price\":8.99,\"discountPercentage\":9.57,\"rating\":2.88,\"stock\":13,\"tags\":[\"pet supplies\",\"cat food\"],\"sku\":\"C3F8QN6O\",\"weight\":9,\"dimensions\":{\"width\":15.4,\"height\":13.97,\"depth\":25.13},\"warrantyInformation\":\"3 months warranty\",\"shippingInformation\":\"Ships in 1-2 business days\",\"availabilityStatus\":\"In Stock\",\"reviews\":[{\"rating\":5,\"comment\":\"Very pleased!\",\"date\":\"2024-05-23T08:56:21.620Z\",\"reviewerName\":\"Mateo Bennett\",\"reviewerEmail\":\"mateo.bennett@x.dummyjson.com\"},{\"rating\":5,\"comment\":\"Very pleased!\",\"date\":\"2024-05-23T08:56:21.620Z\",\"reviewerName\":\"Aurora Barnes\",\"reviewerEmail\":\"aurora.barnes@x.dummyjson.com\"},{\"rating\":5,\"comment\":\"Great value for money!\",\"date\":\"2024-05-23T08:56:21.620Z\",\"reviewerName\":\"Ellie Stewart\",\"reviewerEmail\":\"ellie.stewart@x.dummyjson.com\"}],\"returnPolicy\":\"7 days return policy\",\"minimumOrderQuantity\":48,\"meta\":{\"createdAt\":\"2024-05-23T08:56:21.620Z\",\"updatedAt\":\"2024-05-23T08:56:21.620Z\",\"barcode\":\"5503491330693\",\"qrCode\":\"https://assets.dummyjson.com/public/qr-code.png\"},\"images\":[\"https://cdn.dummyjson.com/products/images/groceries/Cat%20Food/1.png\"],\"thumbnail\":\"https://cdn.dummyjson.com/products/images/groceries/Cat%20Food/thumbnail.png\"},{\"id\":19,\"title\":\"Chicken Meat\",\"description\":\"Fresh and tender chicken meat, suitable for various culinary preparations.\",\"category\":\"groceries\",\"price\":9.99,\"discountPercentage\":10.46,\"rating\":4.61,\"stock\":69,\"tags\":[\"meat\"],\"sku\":\"G5YEHW7B\",\"weight\":7,\"dimensions\":{\"width\":15.96,\"height\":29.24,\"depth\":26.25},\"warrantyInformation\":\"Lifetime warranty\",\"shippingInformation\":\"Ships in 1 month\",\"availabilityStatus\":\"In Stock\",\"reviews\":[{\"rating\":5,\"comment\":\"Very satisfied!\",\"date\":\"2024-05-23T08:56:21.620Z\",\"reviewerName\":\"Sophia Jones\",\"reviewerEmail\":\"sophia.jones@x.dummyjson.com\"},{\"rating\":5,\"comment\":\"Great value for money!\",\"date\":\"2024-05-23T08:56:21.620Z\",\"reviewerName\":\"Maya Reed\",\"reviewerEmail\":\"maya.reed@x.dummyjson.com\"},{\"rating\":4,\"comment\":\"Highly recommended!\",\"date\":\"2024-05-23T08:56:21.620Z\",\"reviewerName\":\"Harper Turner\",\"reviewerEmail\":\"harper.turner@x.dummyjson.com\"}],\"returnPolicy\":\"7 days return policy\",\"minimumOrderQuantity\":46,\"meta\":{\"createdAt\":\"2024-05-23T08:56:21.620Z\",\"updatedAt\":\"2024-05-23T08:56:21.620Z\",\"barcode\":\"0966223559510\",\"qrCode\":\"https://assets.dummyjson.com/public/qr-code.png\"},\"images\":[\"https://cdn.dummyjson.com/products/images/groceries/Chicken%20Meat/1.png\",\"https://cdn.dummyjson.com/products/images/groceries/Chicken%20Meat/2.png\"],\"thumbnail\":\"https://cdn.dummyjson.com/products/images/groceries/Chicken%20Meat/thumbnail.png\"},{\"id\":20,\"title\":\"Cooking Oil\",\"description\":\"Versatile cooking oil suitable for frying, sautéing, and various culinary applications.\",\"category\":\"groceries\",\"price\":4.99,\"discountPercentage\":18.89,\"rating\":4.01,\"stock\":22,\"tags\":[\"cooking essentials\"],\"sku\":\"Q6ZP1UY8\",\"weight\":8,\"dimensions\":{\"width\":8.18,\"height\":27.45,\"depth\":27.88},\"warrantyInformation\":\"Lifetime warranty\",\"shippingInformation\":\"Ships in 1 month\",\"availabilityStatus\":\"In Stock\",\"reviews\":[{\"rating\":5,\"comment\":\"Would buy again!\",\"date\":\"2024-05-23T08:56:21.620Z\",\"reviewerName\":\"Mason Parker\",\"reviewerEmail\":\"mason.parker@x.dummyjson.com\"},{\"rating\":3,\"comment\":\"Poor quality!\",\"date\":\"2024-05-23T08:56:21.620Z\",\"reviewerName\":\"Jonathan Pierce\",\"reviewerEmail\":\"jonathan.pierce@x.dummyjson.com\"},{\"rating\":5,\"comment\":\"Would buy again!\",\"date\":\"2024-05-23T08:56:21.620Z\",\"reviewerName\":\"Alexander Hernandez\",\"reviewerEmail\":\"alexander.hernandez@x.dummyjson.com\"}],\"returnPolicy\":\"60 days return policy\",\"minimumOrderQuantity\":2,\"meta\":{\"createdAt\":\"2024-05-23T08:56:21.620Z\",\"updatedAt\":\"2024-05-23T08:56:21.620Z\",\"barcode\":\"6707669443381\",\"qrCode\":\"https://assets.dummyjson.com/public/qr-code.png\"},\"images\":[\"https://cdn.dummyjson.com/products/images/groceries/Cooking%20Oil/1.png\"],\"thumbnail\":\"https://cdn.dummyjson.com/products/images/groceries/Cooking%20Oil/thumbnail.png\"},{\"id\":21,\"title\":\"Cucumber\",\"description\":\"Crisp and hydrating cucumbers, ideal for salads, snacks, or as a refreshing side.\",\"category\":\"groceries\",\"price\":1.49,\"discountPercentage\":11.44,\"rating\":4.71,\"stock\":22,\"tags\":[\"vegetables\"],\"sku\":\"6KGF2K6Z\",\"weight\":9,\"dimensions\":{\"width\":11.04,\"height\":20.5,\"depth\":8.18},\"warrantyInformation\":\"5 year warranty\",\"shippingInformation\":\"Ships overnight\",\"availabilityStatus\":\"In Stock\",\"reviews\":[{\"rating\":4,\"comment\":\"Very satisfied!\",\"date\":\"2024-05-23T08:56:21.620Z\",\"reviewerName\":\"Elijah Hill\",\"reviewerEmail\":\"elijah.hill@x.dummyjson.com\"},{\"rating\":5,\"comment\":\"Fast shipping!\",\"date\":\"2024-05-23T08:56:21.620Z\",\"reviewerName\":\"Liam Garcia\",\"reviewerEmail\":\"liam.garcia@x.dummyjson.com\"},{\"rating\":4,\"comment\":\"Excellent quality!\",\"date\":\"2024-05-23T08:56:21.620Z\",\"reviewerName\":\"Ella Cook\",\"reviewerEmail\":\"ella.cook@x.dummyjson.com\"}],\"returnPolicy\":\"30 days return policy\",\"minimumOrderQuantity\":7,\"meta\":{\"createdAt\":\"2024-05-23T08:56:21.620Z\",\"updatedAt\":\"2024-05-23T08:56:21.620Z\",\"barcode\":\"2597004869708\",\"qrCode\":\"https://assets.dummyjson.com/public/qr-code.png\"},\"images\":[\"https://cdn.dummyjson.com/products/images/groceries/Cucumber/1.png\"],\"thumbnail\":\"https://cdn.dummyjson.com/products/images/groceries/Cucumber/thumbnail.png\"},{\"id\":22,\"title\":\"Dog Food\",\"description\":\"Specially formulated dog food designed to provide essential nutrients for your canine companion.\",\"category\":\"groceries\",\"price\":10.99,\"discountPercentage\":18.15,\"rating\":2.74,\"stock\":40,\"tags\":[\"pet supplies\",\"dog food\"],\"sku\":\"A6QRCH37\",\"weight\":2,\"dimensions\":{\"width\":29.39,\"height\":29.77,\"depth\":20.54},\"warrantyInformation\":\"1 year warranty\",\"shippingInformation\":\"Ships in 1 month\",\"availabilityStatus\":\"In Stock\",\"reviews\":[{\"rating\":5,\"comment\":\"Highly impressed!\",\"date\":\"2024-05-23T08:56:21.620Z\",\"reviewerName\":\"Leo Rivera\",\"reviewerEmail\":\"leo.rivera@x.dummyjson.com\"},{\"rating\":4,\"comment\":\"Highly recommended!\",\"date\":\"2024-05-23T08:56:21.620Z\",\"reviewerName\":\"Alexander Jones\",\"reviewerEmail\":\"alexander.jones@x.dummyjson.com\"},{\"rating\":4,\"comment\":\"Would buy again!\",\"date\":\"2024-05-23T08:56:21.620Z\",\"reviewerName\":\"Addison Wright\",\"reviewerEmail\":\"addison.wright@x.dummyjson.com\"}],\"returnPolicy\":\"90 days return policy\",\"minimumOrderQuantity\":29,\"meta\":{\"createdAt\":\"2024-05-23T08:56:21.620Z\",\"updatedAt\":\"2024-05-23T08:56:21.620Z\",\"barcode\":\"7957222289508\",\"qrCode\":\"https://assets.dummyjson.com/public/qr-code.png\"},\"images\":[\"https://cdn.dummyjson.com/products/images/groceries/Dog%20Food/1.png\"],\"thumbnail\":\"https://cdn.dummyjson.com/products/images/groceries/Dog%20Food/thumbnail.png\"},{\"id\":23,\"title\":\"Eggs\",\"description\":\"Fresh eggs, a versatile ingredient for baking, cooking, or breakfast.\",\"category\":\"groceries\",\"price\":2.99,\"discountPercentage\":5.8,\"rating\":4.46,\"stock\":10,\"tags\":[\"dairy\"],\"sku\":\"YA617RI7\",\"weight\":4,\"dimensions\":{\"width\":12.3,\"height\":10.99,\"depth\":15.53},\"warrantyInformation\":\"3 year warranty\",\"shippingInformation\":\"Ships overnight\",\"availabilityStatus\":\"In Stock\",\"reviews\":[{\"rating\":2,\"comment\":\"Very unhappy with my purchase!\",\"date\":\"2024-05-23T08:56:21.620Z\",\"reviewerName\":\"Mateo Perez\",\"reviewerEmail\":\"mateo.perez@x.dummyjson.com\"},{\"rating\":4,\"comment\":\"Very happy with my purchase!\",\"date\":\"2024-05-23T08:56:21.620Z\",\"reviewerName\":\"Cameron Perez\",\"reviewerEmail\":\"cameron.perez@x.dummyjson.com\"},{\"rating\":5,\"comment\":\"Very happy with my purchase!\",\"date\":\"2024-05-23T08:56:21.620Z\",\"reviewerName\":\"Aurora Barnes\",\"reviewerEmail\":\"aurora.barnes@x.dummyjson.com\"}],\"returnPolicy\":\"30 days return policy\",\"minimumOrderQuantity\":43,\"meta\":{\"createdAt\":\"2024-05-23T08:56:21.620Z\",\"updatedAt\":\"2024-05-23T08:56:21.620Z\",\"barcode\":\"7095702028776\",\"qrCode\":\"https://assets.dummyjson.com/public/qr-code.png\"},\"images\":[\"https://cdn.dummyjson.com/products/images/groceries/Eggs/1.png\"],\"thumbnail\":\"https://cdn.dummyjson.com/products/images/groceries/Eggs/thumbnail.png\"},{\"id\":24,\"title\":\"Fish Steak\",\"description\":\"Quality fish steak, suitable for grilling, baking, or pan-searing.\",\"category\":\"groceries\",\"price\":14.99,\"discountPercentage\":7,\"rating\":4.83,\"stock\":99,\"tags\":[\"seafood\"],\"sku\":\"XNIH1MTA\",\"weight\":8,\"dimensions\":{\"width\":20.14,\"height\":8.4,\"depth\":10.01},\"warrantyInformation\":\"1 year warranty\",\"shippingInformation\":\"Ships in 1 month\",\"availabilityStatus\":\"In Stock\",\"reviews\":[{\"rating\":5,\"comment\":\"Great value for money!\",\"date\":\"2024-05-23T08:56:21.620Z\",\"reviewerName\":\"Michael Johnson\",\"reviewerEmail\":\"michael.johnson@x.dummyjson.com\"},{\"rating\":4,\"comment\":\"Would buy again!\",\"date\":\"2024-05-23T08:56:21.620Z\",\"reviewerName\":\"Julian Newton\",\"reviewerEmail\":\"julian.newton@x.dummyjson.com\"},{\"rating\":5,\"comment\":\"Excellent quality!\",\"date\":\"2024-05-23T08:56:21.620Z\",\"reviewerName\":\"Lila Hudson\",\"reviewerEmail\":\"lila.hudson@x.dummyjson.com\"}],\"returnPolicy\":\"30 days return policy\",\"minimumOrderQuantity\":49,\"meta\":{\"createdAt\":\"2024-05-23T08:56:21.620Z\",\"updatedAt\":\"2024-05-23T08:56:21.620Z\",\"barcode\":\"4250692197342\",\"qrCode\":\"https://assets.dummyjson.com/public/qr-code.png\"},\"images\":[\"https://cdn.dummyjson.com/products/images/groceries/Fish%20Steak/1.png\"],\"thumbnail\":\"https://cdn.dummyjson.com/products/images/groceries/Fish%20Steak/thumbnail.png\"},{\"id\":25,\"title\":\"Green Bell Pepper\",\"description\":\"Fresh and vibrant green bell pepper, perfect for adding color and flavor to your dishes.\",\"category\":\"groceries\",\"price\":1.29,\"discountPercentage\":15.5,\"rating\":4.28,\"stock\":89,\"tags\":[\"vegetables\"],\"sku\":\"HU7S7VQ0\",\"weight\":7,\"dimensions\":{\"width\":7.32,\"height\":14.31,\"depth\":21.38},\"warrantyInformation\":\"5 year warranty\",\"shippingInformation\":\"Ships overnight\",\"availabilityStatus\":\"In Stock\",\"reviews\":[{\"rating\":4,\"comment\":\"Excellent quality!\",\"date\":\"2024-05-23T08:56:21.620Z\",\"reviewerName\":\"Maya Reed\",\"reviewerEmail\":\"maya.reed@x.dummyjson.com\"},{\"rating\":4,\"comment\":\"Would buy again!\",\"date\":\"2024-05-23T08:56:21.620Z\",\"reviewerName\":\"Madison Collins\",\"reviewerEmail\":\"madison.collins@x.dummyjson.com\"},{\"rating\":5,\"comment\":\"Would buy again!\",\"date\":\"2024-05-23T08:56:21.620Z\",\"reviewerName\":\"Ethan Thompson\",\"reviewerEmail\":\"ethan.thompson@x.dummyjson.com\"}],\"returnPolicy\":\"30 days return policy\",\"minimumOrderQuantity\":1,\"meta\":{\"createdAt\":\"2024-05-23T08:56:21.620Z\",\"updatedAt\":\"2024-05-23T08:56:21.620Z\",\"barcode\":\"7583442707568\",\"qrCode\":\"https://assets.dummyjson.com/public/qr-code.png\"},\"images\":[\"https://cdn.dummyjson.com/products/images/groceries/Green%20Bell%20Pepper/1.png\"],\"thumbnail\":\"https://cdn.dummyjson.com/products/images/groceries/Green%20Bell%20Pepper/thumbnail.png\"},{\"id\":26,\"title\":\"Green Chili Pepper\",\"description\":\"Spicy green chili pepper, ideal for adding heat to your favorite recipes.\",\"category\":\"groceries\",\"price\":0.99,\"discountPercentage\":18.51,\"rating\":4.43,\"stock\":8,\"tags\":[\"vegetables\"],\"sku\":\"Y4RM3JCB\",\"weight\":2,\"dimensions\":{\"width\":18.67,\"height\":21.17,\"depth\":25.26},\"warrantyInformation\":\"No warranty\",\"shippingInformation\":\"Ships in 1-2 business days\",\"availabilityStatus\":\"In Stock\",\"reviews\":[{\"rating\":2,\"comment\":\"Disappointing product!\",\"date\":\"2024-05-23T08:56:21.620Z\",\"reviewerName\":\"Mateo Bennett\",\"reviewerEmail\":\"mateo.bennett@x.dummyjson.com\"},{\"rating\":5,\"comment\":\"Very pleased!\",\"date\":\"2024-05-23T08:56:21.620Z\",\"reviewerName\":\"Natalie Price\",\"reviewerEmail\":\"natalie.price@x.dummyjson.com\"},{\"rating\":4,\"comment\":\"Very satisfied!\",\"date\":\"2024-05-23T08:56:21.620Z\",\"reviewerName\":\"Avery Barnes\",\"reviewerEmail\":\"avery.barnes@x.dummyjson.com\"}],\"returnPolicy\":\"30 days return policy\",\"minimumOrderQuantity\":43,\"meta\":{\"createdAt\":\"2024-05-23T08:56:21.620Z\",\"updatedAt\":\"2024-05-23T08:56:21.620Z\",\"barcode\":\"8400326844874\",\"qrCode\":\"https://assets.dummyjson.com/public/qr-code.png\"},\"images\":[\"https://cdn.dummyjson.com/products/images/groceries/Green%20Chili%20Pepper/1.png\"],\"thumbnail\":\"https://cdn.dummyjson.com/products/images/groceries/Green%20Chili%20Pepper/thumbnail.png\"},{\"id\":27,\"title\":\"Honey Jar\",\"description\":\"Pure and natural honey in a convenient jar, perfect for sweetening beverages or drizzling over food.\",\"category\":\"groceries\",\"price\":6.99,\"discountPercentage\":1.91,\"rating\":3.5,\"stock\":25,\"tags\":[\"condiments\"],\"sku\":\"BTBNIIOU\",\"weight\":9,\"dimensions\":{\"width\":26.53,\"height\":27.11,\"depth\":6.63},\"warrantyInformation\":\"2 year warranty\",\"shippingInformation\":\"Ships overnight\",\"availabilityStatus\":\"In Stock\",\"reviews\":[{\"rating\":4,\"comment\":\"Fast shipping!\",\"date\":\"2024-05-23T08:56:21.620Z\",\"reviewerName\":\"Nicholas Bailey\",\"reviewerEmail\":\"nicholas.bailey@x.dummyjson.com\"},{\"rating\":5,\"comment\":\"Awesome product!\",\"date\":\"2024-05-23T08:56:21.620Z\",\"reviewerName\":\"Gabriel Hayes\",\"reviewerEmail\":\"gabriel.hayes@x.dummyjson.com\"},{\"rating\":5,\"comment\":\"Highly impressed!\",\"date\":\"2024-05-23T08:56:21.620Z\",\"reviewerName\":\"James Garcia\",\"reviewerEmail\":\"james.garcia@x.dummyjson.com\"}],\"returnPolicy\":\"90 days return policy\",\"minimumOrderQuantity\":1,\"meta\":{\"createdAt\":\"2024-05-23T08:56:21.620Z\",\"updatedAt\":\"2024-05-23T08:56:21.620Z\",\"barcode\":\"0668665656044\",\"qrCode\":\"https://assets.dummyjson.com/public/qr-code.png\"},\"images\":[\"https://cdn.dummyjson.com/products/images/groceries/Honey%20Jar/1.png\"],\"thumbnail\":\"https://cdn.dummyjson.com/products/images/groceries/Honey%20Jar/thumbnail.png\"},{\"id\":28,\"title\":\"Ice Cream\",\"description\":\"Creamy and delicious ice cream, available in various flavors for a delightful treat.\",\"category\":\"groceries\",\"price\":5.49,\"discountPercentage\":7.58,\"rating\":3.77,\"stock\":76,\"tags\":[\"desserts\"],\"sku\":\"VEZMU1EQ\",\"weight\":5,\"dimensions\":{\"width\":17.66,\"height\":24.49,\"depth\":25.98},\"warrantyInformation\":\"2 year warranty\",\"shippingInformation\":\"Ships in 2 weeks\",\"availabilityStatus\":\"In Stock\",\"reviews\":[{\"rating\":5,\"comment\":\"Great product!\",\"date\":\"2024-05-23T08:56:21.620Z\",\"reviewerName\":\"Elena Baker\",\"reviewerEmail\":\"elena.baker@x.dummyjson.com\"},{\"rating\":5,\"comment\":\"Highly impressed!\",\"date\":\"2024-05-23T08:56:21.620Z\",\"reviewerName\":\"Madeline Simpson\",\"reviewerEmail\":\"madeline.simpson@x.dummyjson.com\"},{\"rating\":5,\"comment\":\"Very happy with my purchase!\",\"date\":\"2024-05-23T08:56:21.620Z\",\"reviewerName\":\"Caleb Nelson\",\"reviewerEmail\":\"caleb.nelson@x.dummyjson.com\"}],\"returnPolicy\":\"No return policy\",\"minimumOrderQuantity\":19,\"meta\":{\"createdAt\":\"2024-05-23T08:56:21.620Z\",\"updatedAt\":\"2024-05-23T08:56:21.620Z\",\"barcode\":\"9603960319256\",\"qrCode\":\"https://assets.dummyjson.com/public/qr-code.png\"},\"images\":[\"https://cdn.dummyjson.com/products/images/groceries/Ice%20Cream/1.png\",\"https://cdn.dummyjson.com/products/images/groceries/Ice%20Cream/2.png\",\"https://cdn.dummyjson.com/products/images/groceries/Ice%20Cream/3.png\",\"https://cdn.dummyjson.com/products/images/groceries/Ice%20Cream/4.png\"],\"thumbnail\":\"https://cdn.dummyjson.com/products/images/groceries/Ice%20Cream/thumbnail.png\"},{\"id\":29,\"title\":\"Juice\",\"description\":\"Refreshing fruit juice, packed with vitamins and great for staying hydrated.\",\"category\":\"groceries\",\"price\":3.99,\"discountPercentage\":5.45,\"rating\":3.41,\"stock\":99,\"tags\":[\"beverages\"],\"sku\":\"M2K19S06\",\"weight\":2,\"dimensions\":{\"width\":8.97,\"height\":12.26,\"depth\":15.05},\"warrantyInformation\":\"1 week warranty\",\"shippingInformation\":\"Ships in 1-2 business days\",\"availabilityStatus\":\"In Stock\",\"reviews\":[{\"rating\":4,\"comment\":\"Very satisfied!\",\"date\":\"2024-05-23T08:56:21.620Z\",\"reviewerName\":\"Leo Rivera\",\"reviewerEmail\":\"leo.rivera@x.dummyjson.com\"},{\"rating\":2,\"comment\":\"Not worth the price!\",\"date\":\"2024-05-23T08:56:21.620Z\",\"reviewerName\":\"Ethan Martinez\",\"reviewerEmail\":\"ethan.martinez@x.dummyjson.com\"},{\"rating\":4,\"comment\":\"Excellent quality!\",\"date\":\"2024-05-23T08:56:21.620Z\",\"reviewerName\":\"Max Parker\",\"reviewerEmail\":\"max.parker@x.dummyjson.com\"}],\"returnPolicy\":\"90 days return policy\",\"minimumOrderQuantity\":26,\"meta\":{\"createdAt\":\"2024-05-23T08:56:21.620Z\",\"updatedAt\":\"2024-05-23T08:56:21.620Z\",\"barcode\":\"8546824122355\",\"qrCode\":\"https://assets.dummyjson.com/public/qr-code.png\"},\"images\":[\"https://cdn.dummyjson.com/products/images/groceries/Juice/1.png\"],\"thumbnail\":\"https://cdn.dummyjson.com/products/images/groceries/Juice/thumbnail.png\"},{\"id\":30,\"title\":\"Kiwi\",\"description\":\"Nutrient-rich kiwi, perfect for snacking or adding a tropical twist to your dishes.\",\"category\":\"groceries\",\"price\":2.49,\"discountPercentage\":10.32,\"rating\":4.37,\"stock\":1,\"tags\":[\"fruits\"],\"sku\":\"0X3NORB9\",\"weight\":8,\"dimensions\":{\"width\":27.3,\"height\":7.48,\"depth\":15.08},\"warrantyInformation\":\"6 months warranty\",\"shippingInformation\":\"Ships in 3-5 business days\",\"availabilityStatus\":\"Low Stock\",\"reviews\":[{\"rating\":5,\"comment\":\"Very pleased!\",\"date\":\"2024-05-23T08:56:21.620Z\",\"reviewerName\":\"Nora Russell\",\"reviewerEmail\":\"nora.russell@x.dummyjson.com\"},{\"rating\":5,\"comment\":\"Very pleased!\",\"date\":\"2024-05-23T08:56:21.620Z\",\"reviewerName\":\"Dylan Wells\",\"reviewerEmail\":\"dylan.wells@x.dummyjson.com\"},{\"rating\":5,\"comment\":\"Great product!\",\"date\":\"2024-05-23T08:56:21.620Z\",\"reviewerName\":\"Noah Hernandez\",\"reviewerEmail\":\"noah.hernandez@x.dummyjson.com\"}],\"returnPolicy\":\"7 days return policy\",\"minimumOrderQuantity\":8,\"meta\":{\"createdAt\":\"2024-05-23T08:56:21.620Z\",\"updatedAt\":\"2024-05-23T08:56:21.620Z\",\"barcode\":\"3325493172934\",\"qrCode\":\"https://assets.dummyjson.com/public/qr-code.png\"},\"images\":[\"https://cdn.dummyjson.com/products/images/groceries/Kiwi/1.png\"],\"thumbnail\":\"https://cdn.dummyjson.com/products/images/groceries/Kiwi/thumbnail.png\"}],\"total\":194,\"skip\":0,\"limit\":30}'"
            ],
            "application/vnd.google.colaboratory.intrinsic+json": {
              "type": "string"
            }
          },
          "metadata": {},
          "execution_count": 5
        }
      ]
    },
    {
      "cell_type": "code",
      "source": [
        "get_response.json()['products'][0]"
      ],
      "metadata": {
        "colab": {
          "base_uri": "https://localhost:8080/"
        },
        "id": "vHra3xgHIfLL",
        "outputId": "dad4ee02-fb2c-4128-d1d7-dbbbd1969aec"
      },
      "execution_count": null,
      "outputs": [
        {
          "output_type": "execute_result",
          "data": {
            "text/plain": [
              "{'id': 1,\n",
              " 'title': 'Essence Mascara Lash Princess',\n",
              " 'description': 'The Essence Mascara Lash Princess is a popular mascara known for its volumizing and lengthening effects. Achieve dramatic lashes with this long-lasting and cruelty-free formula.',\n",
              " 'category': 'beauty',\n",
              " 'price': 9.99,\n",
              " 'discountPercentage': 7.17,\n",
              " 'rating': 4.94,\n",
              " 'stock': 5,\n",
              " 'tags': ['beauty', 'mascara'],\n",
              " 'brand': 'Essence',\n",
              " 'sku': 'RCH45Q1A',\n",
              " 'weight': 2,\n",
              " 'dimensions': {'width': 23.17, 'height': 14.43, 'depth': 28.01},\n",
              " 'warrantyInformation': '1 month warranty',\n",
              " 'shippingInformation': 'Ships in 1 month',\n",
              " 'availabilityStatus': 'Low Stock',\n",
              " 'reviews': [{'rating': 2,\n",
              "   'comment': 'Very unhappy with my purchase!',\n",
              "   'date': '2024-05-23T08:56:21.618Z',\n",
              "   'reviewerName': 'John Doe',\n",
              "   'reviewerEmail': 'john.doe@x.dummyjson.com'},\n",
              "  {'rating': 2,\n",
              "   'comment': 'Not as described!',\n",
              "   'date': '2024-05-23T08:56:21.618Z',\n",
              "   'reviewerName': 'Nolan Gonzalez',\n",
              "   'reviewerEmail': 'nolan.gonzalez@x.dummyjson.com'},\n",
              "  {'rating': 5,\n",
              "   'comment': 'Very satisfied!',\n",
              "   'date': '2024-05-23T08:56:21.618Z',\n",
              "   'reviewerName': 'Scarlett Wright',\n",
              "   'reviewerEmail': 'scarlett.wright@x.dummyjson.com'}],\n",
              " 'returnPolicy': '30 days return policy',\n",
              " 'minimumOrderQuantity': 24,\n",
              " 'meta': {'createdAt': '2024-05-23T08:56:21.618Z',\n",
              "  'updatedAt': '2024-05-23T08:56:21.618Z',\n",
              "  'barcode': '9164035109868',\n",
              "  'qrCode': 'https://assets.dummyjson.com/public/qr-code.png'},\n",
              " 'images': ['https://cdn.dummyjson.com/products/images/beauty/Essence%20Mascara%20Lash%20Princess/1.png'],\n",
              " 'thumbnail': 'https://cdn.dummyjson.com/products/images/beauty/Essence%20Mascara%20Lash%20Princess/thumbnail.png'}"
            ]
          },
          "metadata": {},
          "execution_count": 9
        }
      ]
    },
    {
      "cell_type": "code",
      "source": [
        "get_response.json()['products'][0]['title']"
      ],
      "metadata": {
        "colab": {
          "base_uri": "https://localhost:8080/",
          "height": 35
        },
        "id": "Ey0e3cCPIklU",
        "outputId": "7b8fe626-4195-4e24-8022-f730d682bf15"
      },
      "execution_count": null,
      "outputs": [
        {
          "output_type": "execute_result",
          "data": {
            "text/plain": [
              "'Essence Mascara Lash Princess'"
            ],
            "application/vnd.google.colaboratory.intrinsic+json": {
              "type": "string"
            }
          },
          "metadata": {},
          "execution_count": 10
        }
      ]
    },
    {
      "cell_type": "markdown",
      "source": [
        "POST Method:\n",
        "1. the POST method is used to submit data to the server\n",
        "2. it is commonly use to create new resources or send data to proceed.\n",
        "3.POST requests contains the request body that hold the data to be submitted."
      ],
      "metadata": {
        "id": "2LdJuHDOJBaW"
      }
    },
    {
      "cell_type": "code",
      "source": [
        "headers = { 'Content-Type': 'application/json' }  # Indicates the type of data being sent to the server\n",
        "body = {'title': 'BMW Pencil'}\n",
        "string_body = json.dumps(body)\n",
        "post_response = requests.post('https://dummyjson.com/products/add',headers = headers,data = string_body)\n",
        "post_response.status_code"
      ],
      "metadata": {
        "colab": {
          "base_uri": "https://localhost:8080/"
        },
        "id": "N1p6ssq0I5NZ",
        "outputId": "95a9dfca-5bc3-4d08-a764-4bcabdbe4796"
      },
      "execution_count": null,
      "outputs": [
        {
          "output_type": "execute_result",
          "data": {
            "text/plain": [
              "201"
            ]
          },
          "metadata": {},
          "execution_count": 14
        }
      ]
    },
    {
      "cell_type": "code",
      "source": [
        "post_response.json()"
      ],
      "metadata": {
        "colab": {
          "base_uri": "https://localhost:8080/"
        },
        "id": "cHwLyUvPKXSQ",
        "outputId": "b4354fa0-70ef-43b9-a4e6-64334db7cf19"
      },
      "execution_count": null,
      "outputs": [
        {
          "output_type": "execute_result",
          "data": {
            "text/plain": [
              "{'id': 195, 'title': 'BMW Pencil'}"
            ]
          },
          "metadata": {},
          "execution_count": 15
        }
      ]
    },
    {
      "cell_type": "code",
      "source": [
        "dict_example = [\n",
        "    {\"name\": \"jhon\", \"occupation\": \"firefighter\"},\n",
        "    {\"name\": \"alex\", \"occupation\": \"nurse\"},\n",
        "    {\"name\": \"joe\", \"occupation\": \"food tester\"}\n",
        "]\n",
        "type(dict_example)"
      ],
      "metadata": {
        "colab": {
          "base_uri": "https://localhost:8080/"
        },
        "id": "oXfLNKI4K3Uj",
        "outputId": "c86d0929-78f9-4c60-dc0a-5100138723c4"
      },
      "execution_count": null,
      "outputs": [
        {
          "output_type": "execute_result",
          "data": {
            "text/plain": [
              "list"
            ]
          },
          "metadata": {},
          "execution_count": 16
        }
      ]
    },
    {
      "cell_type": "code",
      "source": [
        "print(json.dumps(dict_example, indent = 3))"
      ],
      "metadata": {
        "colab": {
          "base_uri": "https://localhost:8080/"
        },
        "id": "CW_0xC1oK9bC",
        "outputId": "d5f95d7e-7f58-460a-a9e8-49daaba8f85a"
      },
      "execution_count": null,
      "outputs": [
        {
          "output_type": "stream",
          "name": "stdout",
          "text": [
            "[\n",
            "   {\n",
            "      \"name\": \"jhon\",\n",
            "      \"occupation\": \"firefighter\"\n",
            "   },\n",
            "   {\n",
            "      \"name\": \"alex\",\n",
            "      \"occupation\": \"nurse\"\n",
            "   },\n",
            "   {\n",
            "      \"name\": \"joe\",\n",
            "      \"occupation\": \"food tester\"\n",
            "   }\n",
            "]\n"
          ]
        }
      ]
    },
    {
      "cell_type": "markdown",
      "source": [
        "# Problem statement\n",
        "Write a function that interacts with the 'Restful Booker' API to retrieve guest booking details for a specified range of booking IDs. The returned data will enable analysts to efficiently analyze and process hotel reservation information.\n",
        "# New Section\n",
        "API Details: https://restful-booker.herokuapp.com/apidoc/index.html.\n",
        "# Input:\n",
        "The function should take two integer inputs: a starting booking ID (start_booking_id) and an ending booking ID (start_booking_id).To performs this task for a specified range of booking IDs (from 1 to 9).\n",
        "# Output:\n",
        "[{'firstname': 'Mary', 'lastname': 'Ericsson', 'totalprice': 508, 'depositpaid': False, 'bookingdates': {'checkin': '2016-01-18', 'checkout': '2020-12-23'}, 'additionalneeds': 'Breakfast'}, {'firstname': 'Susan', 'lastname': 'Jones', 'totalprice': 448, 'depositpaid': False, 'bookingdates': {'checkin': '2020-08-02', 'checkout': '2023-02-05'}}, {'firstname': 'Mary', 'lastname': 'Jackson', 'totalprice': 698, 'depositpaid': True, 'bookingdates': {'checkin': '2015-11-17', 'checkout': '2016-10-25'}}, {'firstname': 'Eric', 'lastname': 'Smith', 'totalprice': 922, 'depositpaid': False, 'bookingdates': {'checkin': '2015-02-08', 'checkout': '2021-07-26'}, 'additionalneeds': 'Breakfast'}, {'firstname': 'Mary', 'lastname': 'Jones', 'totalprice': 665, 'depositpaid': False, 'bookingdates': {'checkin': '2023-09-03', 'checkout': '2023-09-05'}}, {'firstname': 'Jim', 'lastname': 'Jackson', 'totalprice': 319, 'depositpaid': False, 'bookingdates': {'checkin': '2021-07-01', 'checkout': '2023-06-28'}, 'additionalneeds': 'Breakfast'}, {'firstname': 'Jim', 'lastname': 'Ericsson', 'totalprice': 160, 'depositpaid': False, 'bookingdates': {'checkin': '2019-11-18', 'checkout': '2020-03-04'}}, {'firstname': 'Mary', 'lastname': 'Wilson', 'totalprice': 503, 'depositpaid': False, 'bookingdates': {'checkin': '2018-01-23', 'checkout': '2021-08-04'}}, {'firstname': 'Mary', 'lastname': 'Jones', 'totalprice': 217, 'depositpaid': True, 'bookingdates': {'checkin': '2015-06-04', 'checkout': '2017-08-06'}}]\n",
        "# Hint:\n",
        "Utilize the GET /booking/{bookingId} endpoint to retrieve the details of each booking."
      ],
      "metadata": {
        "id": "t6cAsAv2J4d_"
      }
    },
    {
      "cell_type": "code",
      "source": [
        "import requests\n",
        "import json\n",
        "response = requests.get('https://restful-booker.herokuapp.com/booking')\n",
        "response.status_code"
      ],
      "metadata": {
        "id": "UahlNnGlLEpW",
        "colab": {
          "base_uri": "https://localhost:8080/"
        },
        "outputId": "aeccce46-c8e4-43c7-febf-a753fe480857"
      },
      "execution_count": 13,
      "outputs": [
        {
          "output_type": "execute_result",
          "data": {
            "text/plain": [
              "200"
            ]
          },
          "metadata": {},
          "execution_count": 13
        }
      ]
    },
    {
      "cell_type": "code",
      "source": [
        "response.text"
      ],
      "metadata": {
        "colab": {
          "base_uri": "https://localhost:8080/",
          "height": 143
        },
        "id": "24wEZMEVKVii",
        "outputId": "cf6b7ded-aba6-4a36-c4f4-0109e9cd1447"
      },
      "execution_count": 14,
      "outputs": [
        {
          "output_type": "execute_result",
          "data": {
            "text/plain": [
              "'[{\"bookingid\":3120},{\"bookingid\":3542},{\"bookingid\":2009},{\"bookingid\":2130},{\"bookingid\":2722},{\"bookingid\":181},{\"bookingid\":3655},{\"bookingid\":3799},{\"bookingid\":797},{\"bookingid\":3910},{\"bookingid\":3894},{\"bookingid\":3897},{\"bookingid\":2069},{\"bookingid\":2741},{\"bookingid\":1679},{\"bookingid\":3845},{\"bookingid\":2115},{\"bookingid\":2386},{\"bookingid\":3000},{\"bookingid\":1166},{\"bookingid\":2765},{\"bookingid\":1224},{\"bookingid\":1533},{\"bookingid\":1336},{\"bookingid\":1071},{\"bookingid\":3244},{\"bookingid\":1316},{\"bookingid\":3464},{\"bookingid\":175},{\"bookingid\":384},{\"bookingid\":546},{\"bookingid\":2501},{\"bookingid\":2757},{\"bookingid\":158},{\"bookingid\":669},{\"bookingid\":2111},{\"bookingid\":32},{\"bookingid\":824},{\"bookingid\":3643},{\"bookingid\":2707},{\"bookingid\":1859},{\"bookingid\":2265},{\"bookingid\":3596},{\"bookingid\":1737},{\"bookingid\":3359},{\"bookingid\":2951},{\"bookingid\":2891},{\"bookingid\":2852},{\"bookingid\":1198},{\"bookingid\":3292},{\"bookingid\":1759},{\"bookingid\":3892},{\"bookingid\":474},{\"bookingid\":627},{\"bookingid\":3562},{\"bookingid\":2862},{\"bookingid\":887},{\"bookingid\":3187},{\"bookingid\":3023},{\"bookingid\":1438},{\"bookingid\":3371},{\"bookingid\":3266},{\"bookingid\":3076},{\"bookingid\":1686},{\"bookingid\":2165},{\"bookingid\":1251},{\"bookingid\":288},{\"bookingid\":68},{\"bookingid\":1578},{\"bookingid\":1646},{\"bookingid\":1110},{\"bookingid\":2789},{\"bookingid\":3004},{\"bookingid\":3195},{\"bookingid\":932},{\"bookingid\":452},{\"bookingid\":2104},{\"bookingid\":1497},{\"bookingid\":1913},{\"bookingid\":3844},{\"bookingid\":283},{\"bookingid\":3536},{\"bookingid\":2894},{\"bookingid\":3836},{\"bookingid\":1500},{\"bookingid\":2626},{\"bookingid\":1703},{\"bookingid\":2045},{\"bookingid\":224},{\"bookingid\":2296},{\"bookingid\":1450},{\"bookingid\":3097},{\"bookingid\":829},{\"bookingid\":3846},{\"bookingid\":513},{\"bookingid\":717},{\"bookingid\":723},{\"bookingid\":3853},{\"bookingid\":2944},{\"bookingid\":2601},{\"bookingid\":2311},{\"bookingid\":3742},{\"bookingid\":1821},{\"bookingid\":2910},{\"bookingid\":2711},{\"bookingid\":1055},{\"bookingid\":2256},{\"bookingid\":18},{\"bookingid\":435},{\"bookingid\":2353},{\"bookingid\":1058},{\"bookingid\":3003},{\"bookingid\":996},{\"bookingid\":1727},{\"bookingid\":2947},{\"bookingid\":564},{\"bookingid\":2629},{\"bookingid\":566},{\"bookingid\":3508},{\"bookingid\":3731},{\"bookingid\":812},{\"bookingid\":93},{\"bookingid\":3761},{\"bookingid\":133},{\"bookingid\":220},{\"bookingid\":248},{\"bookingid\":3093},{\"bookingid\":2625},{\"bookingid\":1411},{\"bookingid\":529},{\"bookingid\":2043},{\"bookingid\":754},{\"bookingid\":3230},{\"bookingid\":2550},{\"bookingid\":3847},{\"bookingid\":37},{\"bookingid\":194},{\"bookingid\":2876},{\"bookingid\":965},{\"bookingid\":2832},{\"bookingid\":595},{\"bookingid\":2212},{\"bookingid\":2838},{\"bookingid\":980},{\"bookingid\":1393},{\"bookingid\":3635},{\"bookingid\":1676},{\"bookingid\":849},{\"bookingid\":3186},{\"bookingid\":1401},{\"bookingid\":3468},{\"bookingid\":1126},{\"bookingid\":3793},{\"bookingid\":522},{\"bookingid\":3741},{\"bookingid\":2042},{\"bookingid\":3506},{\"bookingid\":1350},{\"bookingid\":714},{\"bookingid\":1649},{\"bookingid\":2214},{\"bookingid\":49},{\"bookingid\":2694},{\"bookingid\":3087},{\"bookingid\":1949},{\"bookingid\":2446},{\"bookingid\":1204},{\"bookingid\":1848},{\"bookingid\":530},{\"bookingid\":2994},{\"bookingid\":3826},{\"bookingid\":3704},{\"bookingid\":1290},{\"bookingid\":3188},{\"bookingid\":2915},{\"bookingid\":2413},{\"bookingid\":3389},{\"bookingid\":3396},{\"bookingid\":1640},{\"bookingid\":1140},{\"bookingid\":3307},{\"bookingid\":1998},{\"bookingid\":1558},{\"bookingid\":3912},{\"bookingid\":1425},{\"bookingid\":2970},{\"bookingid\":2927},{\"bookingid\":2048},{\"bookingid\":1137},{\"bookingid\":747},{\"bookingid\":3605},{\"bookingid\":2418},{\"bookingid\":107},{\"bookingid\":498},{\"bookingid\":1999},{\"bookingid\":1736},{\"bookingid\":1565},{\"bookingid\":2921},{\"bookingid\":1743},{\"bookingid\":2659},{\"bookingid\":1196},{\"bookingid\":336},{\"bookingid\":2573},{\"bookingid\":3851},{\"bookingid\":2434},{\"bookingid\":1958},{\"bookingid\":3699},{\"bookingid\":3696},{\"bookingid\":1980},{\"bookingid\":2185},{\"bookingid\":3891},{\"bookingid\":3151},{\"bookingid\":1591},{\"bookingid\":3502},{\"bookingid\":3639},{\"bookingid\":982},{\"bookingid\":1010},{\"bookingid\":3118},{\"bookingid\":1424},{\"bookingid\":2391},{\"bookingid\":1387},{\"bookingid\":347},{\"bookingid\":3547},{\"bookingid\":33},{\"bookingid\":3465},{\"bookingid\":1019},{\"bookingid\":2415},{\"bookingid\":3688},{\"bookingid\":3563},{\"bookingid\":3556},{\"bookingid\":3484},{\"bookingid\":1940},{\"bookingid\":500},{\"bookingid\":1544},{\"bookingid\":1098},{\"bookingid\":2118},{\"bookingid\":943},{\"bookingid\":1100},{\"bookingid\":516},{\"bookingid\":83},{\"bookingid\":3748},{\"bookingid\":2218},{\"bookingid\":643},{\"bookingid\":1929},{\"bookingid\":2700},{\"bookingid\":81},{\"bookingid\":2150},{\"bookingid\":338},{\"bookingid\":45},{\"bookingid\":300},{\"bookingid\":599},{\"bookingid\":905},{\"bookingid\":3360},{\"bookingid\":149},{\"bookingid\":3296},{\"bookingid\":1502},{\"bookingid\":2793},{\"bookingid\":1255},{\"bookingid\":2630},{\"bookingid\":2588},{\"bookingid\":1586},{\"bookingid\":3090},{\"bookingid\":1903},{\"bookingid\":739},{\"bookingid\":2136},{\"bookingid\":3485},{\"bookingid\":1507},{\"bookingid\":1449},{\"bookingid\":2223},{\"bookingid\":3192},{\"bookingid\":570},{\"bookingid\":3070},{\"bookingid\":2699},{\"bookingid\":3786},{\"bookingid\":2081},{\"bookingid\":1414},{\"bookingid\":3899},{\"bookingid\":2565},{\"bookingid\":2406},{\"bookingid\":2015},{\"bookingid\":2596},{\"bookingid\":1852},{\"bookingid\":1970},{\"bookingid\":1987},{\"bookingid\":1075},{\"bookingid\":1275},{\"bookingid\":1247},{\"bookingid\":4},{\"bookingid\":2247},{\"bookingid\":51},{\"bookingid\":2053},{\"bookingid\":153},{\"bookingid\":1011},{\"bookingid\":3402},{\"bookingid\":2402},{\"bookingid\":769},{\"bookingid\":2850},{\"bookingid\":1907},{\"bookingid\":992},{\"bookingid\":501},{\"bookingid\":3882},{\"bookingid\":1292},{\"bookingid\":2584},{\"bookingid\":2747},{\"bookingid\":1891},{\"bookingid\":2221},{\"bookingid\":3870},{\"bookingid\":3036},{\"bookingid\":2452},{\"bookingid\":2359},{\"bookingid\":266},{\"bookingid\":1040},{\"bookingid\":2806},{\"bookingid\":366},{\"bookingid\":2680},{\"bookingid\":3415},{\"bookingid\":2339},{\"bookingid\":2178},{\"bookingid\":3571},{\"bookingid\":1314},{\"bookingid\":3875},{\"bookingid\":1562},{\"bookingid\":2792},{\"bookingid\":425},{\"bookingid\":1849},{\"bookingid\":792},{\"bookingid\":3852},{\"bookingid\":1725},{\"bookingid\":3884},{\"bookingid\":3057},{\"bookingid\":1882},{\"bookingid\":2183},{\"bookingid\":3108},{\"bookingid\":2226},{\"bookingid\":2512},{\"bookingid\":1368},{\"bookingid\":3510},{\"bookingid\":3592},{\"bookingid\":3564},{\"bookingid\":2676},{\"bookingid\":2720},{\"bookingid\":2232},{\"bookingid\":1437},{\"bookingid\":1719},{\"bookingid\":432},{\"bookingid\":493},{\"bookingid\":130},{\"bookingid\":2989},{\"bookingid\":1828},{\"bookingid\":3434},{\"bookingid\":140},{\"bookingid\":1362},{\"bookingid\":3116},{\"bookingid\":1598},{\"bookingid\":2428},{\"bookingid\":2301},{\"bookingid\":2608},{\"bookingid\":3815},{\"bookingid\":1871},{\"bookingid\":629},{\"bookingid\":330},{\"bookingid\":3838},{\"bookingid\":954},{\"bookingid\":3913},{\"bookingid\":3232},{\"bookingid\":1024},{\"bookingid\":2203},{\"bookingid\":907},{\"bookingid\":2942},{\"bookingid\":958},{\"bookingid\":2018},{\"bookingid\":26},{\"bookingid\":1567},{\"bookingid\":147},{\"bookingid\":1734},{\"bookingid\":402},{\"bookingid\":2958},{\"bookingid\":2346},{\"bookingid\":3473},{\"bookingid\":2427},{\"bookingid\":1200},{\"bookingid\":3225},{\"bookingid\":1758},{\"bookingid\":1443},{\"bookingid\":3229},{\"bookingid\":902},{\"bookingid\":3409},{\"bookingid\":1470},{\"bookingid\":2574},{\"bookingid\":1809},{\"bookingid\":5},{\"bookingid\":1937},{\"bookingid\":573},{\"bookingid\":1029},{\"bookingid\":267},{\"bookingid\":1221},{\"bookingid\":646},{\"bookingid\":1455},{\"bookingid\":1994},{\"bookingid\":888},{\"bookingid\":2781},{\"bookingid\":896},{\"bookingid\":2281},{\"bookingid\":955},{\"bookingid\":539},{\"bookingid\":466},{\"bookingid\":1842},{\"bookingid\":2964},{\"bookingid\":2424},{\"bookingid\":851},{\"bookingid\":210},{\"bookingid\":861},{\"bookingid\":86},{\"bookingid\":1180},{\"bookingid\":41},{\"bookingid\":1553},{\"bookingid\":3850},{\"bookingid\":2965},{\"bookingid\":1119},{\"bookingid\":2541},{\"bookingid\":2191},{\"bookingid\":1912},{\"bookingid\":580},{\"bookingid\":2536},{\"bookingid\":2558},{\"bookingid\":3337},{\"bookingid\":2441},{\"bookingid\":73},{\"bookingid\":1219},{\"bookingid\":1143},{\"bookingid\":1817},{\"bookingid\":3601},{\"bookingid\":1329},{\"bookingid\":1806},{\"bookingid\":3449},{\"bookingid\":2096},{\"bookingid\":3136},{\"bookingid\":3641},{\"bookingid\":988},{\"bookingid\":1622},{\"bookingid\":42},{\"bookingid\":3614},{\"bookingid\":2667},{\"bookingid\":1677},{\"bookingid\":2282},{\"bookingid\":3128},{\"bookingid\":90},{\"bookingid\":660},{\"bookingid\":2373},{\"bookingid\":3586},{\"bookingid\":3173},{\"bookingid\":2005},{\"bookingid\":1790},{\"bookingid\":180},{\"bookingid\":1915},{\"bookingid\":1785},{\"bookingid\":1085},{\"bookingid\":298},{\"bookingid\":2181},{\"bookingid\":245},{\"bookingid\":3486},{\"bookingid\":1962},{\"bookingid\":2737},{\"bookingid\":3809},{\"bookingid\":1624},{\"bookingid\":223},{\"bookingid\":3766},{\"bookingid\":106},{\"bookingid\":3304},{\"bookingid\":541},{\"bookingid\":3427},{\"bookingid\":229},{\"bookingid\":1847},{\"bookingid\":269},{\"bookingid\":964},{\"bookingid\":974},{\"bookingid\":2480},{\"bookingid\":3020},{\"bookingid\":1302},{\"bookingid\":969},{\"bookingid\":2137},{\"bookingid\":3784},{\"bookingid\":139},{\"bookingid\":3086},{\"bookingid\":2531},{\"bookingid\":1888},{\"bookingid\":763},{\"bookingid\":581},{\"bookingid\":1585},{\"bookingid\":2171},{\"bookingid\":2449},{\"bookingid\":2701},{\"bookingid\":197},{\"bookingid\":670},{\"bookingid\":359},{\"bookingid\":2649},{\"bookingid\":1512},{\"bookingid\":191},{\"bookingid\":410},{\"bookingid\":3100},{\"bookingid\":1881},{\"bookingid\":3893},{\"bookingid\":725},{\"bookingid\":647},{\"bookingid\":3789},{\"bookingid\":3691},{\"bookingid\":3595},{\"bookingid\":2279},{\"bookingid\":1588},{\"bookingid\":3197},{\"bookingid\":2253},{\"bookingid\":2993},{\"bookingid\":2110},{\"bookingid\":2309},{\"bookingid\":450},{\"bookingid\":280},{\"bookingid\":550},{\"bookingid\":1288},{\"bookingid\":3618},{\"bookingid\":2715},{\"bookingid\":303},{\"bookingid\":2240},{\"bookingid\":1485},{\"bookingid\":2564},{\"bookingid\":2566},{\"bookingid\":2276},{\"bookingid\":2709},{\"bookingid\":2561},{\"bookingid\":1935},{\"bookingid\":3802},{\"bookingid\":1357},{\"bookingid\":2969},{\"bookingid\":2229},{\"bookingid\":1410},{\"bookingid\":1338},{\"bookingid\":2762},{\"bookingid\":791},{\"bookingid\":2917},{\"bookingid\":898},{\"bookingid\":2977},{\"bookingid\":1231},{\"bookingid\":1944},{\"bookingid\":2494},{\"bookingid\":318},{\"bookingid\":3581},{\"bookingid\":2290},{\"bookingid\":99},{\"bookingid\":1492},{\"bookingid\":3754},{\"bookingid\":3750},{\"bookingid\":1722},{\"bookingid\":76},{\"bookingid\":3703},{\"bookingid\":2816},{\"bookingid\":2257},{\"bookingid\":3568},{\"bookingid\":596},{\"bookingid\":1571},{\"bookingid\":2811},{\"bookingid\":620},{\"bookingid\":3574},{\"bookingid\":3339},{\"bookingid\":2440},{\"bookingid\":2388},{\"bookingid\":776},{\"bookingid\":1764},{\"bookingid\":2215},{\"bookingid\":1501},{\"bookingid\":753},{\"bookingid\":796},{\"bookingid\":1192},{\"bookingid\":3332},{\"bookingid\":3029},{\"bookingid\":1546},{\"bookingid\":2205},{\"bookingid\":3246},{\"bookingid\":2233},{\"bookingid\":2846},{\"bookingid\":2039},{\"bookingid\":284},{\"bookingid\":3498},{\"bookingid\":1206},{\"bookingid\":1705},{\"bookingid\":2587},{\"bookingid\":3280},{\"bookingid\":3721},{\"bookingid\":488},{\"bookingid\":3241},{\"bookingid\":217},{\"bookingid\":3871},{\"bookingid\":758},{\"bookingid\":2094},{\"bookingid\":528},{\"bookingid\":2755},{\"bookingid\":3289},{\"bookingid\":2075},{\"bookingid\":3379},{\"bookingid\":3068},{\"bookingid\":3340},{\"bookingid\":1483},{\"bookingid\":2563},{\"bookingid\":1942},{\"bookingid\":3238},{\"bookingid\":360},{\"bookingid\":1597},{\"bookingid\":3313},{\"bookingid\":1037},{\"bookingid\":3131},{\"bookingid\":3722},{\"bookingid\":3150},{\"bookingid\":3247},{\"bookingid\":74},{\"bookingid\":2056},{\"bookingid\":20},{\"bookingid\":3538},{\"bookingid\":2295},{\"bookingid\":489},{\"bookingid\":1018},{\"bookingid\":2756},{\"bookingid\":3237},{\"bookingid\":2397},{\"bookingid\":3657},{\"bookingid\":2206},{\"bookingid\":3630},{\"bookingid\":814},{\"bookingid\":3250},{\"bookingid\":2552},{\"bookingid\":3715},{\"bookingid\":169},{\"bookingid\":2107},{\"bookingid\":2177},{\"bookingid\":2457},{\"bookingid\":3281},{\"bookingid\":2654},{\"bookingid\":3170},{\"bookingid\":2407},{\"bookingid\":719},{\"bookingid\":2761},{\"bookingid\":1095},{\"bookingid\":1452},{\"bookingid\":2396},{\"bookingid\":222},{\"bookingid\":21},{\"bookingid\":89},{\"bookingid\":2302},{\"bookingid\":1260},{\"bookingid\":755},{\"bookingid\":2679},{\"bookingid\":16},{\"bookingid\":212},{\"bookingid\":282},{\"bookingid\":619},{\"bookingid\":2585},{\"bookingid\":2525},{\"bookingid\":2368},{\"bookingid\":1057},{\"bookingid\":2447},{\"bookingid\":3909},{\"bookingid\":889},{\"bookingid\":1791},{\"bookingid\":2037},{\"bookingid\":502},{\"bookingid\":2241},{\"bookingid\":8},{\"bookingid\":1515},{\"bookingid\":3},{\"bookingid\":1163},{\"bookingid\":1549},{\"bookingid\":1358},{\"bookingid\":857},{\"bookingid\":2535},{\"bookingid\":3291},{\"bookingid\":2189},{\"bookingid\":633},{\"bookingid\":3591},{\"bookingid\":2116},{\"bookingid\":1369},{\"bookingid\":1161},{\"bookingid\":808},{\"bookingid\":3394},{\"bookingid\":1900},{\"bookingid\":400},{\"bookingid\":1261},{\"bookingid\":1776},{\"bookingid\":3254},{\"bookingid\":949},{\"bookingid\":214},{\"bookingid\":3783},{\"bookingid\":538},{\"bookingid\":60},{\"bookingid\":1977},{\"bookingid\":75},{\"bookingid\":423},{\"bookingid\":2448},{\"bookingid\":2211},{\"bookingid\":492},{\"bookingid\":2933},{\"bookingid\":2120},{\"bookingid\":632},{\"bookingid\":2528},{\"bookingid\":1582},{\"bookingid\":608},{\"bookingid\":3862},{\"bookingid\":841},{\"bookingid\":1142},{\"bookingid\":3522},{\"bookingid\":1701},{\"bookingid\":786},{\"bookingid\":3803},{\"bookingid\":3198},{\"bookingid\":1459},{\"bookingid\":953},{\"bookingid\":852},{\"bookingid\":1564},{\"bookingid\":2062},{\"bookingid\":3035},{\"bookingid\":179},{\"bookingid\":895},{\"bookingid\":2316},{\"bookingid\":1658},{\"bookingid\":3454},{\"bookingid\":2426},{\"bookingid\":3683},{\"bookingid\":1061},{\"bookingid\":2252},{\"bookingid\":2011},{\"bookingid\":2336},{\"bookingid\":1824},{\"bookingid\":3268},{\"bookingid\":3024},{\"bookingid\":689},{\"bookingid\":1939},{\"bookingid\":1769},{\"bookingid\":2139},{\"bookingid\":1825},{\"bookingid\":1670},{\"bookingid\":232},{\"bookingid\":584},{\"bookingid\":2979},{\"bookingid\":2637},{\"bookingid\":615},{\"bookingid\":476},{\"bookingid\":35},{\"bookingid\":1005},{\"bookingid\":1827},{\"bookingid\":2996},{\"bookingid\":2291},{\"bookingid\":3027},{\"bookingid\":1838},{\"bookingid\":2728},{\"bookingid\":3271},{\"bookingid\":1179},{\"bookingid\":3773},{\"bookingid\":508},{\"bookingid\":1043},{\"bookingid\":1763},{\"bookingid\":1660},{\"bookingid\":82},{\"bookingid\":1976},{\"bookingid\":1991},{\"bookingid\":3429},{\"bookingid\":495},{\"bookingid\":3156},{\"bookingid\":952},{\"bookingid\":2645},{\"bookingid\":1174},{\"bookingid\":3124},{\"bookingid\":571},{\"bookingid\":2033},{\"bookingid\":3706},{\"bookingid\":848},{\"bookingid\":3196},{\"bookingid\":129},{\"bookingid\":2310},{\"bookingid\":2799},{\"bookingid\":233},{\"bookingid\":371},{\"bookingid\":1968},{\"bookingid\":1482},{\"bookingid\":1051},{\"bookingid\":2400},{\"bookingid\":3440},{\"bookingid\":1041},{\"bookingid\":195},{\"bookingid\":1312},{\"bookingid\":1065},{\"bookingid\":1446},{\"bookingid\":675},{\"bookingid\":3775},{\"bookingid\":111},{\"bookingid\":645},{\"bookingid\":2122},{\"bookingid\":1587},{\"bookingid\":3702},{\"bookingid\":2378},{\"bookingid\":1337},{\"bookingid\":1860},{\"bookingid\":483},{\"bookingid\":3338},{\"bookingid\":3647},{\"bookingid\":1489},{\"bookingid\":3880},{\"bookingid\":3681},{\"bookingid\":3479},{\"bookingid\":350},{\"bookingid\":472},{\"bookingid\":741},{\"bookingid\":3228},{\"bookingid\":2004},{\"bookingid\":2687},{\"bookingid\":803},{\"bookingid\":3753},{\"bookingid\":2268},{\"bookingid\":2627},{\"bookingid\":1383},{\"bookingid\":2724},{\"bookingid\":2149},{\"bookingid\":634},{\"bookingid\":2194},{\"bookingid\":2031},{\"bookingid\":444},{\"bookingid\":3015},{\"bookingid\":1796},{\"bookingid\":3808},{\"bookingid\":1375},{\"bookingid\":2925},{\"bookingid\":2395},{\"bookingid\":369},{\"bookingid\":2471},{\"bookingid\":2349},{\"bookingid\":1508},{\"bookingid\":514},{\"bookingid\":2307},{\"bookingid\":2157},{\"bookingid\":3183},{\"bookingid\":519},{\"bookingid\":344},{\"bookingid\":1432},{\"bookingid\":3276},{\"bookingid\":118},{\"bookingid\":1479},{\"bookingid\":1167},{\"bookingid\":1652},{\"bookingid\":781},{\"bookingid\":3832},{\"bookingid\":62},{\"bookingid\":3450},{\"bookingid\":3374},{\"bookingid\":1303},{\"bookingid\":503},{\"bookingid\":1698},{\"bookingid\":2227},{\"bookingid\":3695},{\"bookingid\":3442},{\"bookingid\":275},{\"bookingid\":379},{\"bookingid\":3016},{\"bookingid\":2851},{\"bookingid\":762},{\"bookingid\":3914},{\"bookingid\":3548},{\"bookingid\":2489},{\"bookingid\":1473},{\"bookingid\":989},{\"bookingid\":3445},{\"bookingid\":2113},{\"bookingid\":3466},{\"bookingid\":3144},{\"bookingid\":3792},{\"bookingid\":3286},{\"bookingid\":3795},{\"bookingid\":114},{\"bookingid\":1874},{\"bookingid\":469},{\"bookingid\":1797},{\"bookingid\":3495},{\"bookingid\":3768},{\"bookingid\":1320},{\"bookingid\":64},{\"bookingid\":3777},{\"bookingid\":1359},{\"bookingid\":246},{\"bookingid\":1494},{\"bookingid\":1129},{\"bookingid\":589},{\"bookingid\":1555},{\"bookingid\":1127},{\"bookingid\":654},{\"bookingid\":2841},{\"bookingid\":2267},{\"bookingid\":756},{\"bookingid\":894},{\"bookingid\":2394},{\"bookingid\":3883},{\"bookingid\":884},{\"bookingid\":1607},{\"bookingid\":55},{\"bookingid\":1822},{\"bookingid\":2156},{\"bookingid\":2735},{\"bookingid\":3317},{\"bookingid\":1184},{\"bookingid\":2068},{\"bookingid\":3597},{\"bookingid\":2972},{\"bookingid\":775},{\"bookingid\":971},{\"bookingid\":2088},{\"bookingid\":2595},{\"bookingid\":552},{\"bookingid\":553},{\"bookingid\":3552},{\"bookingid\":1744},{\"bookingid\":745},{\"bookingid\":2733},{\"bookingid\":1201},{\"bookingid\":2357},{\"bookingid\":833},{\"bookingid\":100},{\"bookingid\":3671},{\"bookingid\":3039},{\"bookingid\":48},{\"bookingid\":545},{\"bookingid\":3774},{\"bookingid\":387},{\"bookingid\":2935},{\"bookingid\":3421},{\"bookingid\":1281},{\"bookingid\":2570},{\"bookingid\":1418},{\"bookingid\":1472},{\"bookingid\":340},{\"bookingid\":1873},{\"bookingid\":3710},{\"bookingid\":1053},{\"bookingid\":2090},{\"bookingid\":939},{\"bookingid\":2003},{\"bookingid\":2444},{\"bookingid\":2154},{\"bookingid\":1078},{\"bookingid\":3216},{\"bookingid\":724},{\"bookingid\":3298},{\"bookingid\":2791},{\"bookingid\":442},{\"bookingid\":2442},{\"bookingid\":3223},{\"bookingid\":1695},{\"bookingid\":1106},{\"bookingid\":1819},{\"bookingid\":2193},{\"bookingid\":2380},{\"bookingid\":3648},{\"bookingid\":1996},{\"bookingid\":1547},{\"bookingid\":3645},{\"bookingid\":788},{\"bookingid\":1509},{\"bookingid\":3905},{\"bookingid\":287},{\"bookingid\":3583},{\"bookingid\":664},{\"bookingid\":1619},{\"bookingid\":1271},{\"bookingid\":1430},{\"bookingid\":1477},{\"bookingid\":1002},{\"bookingid\":1419},{\"bookingid\":3512},{\"bookingid\":1641},{\"bookingid\":820},{\"bookingid\":1955},{\"bookingid\":3148},{\"bookingid\":486},{\"bookingid\":1342},{\"bookingid\":3617},{\"bookingid\":3176},{\"bookingid\":2744},{\"bookingid\":3310},{\"bookingid\":726},{\"bookingid\":1234},{\"bookingid\":2142},{\"bookingid\":1028},{\"bookingid\":1566},{\"bookingid\":1480},{\"bookingid\":23},{\"bookingid\":1405},{\"bookingid\":1614},{\"bookingid\":2472},{\"bookingid\":1709},{\"bookingid\":242},{\"bookingid\":2511},{\"bookingid\":331},{\"bookingid\":1818},{\"bookingid\":3624},{\"bookingid\":319},{\"bookingid\":378},{\"bookingid\":3551},{\"bookingid\":1445},{\"bookingid\":92},{\"bookingid\":345},{\"bookingid\":1914},{\"bookingid\":1931},{\"bookingid\":88},{\"bookingid\":1684},{\"bookingid\":1784},{\"bookingid\":3700},{\"bookingid\":2022},{\"bookingid\":2622},{\"bookingid\":927},{\"bookingid\":1476},{\"bookingid\":2436},{\"bookingid\":2475},{\"bookingid\":3459},{\"bookingid\":611},{\"bookingid\":2341},{\"bookingid\":1537},{\"bookingid\":742},{\"bookingid\":1186},{\"bookingid\":3494},{\"bookingid\":2681},{\"bookingid\":2840},{\"bookingid\":1927},{\"bookingid\":1788},{\"bookingid\":3472},{\"bookingid\":458},{\"bookingid\":1833},{\"bookingid\":3130},{\"bookingid\":2354},{\"bookingid\":560},{\"bookingid\":1321},{\"bookingid\":2727},{\"bookingid\":1906},{\"bookingid\":3047},{\"bookingid\":3659},{\"bookingid\":1036},{\"bookingid\":661},{\"bookingid\":3295},{\"bookingid\":3395},{\"bookingid\":1628},{\"bookingid\":2437},{\"bookingid\":3858},{\"bookingid\":1878},{\"bookingid\":3105},{\"bookingid\":556},{\"bookingid\":3162},{\"bookingid\":2258},{\"bookingid\":922},{\"bookingid\":206},{\"bookingid\":1214},{\"bookingid\":1820},{\"bookingid\":3180},{\"bookingid\":2939},{\"bookingid\":1539},{\"bookingid\":2693},{\"bookingid\":748},{\"bookingid\":2716},{\"bookingid\":565},{\"bookingid\":3258},{\"bookingid\":2099},{\"bookingid\":3158},{\"bookingid\":3716},{\"bookingid\":732},{\"bookingid\":480},{\"bookingid\":2047},{\"bookingid\":2323},{\"bookingid\":3676},{\"bookingid\":120},{\"bookingid\":1353},{\"bookingid\":3181},{\"bookingid\":1885},{\"bookingid\":1377},{\"bookingid\":1802},{\"bookingid\":3814},{\"bookingid\":1529},{\"bookingid\":1711},{\"bookingid\":2236},{\"bookingid\":563},{\"bookingid\":515},{\"bookingid\":3602},{\"bookingid\":2486},{\"bookingid\":44},{\"bookingid\":2922},{\"bookingid\":1490},{\"bookingid\":618},{\"bookingid\":315},{\"bookingid\":1341},{\"bookingid\":1223},{\"bookingid\":70},{\"bookingid\":1325},{\"bookingid\":1141},{\"bookingid\":3735},{\"bookingid\":397},{\"bookingid\":2497},{\"bookingid\":1444},{\"bookingid\":1752},{\"bookingid\":436},{\"bookingid\":2613},{\"bookingid\":3040},{\"bookingid\":3204},{\"bookingid\":2769},{\"bookingid\":2488},{\"bookingid\":3558},{\"bookingid\":3142},{\"bookingid\":1865},{\"bookingid\":253},{\"bookingid\":3535},{\"bookingid\":2360},{\"bookingid\":3011},{\"bookingid\":2959},{\"bookingid\":1210},{\"bookingid\":1805},{\"bookingid\":947},{\"bookingid\":749},{\"bookingid\":3781},{\"bookingid\":578},{\"bookingid\":3730},{\"bookingid\":3800},{\"bookingid\":555},{\"bookingid\":587},{\"bookingid\":277},{\"bookingid\":685},{\"bookingid\":641},{\"bookingid\":2329},{\"bookingid\":1693},{\"bookingid\":1072},{\"bookingid\":1928},{\"bookingid\":1173},{\"bookingid\":701},{\"bookingid\":351},{\"bookingid\":2245},{\"bookingid\":2703},{\"bookingid\":1751},{\"bookingid\":3694},{\"bookingid\":869},{\"bookingid\":2867},{\"bookingid\":1993},{\"bookingid\":1003},{\"bookingid\":3285},{\"bookingid\":1543},{\"bookingid\":588},{\"bookingid\":659},{\"bookingid\":1484},{\"bookingid\":1633},{\"bookingid\":3577},{\"bookingid\":2772},{\"bookingid\":2019},{\"bookingid\":465},{\"bookingid\":3210},{\"bookingid\":3014},{\"bookingid\":1810},{\"bookingid\":1282},{\"bookingid\":585},{\"bookingid\":1921},{\"bookingid\":228},{\"bookingid\":1858},{\"bookingid\":2155},{\"bookingid\":112},{\"bookingid\":711},{\"bookingid\":1083},{\"bookingid\":337},{\"bookingid\":1830},{\"bookingid\":2904},{\"bookingid\":468},{\"bookingid\":2220},{\"bookingid\":1305},{\"bookingid\":2924},{\"bookingid\":1879},{\"bookingid\":3251},{\"bookingid\":3500},{\"bookingid\":3400},{\"bookingid\":826},{\"bookingid\":600},{\"bookingid\":460},{\"bookingid\":1332},{\"bookingid\":650},{\"bookingid\":1561},{\"bookingid\":3074},{\"bookingid\":3811},{\"bookingid\":2127},{\"bookingid\":1657},{\"bookingid\":3326},{\"bookingid\":1516},{\"bookingid\":1979},{\"bookingid\":3008},{\"bookingid\":3367},{\"bookingid\":1683},{\"bookingid\":2384},{\"bookingid\":2460},{\"bookingid\":1351},{\"bookingid\":2244},{\"bookingid\":3375},{\"bookingid\":941},{\"bookingid\":1636},{\"bookingid\":2828},{\"bookingid\":3177},{\"bookingid\":3707},{\"bookingid\":3798},{\"bookingid\":2481},{\"bookingid\":2462},{\"bookingid\":310},{\"bookingid\":2786},{\"bookingid\":1732},{\"bookingid\":1563},{\"bookingid\":2524},{\"bookingid\":2966},{\"bookingid\":2264},{\"bookingid\":1456},{\"bookingid\":3452},{\"bookingid\":3262},{\"bookingid\":2738},{\"bookingid\":3343},{\"bookingid\":2074},{\"bookingid\":2826},{\"bookingid\":1080},{\"bookingid\":3044},{\"bookingid\":770},{\"bookingid\":731},{\"bookingid\":1992},{\"bookingid\":2618},{\"bookingid\":329},{\"bookingid\":2660},{\"bookingid\":3058},{\"bookingid\":2374},{\"bookingid\":666},{\"bookingid\":1714},{\"bookingid\":1326},{\"bookingid\":240},{\"bookingid\":3835},{\"bookingid\":1074},{\"bookingid\":247},{\"bookingid\":1249},{\"bookingid\":1815},{\"bookingid\":3918},{\"bookingid\":507},{\"bookingid\":910},{\"bookingid\":1738},{\"bookingid\":372},{\"bookingid\":840},{\"bookingid\":36},{\"bookingid\":2633},{\"bookingid\":3088},{\"bookingid\":3778},{\"bookingid\":1382},{\"bookingid\":2817},{\"bookingid\":1749},{\"bookingid\":2540},{\"bookingid\":679},{\"bookingid\":2327},{\"bookingid\":944},{\"bookingid\":2597},{\"bookingid\":2334},{\"bookingid\":1678},{\"bookingid\":2874},{\"bookingid\":2877},{\"bookingid\":2351},{\"bookingid\":1574},{\"bookingid\":193},{\"bookingid\":1595},{\"bookingid\":2168},{\"bookingid\":1616},{\"bookingid\":3458},{\"bookingid\":2594},{\"bookingid\":2288},{\"bookingid\":712},{\"bookingid\":3355},{\"bookingid\":3410},{\"bookingid\":3463},{\"bookingid\":3257},{\"bookingid\":3725},{\"bookingid\":1296},{\"bookingid\":1},{\"bookingid\":3071},{\"bookingid\":374},{\"bookingid\":1171},{\"bookingid\":2199},{\"bookingid\":2059},{\"bookingid\":998},{\"bookingid\":221},{\"bookingid\":1081},{\"bookingid\":124},{\"bookingid\":2878},{\"bookingid\":579},{\"bookingid\":2662},{\"bookingid\":1054},{\"bookingid\":2324},{\"bookingid\":3323},{\"bookingid\":3530},{\"bookingid\":254},{\"bookingid\":839},{\"bookingid\":3677},{\"bookingid\":1406},{\"bookingid\":3505},{\"bookingid\":3888},{\"bookingid\":2696},{\"bookingid\":3519},{\"bookingid\":3028},{\"bookingid\":1606},{\"bookingid\":192},{\"bookingid\":2988},{\"bookingid\":3736},{\"bookingid\":29},{\"bookingid\":3433},{\"bookingid\":1767},{\"bookingid\":1429},{\"bookingid\":3145},{\"bookingid\":2392},{\"bookingid\":1659},{\"bookingid\":335},{\"bookingid\":1896},{\"bookingid\":2943},{\"bookingid\":3089},{\"bookingid\":438},{\"bookingid\":3413},{\"bookingid\":3726},{\"bookingid\":258},{\"bookingid\":3578},{\"bookingid\":3169},{\"bookingid\":915},{\"bookingid\":241},{\"bookingid\":1190},{\"bookingid\":2619},{\"bookingid\":2097},{\"bookingid\":1925},{\"bookingid\":1352},{\"bookingid\":1667},{\"bookingid\":1116},{\"bookingid\":710},{\"bookingid\":3113},{\"bookingid\":145},{\"bookingid\":2085},{\"bookingid\":2605},{\"bookingid\":3831},{\"bookingid\":1134},{\"bookingid\":2726},{\"bookingid\":3667},{\"bookingid\":2468},{\"bookingid\":1669},{\"bookingid\":933},{\"bookingid\":707},{\"bookingid\":1236},{\"bookingid\":3242},{\"bookingid\":2463},{\"bookingid\":1627},{\"bookingid\":2496},{\"bookingid\":3080},{\"bookingid\":3490},{\"bookingid\":1745},{\"bookingid\":1521},{\"bookingid\":925},{\"bookingid\":1004},{\"bookingid\":3103},{\"bookingid\":2559},{\"bookingid\":2810},{\"bookingid\":2254},{\"bookingid\":3511},{\"bookingid\":162},{\"bookingid\":1535},{\"bookingid\":574},{\"bookingid\":3887},{\"bookingid\":47},{\"bookingid\":2485},{\"bookingid\":356},{\"bookingid\":431},{\"bookingid\":2905},{\"bookingid\":3202},{\"bookingid\":3369},{\"bookingid\":2331},{\"bookingid\":2375},{\"bookingid\":2197},{\"bookingid\":569},{\"bookingid\":395},{\"bookingid\":1243},{\"bookingid\":3455},{\"bookingid\":937},{\"bookingid\":1733},{\"bookingid\":2954},{\"bookingid\":309},{\"bookingid\":2414},{\"bookingid\":1216},{\"bookingid\":2273},{\"bookingid\":1272},{\"bookingid\":2611},{\"bookingid\":2547},{\"bookingid\":2387},{\"bookingid\":3843},{\"bookingid\":847},{\"bookingid\":361},{\"bookingid\":1890},{\"bookingid\":34},{\"bookingid\":1542},{\"bookingid\":2335},{\"bookingid\":3397},{\"bookingid\":2855},{\"bookingid\":1175},{\"bookingid\":1235},{\"bookingid\":2825},{\"bookingid\":2868},{\"bookingid\":743},{\"bookingid\":1754},{\"bookingid\":1773},{\"bookingid\":3056},{\"bookingid\":972},{\"bookingid\":2294},{\"bookingid\":2198},{\"bookingid\":3621},{\"bookingid\":2098},{\"bookingid\":1975},{\"bookingid\":2054},{\"bookingid\":2665},{\"bookingid\":1506},{\"bookingid\":3099},{\"bookingid\":3877},{\"bookingid\":3439},{\"bookingid\":2128},{\"bookingid\":1869},{\"bookingid\":3235},{\"bookingid\":188},{\"bookingid\":1934},{\"bookingid\":845},{\"bookingid\":2987},{\"bookingid\":2834},{\"bookingid\":2730},{\"bookingid\":509},{\"bookingid\":543},{\"bookingid\":399},{\"bookingid\":1433},{\"bookingid\":1765},{\"bookingid\":834},{\"bookingid\":67},{\"bookingid\":3299},{\"bookingid\":161},{\"bookingid\":3760},{\"bookingid\":805},{\"bookingid\":678},{\"bookingid\":3569},{\"bookingid\":3874},{\"bookingid\":3265},{\"bookingid\":790},{\"bookingid\":2492},{\"bookingid\":2064},{\"bookingid\":950},{\"bookingid\":1091},{\"bookingid\":1428},{\"bookingid\":216},{\"bookingid\":3436},{\"bookingid\":705},{\"bookingid\":3042},{\"bookingid\":918},{\"bookingid\":746},{\"bookingid\":2783},{\"bookingid\":623},{\"bookingid\":3769},{\"bookingid\":3062},{\"bookingid\":3316},{\"bookingid\":1908},{\"bookingid\":917},{\"bookingid\":2358},{\"bookingid\":3608},{\"bookingid\":3012},{\"bookingid\":2466},{\"bookingid\":3515},{\"bookingid\":1808},{\"bookingid\":1293},{\"bookingid\":3857},{\"bookingid\":2590},{\"bookingid\":1889},{\"bookingid\":3570},{\"bookingid\":3518},{\"bookingid\":2856},{\"bookingid\":3856},{\"bookingid\":601},{\"bookingid\":1202},{\"bookingid\":3350},{\"bookingid\":3516},{\"bookingid\":3125},{\"bookingid\":409},{\"bookingid\":131},{\"bookingid\":2928},{\"bookingid\":3354},{\"bookingid\":3386},{\"bookingid\":3590},{\"bookingid\":1875},{\"bookingid\":2300},{\"bookingid\":999},{\"bookingid\":416},{\"bookingid\":146},{\"bookingid\":2262},{\"bookingid\":842},{\"bookingid\":3051},{\"bookingid\":487},{\"bookingid\":1400},{\"bookingid\":730},{\"bookingid\":1897},{\"bookingid\":2671},{\"bookingid\":2775},{\"bookingid\":1580},{\"bookingid\":2888},{\"bookingid\":2903},{\"bookingid\":2328},{\"bookingid\":1950},{\"bookingid\":2779},{\"bookingid\":2682},{\"bookingid\":683},{\"bookingid\":3744},{\"bookingid\":3903},{\"bookingid\":1464},{\"bookingid\":11},{\"bookingid\":696},{\"bookingid\":2579},{\"bookingid\":1902},{\"bookingid\":365},{\"bookingid\":1045},{\"bookingid\":2087},{\"bookingid\":3284},{\"bookingid\":3139},{\"bookingid\":456},{\"bookingid\":417},{\"bookingid\":2365},{\"bookingid\":2895},{\"bookingid\":2805},{\"bookingid\":1620},{\"bookingid\":1498},{\"bookingid\":3381},{\"bookingid\":2897},{\"bookingid\":3687},{\"bookingid\":3037},{\"bookingid\":1189},{\"bookingid\":69},{\"bookingid\":663},{\"bookingid\":612},{\"bookingid\":1451},{\"bookingid\":3821},{\"bookingid\":7},{\"bookingid\":1388},{\"bookingid\":3772},{\"bookingid\":2863},{\"bookingid\":1104},{\"bookingid\":2091},{\"bookingid\":352},{\"bookingid\":87},{\"bookingid\":320},{\"bookingid\":3264},{\"bookingid\":3283},{\"bookingid\":2143},{\"bookingid\":2012},{\"bookingid\":326},{\"bookingid\":830},{\"bookingid\":1421},{\"bookingid\":729},{\"bookingid\":2124},{\"bookingid\":3207},{\"bookingid\":2901},{\"bookingid\":1212},{\"bookingid\":3380},{\"bookingid\":445},{\"bookingid\":1239},{\"bookingid\":96},{\"bookingid\":17},{\"bookingid\":1068},{\"bookingid\":1397},{\"bookingid\":919},{\"bookingid\":1269},{\"bookingid\":698},{\"bookingid\":1792},{\"bookingid\":3467},{\"bookingid\":3208},{\"bookingid\":3084},{\"bookingid\":1207},{\"bookingid\":2538},{\"bookingid\":2890},{\"bookingid\":1117},{\"bookingid\":1523},{\"bookingid\":1245},{\"bookingid\":3161},{\"bookingid\":630},{\"bookingid\":3121},{\"bookingid\":1050},{\"bookingid\":3218},{\"bookingid\":2184},{\"bookingid\":3253},{\"bookingid\":1311},{\"bookingid\":2900},{\"bookingid\":2532},{\"bookingid\":671},{\"bookingid\":1187},{\"bookingid\":1630},{\"bookingid\":1691},{\"bookingid\":2029},{\"bookingid\":3300},{\"bookingid\":1872},{\"bookingid\":1495},{\"bookingid\":3269},{\"bookingid\":1154},{\"bookingid\":1854},{\"bookingid\":2773},{\"bookingid\":1503},{\"bookingid\":3872},{\"bookingid\":2186},{\"bookingid\":2133},{\"bookingid\":170},{\"bookingid\":3431},{\"bookingid\":185},{\"bookingid\":2345},{\"bookingid\":24},{\"bookingid\":3557},{\"bookingid\":1034},{\"bookingid\":3537},{\"bookingid\":3868},{\"bookingid\":2401},{\"bookingid\":390},{\"bookingid\":1517},{\"bookingid\":25},{\"bookingid\":15},{\"bookingid\":3435},{\"bookingid\":52},{\"bookingid\":1665},{\"bookingid\":3622},{\"bookingid\":2498},{\"bookingid\":1090},{\"bookingid\":304},{\"bookingid\":3919},{\"bookingid\":757},{\"bookingid\":2749},{\"bookingid\":1699},{\"bookingid\":2065},{\"bookingid\":984},{\"bookingid\":2663},{\"bookingid\":2366},{\"bookingid\":3475},{\"bookingid\":2126},{\"bookingid\":2684},{\"bookingid\":3428},{\"bookingid\":677},{\"bookingid\":1107},{\"bookingid\":875},{\"bookingid\":408},{\"bookingid\":1407},{\"bookingid\":2883},{\"bookingid\":1557},{\"bookingid\":2269},{\"bookingid\":3818},{\"bookingid\":1837},{\"bookingid\":2515},{\"bookingid\":3823},{\"bookingid\":3692},{\"bookingid\":1149},{\"bookingid\":2555},{\"bookingid\":12},{\"bookingid\":2318},{\"bookingid\":811},{\"bookingid\":2381},{\"bookingid\":631},{\"bookingid\":626},{\"bookingid\":464},{\"bookingid\":783},{\"bookingid\":3209},{\"bookingid\":2509},{\"bookingid\":307},{\"bookingid\":3666},{\"bookingid\":2306},{\"bookingid\":876},{\"bookingid\":84},{\"bookingid\":3424},{\"bookingid\":1945},{\"bookingid\":3376},{\"bookingid\":2658},{\"bookingid\":1877},{\"bookingid\":2638},{\"bookingid\":2635},{\"bookingid\":481},{\"bookingid\":1458},{\"bookingid\":2},{\"bookingid\":1726},{\"bookingid\":3224},{\"bookingid\":1814},{\"bookingid\":2163},{\"bookingid\":3898},{\"bookingid\":1097},{\"bookingid\":2604},{\"bookingid\":3311},{\"bookingid\":110},{\"bookingid\":3305},{\"bookingid\":3222},{\"bookingid\":534},{\"bookingid\":3174},{\"bookingid\":3627},{\"bookingid\":3441},{\"bookingid\":1985},{\"bookingid\":3081},{\"bookingid\":2248},{\"bookingid\":2148},{\"bookingid\":2983},{\"bookingid\":3102},{\"bookingid\":270},{\"bookingid\":1389},{\"bookingid\":2916},{\"bookingid\":2425},{\"bookingid\":2103},{\"bookingid\":3160},{\"bookingid\":1398},{\"bookingid\":2957},{\"bookingid\":1947},{\"bookingid\":655},{\"bookingid\":2705},{\"bookingid\":2076},{\"bookingid\":2348},{\"bookingid\":368},{\"bookingid\":2108},{\"bookingid\":1724},{\"bookingid\":1642},{\"bookingid\":3263},{\"bookingid\":1213},{\"bookingid\":30},{\"bookingid\":2736},{\"bookingid\":295},{\"bookingid\":765},{\"bookingid\":3033},{\"bookingid\":3306},{\"bookingid\":259},{\"bookingid\":926},{\"bookingid\":1766},{\"bookingid\":3833},{\"bookingid\":252},{\"bookingid\":2976},{\"bookingid\":3738},{\"bookingid\":1330},{\"bookingid\":2502},{\"bookingid\":3474},{\"bookingid\":1674},{\"bookingid\":1158},{\"bookingid\":1798},{\"bookingid\":2106},{\"bookingid\":1851},{\"bookingid\":103},{\"bookingid\":1583},{\"bookingid\":593},{\"bookingid\":1031},{\"bookingid\":2812},{\"bookingid\":2519},{\"bookingid\":1965},{\"bookingid\":606},{\"bookingid\":3620},{\"bookingid\":117},{\"bookingid\":3133},{\"bookingid\":1067},{\"bookingid\":968},{\"bookingid\":59},{\"bookingid\":168},{\"bookingid\":2571},{\"bookingid\":3579},{\"bookingid\":293},{\"bookingid\":1376},{\"bookingid\":2147},{\"bookingid\":3649},{\"bookingid\":1780},{\"bookingid\":3634},{\"bookingid\":1193},{\"bookingid\":1363},{\"bookingid\":1153},{\"bookingid\":1527},{\"bookingid\":2688},{\"bookingid\":419},{\"bookingid\":1863},{\"bookingid\":1233},{\"bookingid\":3787},{\"bookingid\":2670},{\"bookingid\":2321},{\"bookingid\":607},{\"bookingid\":1023},{\"bookingid\":2653},{\"bookingid\":1774},{\"bookingid\":2821},{\"bookingid\":2750},{\"bookingid\":3064},{\"bookingid\":239},{\"bookingid\":3312},{\"bookingid\":929},{\"bookingid\":1209},{\"bookingid\":798},{\"bookingid\":2591},{\"bookingid\":1857},{\"bookingid\":1246},{\"bookingid\":2013},{\"bookingid\":1973},{\"bookingid\":815},{\"bookingid\":2035},{\"bookingid\":2160},{\"bookingid\":1835},{\"bookingid\":1250},{\"bookingid\":1720},{\"bookingid\":3487},{\"bookingid\":3333},{\"bookingid\":536},{\"bookingid\":2409},{\"bookingid\":2242},{\"bookingid\":3356},{\"bookingid\":3820},{\"bookingid\":1528},{\"bookingid\":1066},{\"bookingid\":1416},{\"bookingid\":3163},{\"bookingid\":1953},{\"bookingid\":3214},{\"bookingid\":3382},{\"bookingid\":208},{\"bookingid\":1006},{\"bookingid\":3747},{\"bookingid\":1404},{\"bookingid\":1278},{\"bookingid\":39},{\"bookingid\":2173},{\"bookingid\":868},{\"bookingid\":373},{\"bookingid\":1423},{\"bookingid\":2589},{\"bookingid\":2367},{\"bookingid\":2172},{\"bookingid\":2748},{\"bookingid\":774},{\"bookingid\":1152},{\"bookingid\":3653},{\"bookingid\":1772},{\"bookingid\":263},{\"bookingid\":1084},{\"bookingid\":2858},{\"bookingid\":1613},{\"bookingid\":2280},{\"bookingid\":3406},{\"bookingid\":2080},{\"bookingid\":1323},{\"bookingid\":3610},{\"bookingid\":1648},{\"bookingid\":890},{\"bookingid\":3669},{\"bookingid\":3804},{\"bookingid\":2499},{\"bookingid\":3387},{\"bookingid\":2162},{\"bookingid\":3193},{\"bookingid\":2798},{\"bookingid\":1807},{\"bookingid\":2600},{\"bookingid\":2196},{\"bookingid\":3867},{\"bookingid\":3331},{\"bookingid\":152},{\"bookingid\":362},{\"bookingid\":870},{\"bookingid\":1967},{\"bookingid\":3737},{\"bookingid\":2641},{\"bookingid\":1832},{\"bookingid\":1001},{\"bookingid\":3589},{\"bookingid\":2837},{\"bookingid\":50},{\"bookingid\":3054},{\"bookingid\":2919},{\"bookingid\":418},{\"bookingid\":962},{\"bookingid\":2869},{\"bookingid\":2078},{\"bookingid\":236},{\"bookingid\":2930},{\"bookingid\":3689},{\"bookingid\":1254},{\"bookingid\":3346},{\"bookingid\":3344},{\"bookingid\":448},{\"bookingid\":404},{\"bookingid\":882},{\"bookingid\":57},{\"bookingid\":3063},{\"bookingid\":332},{\"bookingid\":3575},{\"bookingid\":706},{\"bookingid\":22},{\"bookingid\":3763},{\"bookingid\":1866},{\"bookingid\":807},{\"bookingid\":2372},{\"bookingid\":2057},{\"bookingid\":2023},{\"bookingid\":325},{\"bookingid\":3481},{\"bookingid\":2237},{\"bookingid\":1035},{\"bookingid\":3717},{\"bookingid\":1122},{\"bookingid\":3543},{\"bookingid\":2121},{\"bookingid\":1731},{\"bookingid\":3514},{\"bookingid\":3532},{\"bookingid\":424},{\"bookingid\":1634},{\"bookingid\":2576},{\"bookingid\":213},{\"bookingid\":2646},{\"bookingid\":3319},{\"bookingid\":1718},{\"bookingid\":1909},{\"bookingid\":119},{\"bookingid\":437},{\"bookingid\":2403},{\"bookingid\":3140},{\"bookingid\":1256},{\"bookingid\":3065},{\"bookingid\":695},{\"bookingid\":1240},{\"bookingid\":704},{\"bookingid\":935},{\"bookingid\":3050},{\"bookingid\":780},{\"bookingid\":2297},{\"bookingid\":3290},{\"bookingid\":735},{\"bookingid\":614},{\"bookingid\":3349},{\"bookingid\":1984},{\"bookingid\":2794},{\"bookingid\":272},{\"bookingid\":200},{\"bookingid\":2063},{\"bookingid\":2610},{\"bookingid\":1099},{\"bookingid\":1760},{\"bookingid\":3026},{\"bookingid\":2008},{\"bookingid\":1514},{\"bookingid\":3256},{\"bookingid\":2884},{\"bookingid\":2134},{\"bookingid\":864},{\"bookingid\":155},{\"bookingid\":2664},{\"bookingid\":1919},{\"bookingid\":1707},{\"bookingid\":1952},{\"bookingid\":1986},{\"bookingid\":403},{\"bookingid\":1195},{\"bookingid\":3729},{\"bookingid\":1887},{\"bookingid\":3348},{\"bookingid\":1092},{\"bookingid\":1757},{\"bookingid\":2833},{\"bookingid\":1681},{\"bookingid\":1060},{\"bookingid\":56},{\"bookingid\":2971},{\"bookingid\":3863},{\"bookingid\":1608},{\"bookingid\":2459},{\"bookingid\":3806},{\"bookingid\":525},{\"bookingid\":1673},{\"bookingid\":554},{\"bookingid\":551},{\"bookingid\":138},{\"bookingid\":2845},{\"bookingid\":3401},{\"bookingid\":3629},{\"bookingid\":382},{\"bookingid\":475},{\"bookingid\":1466},{\"bookingid\":1089},{\"bookingid\":738},{\"bookingid\":3277},{\"bookingid\":306},{\"bookingid\":819},{\"bookingid\":1178},{\"bookingid\":394},{\"bookingid\":2002},{\"bookingid\":784},{\"bookingid\":3664},{\"bookingid\":983},{\"bookingid\":1345},{\"bookingid\":2505},{\"bookingid\":1687},{\"bookingid\":386},{\"bookingid\":3146},{\"bookingid\":2819},{\"bookingid\":3559},{\"bookingid\":3668},{\"bookingid\":77},{\"bookingid\":1025},{\"bookingid\":1643},{\"bookingid\":143},{\"bookingid\":353},{\"bookingid\":3527},{\"bookingid\":526},{\"bookingid\":262},{\"bookingid\":1096},{\"bookingid\":3906},{\"bookingid\":3813},{\"bookingid\":2071},{\"bookingid\":3755},{\"bookingid\":558},{\"bookingid\":385},{\"bookingid\":128},{\"bookingid\":260},{\"bookingid\":2955},{\"bookingid\":2230},{\"bookingid\":1113},{\"bookingid\":3107},{\"bookingid\":653},{\"bookingid\":966},{\"bookingid\":3533},{\"bookingid\":2385},{\"bookingid\":2188},{\"bookingid\":182},{\"bookingid\":535},{\"bookingid\":19},{\"bookingid\":3416},{\"bookingid\":1631},{\"bookingid\":478},{\"bookingid\":1779},{\"bookingid\":1262},{\"bookingid\":854},{\"bookingid\":637},{\"bookingid\":2882},{\"bookingid\":3491},{\"bookingid\":994},{\"bookingid\":3322},{\"bookingid\":2800},{\"bookingid\":159},{\"bookingid\":3915},{\"bookingid\":415},{\"bookingid\":2909},{\"bookingid\":1610},{\"bookingid\":2518},{\"bookingid\":1169},{\"bookingid\":2553},{\"bookingid\":813},{\"bookingid\":1297},{\"bookingid\":1012},{\"bookingid\":126},{\"bookingid\":1356},{\"bookingid\":3623},{\"bookingid\":931},{\"bookingid\":2754},{\"bookingid\":2569},{\"bookingid\":3708},{\"bookingid\":1465},{\"bookingid\":2885},{\"bookingid\":1647},{\"bookingid\":65},{\"bookingid\":586},{\"bookingid\":960},{\"bookingid\":1047},{\"bookingid\":3112},{\"bookingid\":3654},{\"bookingid\":904},{\"bookingid\":1972},{\"bookingid\":2652},{\"bookingid\":802},{\"bookingid\":2313},{\"bookingid\":2543},{\"bookingid\":116},{\"bookingid\":2283},{\"bookingid\":3718},{\"bookingid\":430},{\"bookingid\":1394},{\"bookingid\":3325},{\"bookingid\":2842},{\"bookingid\":1263},{\"bookingid\":1478},{\"bookingid\":3817},{\"bookingid\":2420},{\"bookingid\":3327},{\"bookingid\":2161},{\"bookingid\":2549},{\"bookingid\":411},{\"bookingid\":2416},{\"bookingid\":672},{\"bookingid\":1572},{\"bookingid\":3549},{\"bookingid\":2235},{\"bookingid\":1299},{\"bookingid\":1920},{\"bookingid\":2752},{\"bookingid\":13},{\"bookingid\":3352},{\"bookingid\":2408},{\"bookingid\":2474},{\"bookingid\":1786},{\"bookingid\":1573},{\"bookingid\":1230},{\"bookingid\":3855},{\"bookingid\":1222},{\"bookingid\":2990},{\"bookingid\":3509},{\"bookingid\":2144},{\"bookingid\":1924},{\"bookingid\":3138},{\"bookingid\":1277},{\"bookingid\":3430},{\"bookingid\":2482},{\"bookingid\":2451},{\"bookingid\":2708},{\"bookingid\":1123},{\"bookingid\":2477},{\"bookingid\":3127},{\"bookingid\":123},{\"bookingid\":1729},{\"bookingid\":2831},{\"bookingid\":1599},{\"bookingid\":1843},{\"bookingid\":3178},{\"bookingid\":3069},{\"bookingid\":2963},{\"bookingid\":2544},{\"bookingid\":3686},{\"bookingid\":771},{\"bookingid\":3119},{\"bookingid\":640},{\"bookingid\":2648},{\"bookingid\":1697},{\"bookingid\":2058},{\"bookingid\":1417},{\"bookingid\":2174},{\"bookingid\":1664},{\"bookingid\":1524},{\"bookingid\":256},{\"bookingid\":897},{\"bookingid\":2640},{\"bookingid\":1399},{\"bookingid\":3094},{\"bookingid\":3373},{\"bookingid\":3904},{\"bookingid\":2582},{\"bookingid\":3423},{\"bookingid\":1144},{\"bookingid\":2934},{\"bookingid\":2431},{\"bookingid\":3599},{\"bookingid\":2718},{\"bookingid\":1540},{\"bookingid\":1439},{\"bookingid\":137},{\"bookingid\":2036},{\"bookingid\":1964},{\"bookingid\":687},{\"bookingid\":3759},{\"bookingid\":2209},{\"bookingid\":3353},{\"bookingid\":9},{\"bookingid\":3493},{\"bookingid\":1146},{\"bookingid\":3879},{\"bookingid\":2740},{\"bookingid\":985},{\"bookingid\":1618},{\"bookingid\":700},{\"bookingid\":302},{\"bookingid\":2379},{\"bookingid\":993},{\"bookingid\":3270},{\"bookingid\":1713},{\"bookingid\":1229},{\"bookingid\":2906},{\"bookingid\":2274},{\"bookingid\":3032},{\"bookingid\":3153},{\"bookingid\":2070},{\"bookingid\":1739},{\"bookingid\":3651},{\"bookingid\":1105},{\"bookingid\":3403},{\"bookingid\":1601},{\"bookingid\":122},{\"bookingid\":2656},{\"bookingid\":1653},{\"bookingid\":1978},{\"bookingid\":1961},{\"bookingid\":1264},{\"bookingid\":1046},{\"bookingid\":2469},{\"bookingid\":1655},{\"bookingid\":3184},{\"bookingid\":2507},{\"bookingid\":1380},{\"bookingid\":2131},{\"bookingid\":2577},{\"bookingid\":521},{\"bookingid\":186},{\"bookingid\":1845},{\"bookingid\":804},{\"bookingid\":681},{\"bookingid\":3365},{\"bookingid\":154},{\"bookingid\":2364},{\"bookingid\":3684},{\"bookingid\":14},{\"bookingid\":3711},{\"bookingid\":1803},{\"bookingid\":2432},{\"bookingid\":1242},{\"bookingid\":718},{\"bookingid\":1778},{\"bookingid\":1165},{\"bookingid\":2180},{\"bookingid\":391},{\"bookingid\":1130},{\"bookingid\":3679},{\"bookingid\":3660},{\"bookingid\":3334},{\"bookingid\":1956},{\"bookingid\":1467},{\"bookingid\":1522},{\"bookingid\":1933},{\"bookingid\":2822},{\"bookingid\":594},{\"bookingid\":2530},{\"bookingid\":10},{\"bookingid\":1895},{\"bookingid\":2556},{\"bookingid\":2419},{\"bookingid\":461},{\"bookingid\":2289},{\"bookingid\":2946},{\"bookingid\":2770},{\"bookingid\":1782},{\"bookingid\":3724},{\"bookingid\":657},{\"bookingid\":2985},{\"bookingid\":881},{\"bookingid\":3203},{\"bookingid\":72},{\"bookingid\":837},{\"bookingid\":1513},{\"bookingid\":1162},{\"bookingid\":3631},{\"bookingid\":2249},{\"bookingid\":2275},{\"bookingid\":2303},{\"bookingid\":144},{\"bookingid\":251},{\"bookingid\":80},{\"bookingid\":1124},{\"bookingid\":1471},{\"bookingid\":880},{\"bookingid\":3521},{\"bookingid\":2285},{\"bookingid\":945},{\"bookingid\":2911},{\"bookingid\":795},{\"bookingid\":2217},{\"bookingid\":3598},{\"bookingid\":1668},{\"bookingid\":414},{\"bookingid\":3528},{\"bookingid\":2521},{\"bookingid\":777},{\"bookingid\":3603},{\"bookingid\":2025},{\"bookingid\":2260},{\"bookingid\":1534},{\"bookingid\":693},{\"bookingid\":605},{\"bookingid\":2077},{\"bookingid\":684},{\"bookingid\":713},{\"bookingid\":1559},{\"bookingid\":1076},{\"bookingid\":2760},{\"bookingid\":2102},{\"bookingid\":3497},{\"bookingid\":1059},{\"bookingid\":1365},{\"bookingid\":2465},{\"bookingid\":2208},{\"bookingid\":3152},{\"bookingid\":1901},{\"bookingid\":3604},{\"bookingid\":2889},{\"bookingid\":3446},{\"bookingid\":2956},{\"bookingid\":1712},{\"bookingid\":858},{\"bookingid\":201},{\"bookingid\":2049},{\"bookingid\":810},{\"bookingid\":105},{\"bookingid\":823},{\"bookingid\":2982},{\"bookingid\":1118},{\"bookingid\":426},{\"bookingid\":494},{\"bookingid\":296},{\"bookingid\":2516},{\"bookingid\":3743},{\"bookingid\":3364},{\"bookingid\":3615},{\"bookingid\":102},{\"bookingid\":2873},{\"bookingid\":2651},{\"bookingid\":381},{\"bookingid\":639},{\"bookingid\":886},{\"bookingid\":2768},{\"bookingid\":1550},{\"bookingid\":1177},{\"bookingid\":1742},{\"bookingid\":470},{\"bookingid\":3075},{\"bookingid\":3048},{\"bookingid\":1836},{\"bookingid\":3460},{\"bookingid\":2330},{\"bookingid\":831},{\"bookingid\":2923},{\"bookingid\":720},{\"bookingid\":1022},{\"bookingid\":231},{\"bookingid\":2017},{\"bookingid\":176},{\"bookingid\":2784},{\"bookingid\":1855},{\"bookingid\":3611},{\"bookingid\":3255},{\"bookingid\":370},{\"bookingid\":976},{\"bookingid\":2250},{\"bookingid\":3861},{\"bookingid\":323},{\"bookingid\":3749},{\"bookingid\":3422},{\"bookingid\":1225},{\"bookingid\":289},{\"bookingid\":1148},{\"bookingid\":576},{\"bookingid\":3095},{\"bookingid\":429},{\"bookingid\":3368},{\"bookingid\":2912},{\"bookingid\":2721},{\"bookingid\":1576},{\"bookingid\":920},{\"bookingid\":1343},{\"bookingid\":2510},{\"bookingid\":1894},{\"bookingid\":3018},{\"bookingid\":3642},{\"bookingid\":617},{\"bookingid\":1317},{\"bookingid\":132},{\"bookingid\":836},{\"bookingid\":1600},{\"bookingid\":167},{\"bookingid\":1215},{\"bookingid\":2695},{\"bookingid\":3412},{\"bookingid\":3636},{\"bookingid\":990},{\"bookingid\":3414},{\"bookingid\":2533},{\"bookingid\":2333},{\"bookingid\":294},{\"bookingid\":877},{\"bookingid\":3077},{\"bookingid\":2706},{\"bookingid\":973},{\"bookingid\":520},{\"bookingid\":3900},{\"bookingid\":3840},{\"bookingid\":3006},{\"bookingid\":2675},{\"bookingid\":1309},{\"bookingid\":279},{\"bookingid\":3115},{\"bookingid\":2778},{\"bookingid\":499},{\"bookingid\":3407},{\"bookingid\":2929},{\"bookingid\":2759},{\"bookingid\":2672},{\"bookingid\":2643},{\"bookingid\":3478},{\"bookingid\":1344},{\"bookingid\":1612},{\"bookingid\":1335},{\"bookingid\":97},{\"bookingid\":2026},{\"bookingid\":1413},{\"bookingid\":2614},{\"bookingid\":1688},{\"bookingid\":863},{\"bookingid\":1799},{\"bookingid\":3165},{\"bookingid\":2435},{\"bookingid\":3417},{\"bookingid\":667},{\"bookingid\":1111},{\"bookingid\":204},{\"bookingid\":544},{\"bookingid\":2981},{\"bookingid\":63},{\"bookingid\":1304},{\"bookingid\":2678},{\"bookingid\":173},{\"bookingid\":1651},{\"bookingid\":1270},{\"bookingid\":2714},{\"bookingid\":3632},{\"bookingid\":2790},{\"bookingid\":651},{\"bookingid\":203},{\"bookingid\":2082},{\"bookingid\":2849},{\"bookingid\":2668},{\"bookingid\":1656},{\"bookingid\":2526},{\"bookingid\":1147},{\"bookingid\":451},{\"bookingid\":187},{\"bookingid\":2456},{\"bookingid\":3272},{\"bookingid\":1592},{\"bookingid\":636},{\"bookingid\":380},{\"bookingid\":273},{\"bookingid\":1265},{\"bookingid\":3550},{\"bookingid\":1310},{\"bookingid\":2995},{\"bookingid\":1794},{\"bookingid\":1347},{\"bookingid\":2580},{\"bookingid\":764},{\"bookingid\":3275},{\"bookingid\":3662},{\"bookingid\":1431},{\"bookingid\":1276},{\"bookingid\":721},{\"bookingid\":2940},{\"bookingid\":3041},{\"bookingid\":1017},{\"bookingid\":1287},{\"bookingid\":1228},{\"bookingid\":2804},{\"bookingid\":2673},{\"bookingid\":978},{\"bookingid\":2422},{\"bookingid\":3480},{\"bookingid\":1625},{\"bookingid\":392},{\"bookingid\":1044},{\"bookingid\":3185},{\"bookingid\":2896},{\"bookingid\":3544},{\"bookingid\":1910},{\"bookingid\":2732},{\"bookingid\":3585},{\"bookingid\":3328},{\"bookingid\":2691},{\"bookingid\":3385},{\"bookingid\":311},{\"bookingid\":2317},{\"bookingid\":1990},{\"bookingid\":1753},{\"bookingid\":3764},{\"bookingid\":1593},{\"bookingid\":2363},{\"bookingid\":2766},{\"bookingid\":1704},{\"bookingid\":1062},{\"bookingid\":1460},{\"bookingid\":1997},{\"bookingid\":2453},{\"bookingid\":909},{\"bookingid\":3134},{\"bookingid\":3060},{\"bookingid\":276},{\"bookingid\":1183},{\"bookingid\":892},{\"bookingid\":1440},{\"bookingid\":1392},{\"bookingid\":1086},{\"bookingid\":736},{\"bookingid\":1488},{\"bookingid\":94},{\"bookingid\":3824},{\"bookingid\":2859},{\"bookingid\":1690},{\"bookingid\":2141},{\"bookingid\":914},{\"bookingid\":3771},{\"bookingid\":3829},{\"bookingid\":901},{\"bookingid\":2083},{\"bookingid\":1959},{\"bookingid\":3082},{\"bookingid\":2315},{\"bookingid\":2785},{\"bookingid\":38},{\"bookingid\":3788},{\"bookingid\":53},{\"bookingid\":2827},{\"bookingid\":3297},{\"bookingid\":699},{\"bookingid\":3362},{\"bookingid\":602},{\"bookingid\":43},{\"bookingid\":3663},{\"bookingid\":1381},{\"bookingid\":548},{\"bookingid\":3675},{\"bookingid\":1461},{\"bookingid\":2843},{\"bookingid\":2412},{\"bookingid\":31},{\"bookingid\":79},{\"bookingid\":2690},{\"bookingid\":2201},{\"bookingid\":2490},{\"bookingid\":510},{\"bookingid\":484},{\"bookingid\":3217},{\"bookingid\":2936},{\"bookingid\":559},{\"bookingid\":2847},{\"bookingid\":1883},{\"bookingid\":1531},{\"bookingid\":1632},{\"bookingid\":2352},{\"bookingid\":3009},{\"bookingid\":463},{\"bookingid\":1918},{\"bookingid\":2861},{\"bookingid\":3501},{\"bookingid\":291},{\"bookingid\":1884},{\"bookingid\":2270},{\"bookingid\":1370},{\"bookingid\":324},{\"bookingid\":6},{\"bookingid\":2583},{\"bookingid\":1135},{\"bookingid\":768},{\"bookingid\":1371},{\"bookingid\":3732},{\"bookingid\":2616},{\"bookingid\":3245},{\"bookingid\":913},{\"bookingid\":2950},{\"bookingid\":1364},{\"bookingid\":3388},{\"bookingid\":346},{\"bookingid\":2777},{\"bookingid\":3524},{\"bookingid\":1131},{\"bookingid\":299},{\"bookingid\":532},{\"bookingid\":54},{\"bookingid\":3609},{\"bookingid\":785},{\"bookingid\":866},{\"bookingid\":1386},{\"bookingid\":2607},{\"bookingid\":441},{\"bookingid\":3171},{\"bookingid\":160},{\"bookingid\":1867},{\"bookingid\":3714},{\"bookingid\":3457},{\"bookingid\":1136},{\"bookingid\":3839},{\"bookingid\":1016},{\"bookingid\":2041},{\"bookingid\":2998},{\"bookingid\":457},{\"bookingid\":3827},{\"bookingid\":1155},{\"bookingid\":908},{\"bookingid\":3155},{\"bookingid\":3584},{\"bookingid\":2546},{\"bookingid\":2875},{\"bookingid\":3345},{\"bookingid\":3776},{\"bookingid\":825},{\"bookingid\":871},{\"bookingid\":2864},{\"bookingid\":2801},{\"bookingid\":449},{\"bookingid\":3794},{\"bookingid\":1748},{\"bookingid\":202},{\"bookingid\":109},{\"bookingid\":2624},{\"bookingid\":3526},{\"bookingid\":2807},{\"bookingid\":959},{\"bookingid\":3864},{\"bookingid\":2975},{\"bookingid\":1159},{\"bookingid\":3007},{\"bookingid\":3083},{\"bookingid\":1570},{\"bookingid\":1552},{\"bookingid\":3215},{\"bookingid\":3236},{\"bookingid\":2225},{\"bookingid\":874},{\"bookingid\":2051},{\"bookingid\":1710},{\"bookingid\":801},{\"bookingid\":1841},{\"bookingid\":1308},{\"bookingid\":1395},{\"bookingid\":3390},{\"bookingid\":3052},{\"bookingid\":2634},{\"bookingid\":855},{\"bookingid\":447},{\"bookingid\":690},{\"bookingid\":1298},{\"bookingid\":1315},{\"bookingid\":101},{\"bookingid\":3448},{\"bookingid\":3541},{\"bookingid\":357},{\"bookingid\":2603},{\"bookingid\":2495},{\"bookingid\":2504},{\"bookingid\":3110},{\"bookingid\":3168},{\"bookingid\":2948},{\"bookingid\":3674},{\"bookingid\":3682},{\"bookingid\":1291},{\"bookingid\":2343},{\"bookingid\":2021},{\"bookingid\":227},{\"bookingid\":317},{\"bookingid\":2820},{\"bookingid\":977},{\"bookingid\":2167},{\"bookingid\":174},{\"bookingid\":1374},{\"bookingid\":860},{\"bookingid\":691},{\"bookingid\":1941},{\"bookingid\":622},{\"bookingid\":3106},{\"bookingid\":2153},{\"bookingid\":1284},{\"bookingid\":163},{\"bookingid\":2030},{\"bookingid\":3318},{\"bookingid\":3231},{\"bookingid\":2166},{\"bookingid\":1639},{\"bookingid\":2479},{\"bookingid\":1257},{\"bookingid\":3757},{\"bookingid\":28},{\"bookingid\":1112},{\"bookingid\":1603},{\"bookingid\":2340},{\"bookingid\":1013},{\"bookingid\":3565},{\"bookingid\":1030},{\"bookingid\":405},{\"bookingid\":2322},{\"bookingid\":3017},{\"bookingid\":3201},{\"bookingid\":3001},{\"bookingid\":339},{\"bookingid\":2743},{\"bookingid\":2870},{\"bookingid\":3211},{\"bookingid\":2520},{\"bookingid\":314},{\"bookingid\":115},{\"bookingid\":2093},{\"bookingid\":237},{\"bookingid\":125},{\"bookingid\":3885},{\"bookingid\":1283},{\"bookingid\":219},{\"bookingid\":2813},{\"bookingid\":938},{\"bookingid\":2620},{\"bookingid\":1324},{\"bookingid\":1331}]'"
            ],
            "application/vnd.google.colaboratory.intrinsic+json": {
              "type": "string"
            }
          },
          "metadata": {},
          "execution_count": 14
        }
      ]
    },
    {
      "cell_type": "code",
      "source": [
        "def get_guest_details(start_booking_id,end_booking_id):\n",
        "  url = 'https://restful-booker.herokuapp.com/booking'\n",
        "  booking_details = []\n",
        "  for i in range(start_booking_id,end_booking_id+1):\n",
        "    response = requests.get(f'{url}/{i}')\n",
        "    booking_details.append(response.json())\n",
        "  return booking_details\n",
        "\n",
        "details = get_guest_details(1,9)\n",
        "print(details)"
      ],
      "metadata": {
        "colab": {
          "base_uri": "https://localhost:8080/"
        },
        "id": "FMTKba6fKemT",
        "outputId": "f7eec89e-e45b-40e6-820a-c77ecf801fb0"
      },
      "execution_count": 19,
      "outputs": [
        {
          "output_type": "stream",
          "name": "stdout",
          "text": [
            "[{'firstname': 'Eric', 'lastname': 'Wilson', 'totalprice': 648, 'depositpaid': True, 'bookingdates': {'checkin': '2021-05-04', 'checkout': '2021-09-03'}, 'additionalneeds': 'Breakfast'}, {'firstname': 'Eric', 'lastname': 'Brown', 'totalprice': 664, 'depositpaid': False, 'bookingdates': {'checkin': '2019-12-24', 'checkout': '2023-11-12'}, 'additionalneeds': 'Breakfast'}, {'firstname': 'Mark', 'lastname': 'Ericsson', 'totalprice': 105, 'depositpaid': True, 'bookingdates': {'checkin': '2016-05-23', 'checkout': '2018-08-19'}, 'additionalneeds': 'Breakfast'}, {'firstname': 'Eric', 'lastname': 'Jones', 'totalprice': 921, 'depositpaid': False, 'bookingdates': {'checkin': '2024-01-24', 'checkout': '2024-04-02'}}, {'firstname': 'Mary', 'lastname': 'Jackson', 'totalprice': 406, 'depositpaid': False, 'bookingdates': {'checkin': '2024-04-12', 'checkout': '2024-06-22'}}, {'firstname': 'Susan', 'lastname': 'Smith', 'totalprice': 930, 'depositpaid': True, 'bookingdates': {'checkin': '2018-11-25', 'checkout': '2022-10-16'}, 'additionalneeds': 'Breakfast'}, {'firstname': 'Sally', 'lastname': 'Jones', 'totalprice': 362, 'depositpaid': False, 'bookingdates': {'checkin': '2021-06-19', 'checkout': '2022-01-11'}}, {'firstname': 'Susan', 'lastname': 'Jackson', 'totalprice': 952, 'depositpaid': False, 'bookingdates': {'checkin': '2018-08-12', 'checkout': '2022-11-20'}, 'additionalneeds': 'Breakfast'}, {'firstname': 'Mark', 'lastname': 'Jackson', 'totalprice': 673, 'depositpaid': False, 'bookingdates': {'checkin': '2015-06-11', 'checkout': '2019-02-12'}}]\n"
          ]
        }
      ]
    },
    {
      "cell_type": "markdown",
      "source": [
        "## ###Problem statement -->\n",
        "You are tasked with developing a product management system that interacts with an API to add new products. Write a function that sends a POST request to the API endpoint for adding new products. The request payload should be in JSON format.\n",
        "\n",
        "The API endpoint is available at: https://dummyjson.com/products/add\n",
        "Input\n",
        "The function will input product information and sends a POST request to the API endpoint.\n",
        "### Output\n",
        "    {'id': 195, 'title': 'BMW Pencil', 'price': 50, 'brand': 'BMW', 'category': 'Stationery'}"
      ],
      "metadata": {
        "id": "VxgMJkKjMvIG"
      }
    },
    {
      "cell_type": "code",
      "source": [
        "headers = { 'Content-Type': 'application/json' }\n",
        "url = 'https://dummyjson.com/products/add'\n",
        "body = {\n",
        "    \"title\": \"BMW Pencil\",\n",
        "    \"price\": 50,\n",
        "    \"brand\": \"BMW\",\n",
        "    \"category\": \"Stationery\"\n",
        "}\n",
        "string_data = json.dumps(body)\n",
        "response = requests.post(url,headers = headers,data=string_data)\n",
        "response.status_code"
      ],
      "metadata": {
        "colab": {
          "base_uri": "https://localhost:8080/"
        },
        "id": "U7JhYgc_KxR3",
        "outputId": "a4e7693b-2f58-4b97-c33f-9958c4e6a065"
      },
      "execution_count": 22,
      "outputs": [
        {
          "output_type": "execute_result",
          "data": {
            "text/plain": [
              "201"
            ]
          },
          "metadata": {},
          "execution_count": 22
        }
      ]
    },
    {
      "cell_type": "code",
      "source": [
        "response.json()"
      ],
      "metadata": {
        "colab": {
          "base_uri": "https://localhost:8080/"
        },
        "id": "Zx6xHxeBN33P",
        "outputId": "8e23358d-4847-417a-997b-aa1f7367523e"
      },
      "execution_count": 23,
      "outputs": [
        {
          "output_type": "execute_result",
          "data": {
            "text/plain": [
              "{'id': 195,\n",
              " 'title': 'BMW Pencil',\n",
              " 'price': 50,\n",
              " 'brand': 'BMW',\n",
              " 'category': 'Stationery'}"
            ]
          },
          "metadata": {},
          "execution_count": 23
        }
      ]
    },
    {
      "cell_type": "markdown",
      "source": [],
      "metadata": {
        "id": "jLBrnbhrRHOV"
      }
    },
    {
      "cell_type": "markdown",
      "source": [
        "PUT Method:\n",
        "1. The PUT method is used to update existing data on the server.\n",
        "2. It replaces the entire resource with the uddated data provided in the request\n",
        "3.PUT requests are often used to update specific resources,such as modifying user information or updating a blog post"
      ],
      "metadata": {
        "id": "teiaq4u9QmZr"
      }
    },
    {
      "cell_type": "code",
      "source": [
        "put_url = \"https://dummyjson.com/products/1\"\n",
        "headers = { 'Content-Type': 'application/json' }\n",
        "body = {'title': 'iPhone Galaxy +1'}\n",
        "string_body = json.dumps(body)\n",
        "put_response = requests.put(put_url,headers = headers , data = string_body)\n",
        "put_response.status_code"
      ],
      "metadata": {
        "colab": {
          "base_uri": "https://localhost:8080/"
        },
        "id": "igw_xKGARmq7",
        "outputId": "20b37044-5ebd-49a1-dffa-d544abf5af57"
      },
      "execution_count": 24,
      "outputs": [
        {
          "output_type": "execute_result",
          "data": {
            "text/plain": [
              "200"
            ]
          },
          "metadata": {},
          "execution_count": 24
        }
      ]
    },
    {
      "cell_type": "code",
      "source": [
        "put_response.json()"
      ],
      "metadata": {
        "colab": {
          "base_uri": "https://localhost:8080/"
        },
        "id": "c75HXJGFSWOa",
        "outputId": "362b12d5-a767-481b-b697-b8f97ca00c8d"
      },
      "execution_count": 25,
      "outputs": [
        {
          "output_type": "execute_result",
          "data": {
            "text/plain": [
              "{'id': 1,\n",
              " 'title': 'iPhone Galaxy +1',\n",
              " 'price': 9.99,\n",
              " 'discountPercentage': 7.17,\n",
              " 'stock': 5,\n",
              " 'rating': 4.94,\n",
              " 'images': ['https://cdn.dummyjson.com/products/images/beauty/Essence%20Mascara%20Lash%20Princess/1.png'],\n",
              " 'thumbnail': 'https://cdn.dummyjson.com/products/images/beauty/Essence%20Mascara%20Lash%20Princess/thumbnail.png',\n",
              " 'description': 'The Essence Mascara Lash Princess is a popular mascara known for its volumizing and lengthening effects. Achieve dramatic lashes with this long-lasting and cruelty-free formula.',\n",
              " 'brand': 'Essence',\n",
              " 'category': 'beauty'}"
            ]
          },
          "metadata": {},
          "execution_count": 25
        }
      ]
    },
    {
      "cell_type": "code",
      "source": [],
      "metadata": {
        "id": "p4me9ISASWh5"
      },
      "execution_count": null,
      "outputs": []
    },
    {
      "cell_type": "markdown",
      "source": [
        "DELETE Method:\n",
        "1.The DELETE method is used to delete a specified resource on the server.\n",
        "2. It removes the resource permanently from the server.\n",
        "3. DELETE requests are used to remove data or resources from the server.\n"
      ],
      "metadata": {
        "id": "gaMlAG6QRdhy"
      }
    },
    {
      "cell_type": "code",
      "source": [
        "delete_response = requests.delete('https://dummyjson.com/products/2')\n",
        "delete_response.status_code"
      ],
      "metadata": {
        "colab": {
          "base_uri": "https://localhost:8080/"
        },
        "id": "heNTdJFfSVi4",
        "outputId": "fbede71b-e37c-440f-8f1f-547fa9c3d342"
      },
      "execution_count": 26,
      "outputs": [
        {
          "output_type": "execute_result",
          "data": {
            "text/plain": [
              "200"
            ]
          },
          "metadata": {},
          "execution_count": 26
        }
      ]
    },
    {
      "cell_type": "code",
      "source": [
        "delete_response.json()"
      ],
      "metadata": {
        "colab": {
          "base_uri": "https://localhost:8080/"
        },
        "id": "jcOvbXUDODdm",
        "outputId": "acdd2b08-e634-4519-db37-4f02a99d2330"
      },
      "execution_count": 27,
      "outputs": [
        {
          "output_type": "execute_result",
          "data": {
            "text/plain": [
              "{'id': 2,\n",
              " 'title': 'Eyeshadow Palette with Mirror',\n",
              " 'description': \"The Eyeshadow Palette with Mirror offers a versatile range of eyeshadow shades for creating stunning eye looks. With a built-in mirror, it's convenient for on-the-go makeup application.\",\n",
              " 'category': 'beauty',\n",
              " 'price': 19.99,\n",
              " 'discountPercentage': 5.5,\n",
              " 'rating': 3.28,\n",
              " 'stock': 44,\n",
              " 'tags': ['beauty', 'eyeshadow'],\n",
              " 'brand': 'Glamour Beauty',\n",
              " 'sku': 'MVCFH27F',\n",
              " 'weight': 3,\n",
              " 'dimensions': {'width': 12.42, 'height': 8.63, 'depth': 29.13},\n",
              " 'warrantyInformation': '1 year warranty',\n",
              " 'shippingInformation': 'Ships in 2 weeks',\n",
              " 'availabilityStatus': 'In Stock',\n",
              " 'reviews': [{'rating': 4,\n",
              "   'comment': 'Very satisfied!',\n",
              "   'date': '2024-05-23T08:56:21.618Z',\n",
              "   'reviewerName': 'Liam Garcia',\n",
              "   'reviewerEmail': 'liam.garcia@x.dummyjson.com'},\n",
              "  {'rating': 1,\n",
              "   'comment': 'Very disappointed!',\n",
              "   'date': '2024-05-23T08:56:21.618Z',\n",
              "   'reviewerName': 'Nora Russell',\n",
              "   'reviewerEmail': 'nora.russell@x.dummyjson.com'},\n",
              "  {'rating': 5,\n",
              "   'comment': 'Highly impressed!',\n",
              "   'date': '2024-05-23T08:56:21.618Z',\n",
              "   'reviewerName': 'Elena Baker',\n",
              "   'reviewerEmail': 'elena.baker@x.dummyjson.com'}],\n",
              " 'returnPolicy': '30 days return policy',\n",
              " 'minimumOrderQuantity': 32,\n",
              " 'meta': {'createdAt': '2024-05-23T08:56:21.618Z',\n",
              "  'updatedAt': '2024-05-23T08:56:21.618Z',\n",
              "  'barcode': '2817839095220',\n",
              "  'qrCode': 'https://assets.dummyjson.com/public/qr-code.png'},\n",
              " 'images': ['https://cdn.dummyjson.com/products/images/beauty/Eyeshadow%20Palette%20with%20Mirror/1.png'],\n",
              " 'thumbnail': 'https://cdn.dummyjson.com/products/images/beauty/Eyeshadow%20Palette%20with%20Mirror/thumbnail.png',\n",
              " 'isDeleted': True,\n",
              " 'deletedOn': '2024-07-13T13:31:36.083Z'}"
            ]
          },
          "metadata": {},
          "execution_count": 27
        }
      ]
    },
    {
      "cell_type": "code",
      "source": [
        "url = 'https://dummyjson.com/recipes?limit=10&skip=0&select=name,image'\n",
        "response = requests.get(url)\n",
        "response.status_code"
      ],
      "metadata": {
        "colab": {
          "base_uri": "https://localhost:8080/"
        },
        "id": "wlHSqUstSv2p",
        "outputId": "6bbafe0a-1ae0-4ae2-a38e-15e240b6ed15"
      },
      "execution_count": 30,
      "outputs": [
        {
          "output_type": "execute_result",
          "data": {
            "text/plain": [
              "200"
            ]
          },
          "metadata": {},
          "execution_count": 30
        }
      ]
    },
    {
      "cell_type": "code",
      "source": [
        "response.json()"
      ],
      "metadata": {
        "colab": {
          "base_uri": "https://localhost:8080/"
        },
        "id": "BswQJNECTToU",
        "outputId": "019f9dde-fef8-4131-9823-7f270f8c5969"
      },
      "execution_count": 31,
      "outputs": [
        {
          "output_type": "execute_result",
          "data": {
            "text/plain": [
              "{'recipes': [{'id': 1,\n",
              "   'name': 'Classic Margherita Pizza',\n",
              "   'image': 'https://cdn.dummyjson.com/recipe-images/1.webp'},\n",
              "  {'id': 2,\n",
              "   'name': 'Vegetarian Stir-Fry',\n",
              "   'image': 'https://cdn.dummyjson.com/recipe-images/2.webp'},\n",
              "  {'id': 3,\n",
              "   'name': 'Chocolate Chip Cookies',\n",
              "   'image': 'https://cdn.dummyjson.com/recipe-images/3.webp'},\n",
              "  {'id': 4,\n",
              "   'name': 'Chicken Alfredo Pasta',\n",
              "   'image': 'https://cdn.dummyjson.com/recipe-images/4.webp'},\n",
              "  {'id': 5,\n",
              "   'name': 'Mango Salsa Chicken',\n",
              "   'image': 'https://cdn.dummyjson.com/recipe-images/5.webp'},\n",
              "  {'id': 6,\n",
              "   'name': 'Quinoa Salad with Avocado',\n",
              "   'image': 'https://cdn.dummyjson.com/recipe-images/6.webp'},\n",
              "  {'id': 7,\n",
              "   'name': 'Tomato Basil Bruschetta',\n",
              "   'image': 'https://cdn.dummyjson.com/recipe-images/7.webp'},\n",
              "  {'id': 8,\n",
              "   'name': 'Beef and Broccoli Stir-Fry',\n",
              "   'image': 'https://cdn.dummyjson.com/recipe-images/8.webp'},\n",
              "  {'id': 9,\n",
              "   'name': 'Caprese Salad',\n",
              "   'image': 'https://cdn.dummyjson.com/recipe-images/9.webp'},\n",
              "  {'id': 10,\n",
              "   'name': 'Shrimp Scampi Pasta',\n",
              "   'image': 'https://cdn.dummyjson.com/recipe-images/10.webp'}],\n",
              " 'total': 50,\n",
              " 'skip': 0,\n",
              " 'limit': 10}"
            ]
          },
          "metadata": {},
          "execution_count": 31
        }
      ]
    },
    {
      "cell_type": "markdown",
      "source": [
        "### API Status Codes\n",
        "-1xx: indicate that request has been received and the server is countinuing to process it.\n",
        "\n",
        "-2xx: indicate that the request was successful and the server has fulfilled it.\n",
        "\n",
        "-3xx:indicate that further action needs to be taken to complete the requet(server is unable to process the request and diverting your request to different server).\n",
        "\n",
        "-4xx:indicate that the client's request was invalid or cannot be processed by the server(e.g. endpoint is not available. basically due to client error).\n",
        "\n",
        "-5xx:indicate that the server failed to fulfill a valid request(server does not have function to process your request).\n",
        "\n",
        "# Inspect Response:\n",
        "check the response status code to understand the result of the request\n",
        "**error messanges:**extract and present detailed error messages to useres.\n",
        "**conditional logic:** implement logic based on status codes for appropriate user feedback.\n",
        "**retry mechanism:** create a mechanism to retry requests after a short delay fro transient errors.\n",
        "**logging:**maintain logs to track error responses and improve your application."
      ],
      "metadata": {
        "id": "zZdV6UdeT3FR"
      }
    },
    {
      "cell_type": "markdown",
      "source": [
        "1. 'https://dummyjson.com/products'\n",
        "2. 'https://api.twitter.com/2/tweets/search/recent?query=from:elonmusk'\n",
        "3. 'http://the-internet.herokuapp.com/status_codes/500'"
      ],
      "metadata": {
        "id": "CyxrJbGXW4P8"
      }
    },
    {
      "cell_type": "code",
      "source": [
        "response_200 = requests.get('https://dummyjson.com/products')\n",
        "response_200.status_code"
      ],
      "metadata": {
        "colab": {
          "base_uri": "https://localhost:8080/"
        },
        "id": "UbcnJ3wiWlGq",
        "outputId": "f7a994be-ab82-47b5-8ca1-b4479b1cc7c0"
      },
      "execution_count": 32,
      "outputs": [
        {
          "output_type": "execute_result",
          "data": {
            "text/plain": [
              "200"
            ]
          },
          "metadata": {},
          "execution_count": 32
        }
      ]
    },
    {
      "cell_type": "code",
      "source": [
        "response_404 = requests.get('https://dummyjson.com/specific_item')\n",
        "response_404.status_code"
      ],
      "metadata": {
        "colab": {
          "base_uri": "https://localhost:8080/"
        },
        "id": "BB9Ce-kCW9Td",
        "outputId": "40377a27-e130-4eec-d89a-670835798a22"
      },
      "execution_count": 36,
      "outputs": [
        {
          "output_type": "execute_result",
          "data": {
            "text/plain": [
              "404"
            ]
          },
          "metadata": {},
          "execution_count": 36
        }
      ]
    },
    {
      "cell_type": "code",
      "source": [
        "response_404.text"
      ],
      "metadata": {
        "colab": {
          "base_uri": "https://localhost:8080/",
          "height": 35
        },
        "id": "MLo4WCBqXBY1",
        "outputId": "da54367a-e615-4eb0-afc2-eae33422fb43"
      },
      "execution_count": 37,
      "outputs": [
        {
          "output_type": "execute_result",
          "data": {
            "text/plain": [
              "''"
            ],
            "application/vnd.google.colaboratory.intrinsic+json": {
              "type": "string"
            }
          },
          "metadata": {},
          "execution_count": 37
        }
      ]
    },
    {
      "cell_type": "code",
      "source": [
        "response_500 = requests.get('http://the-internet.herokuapp.com/status_codes/500')\n",
        "response_500.status_code"
      ],
      "metadata": {
        "colab": {
          "base_uri": "https://localhost:8080/"
        },
        "id": "EWpXJyOHXU6U",
        "outputId": "491cdb3f-945c-4824-dd7f-749da7c61526"
      },
      "execution_count": 39,
      "outputs": [
        {
          "output_type": "execute_result",
          "data": {
            "text/plain": [
              "500"
            ]
          },
          "metadata": {},
          "execution_count": 39
        }
      ]
    },
    {
      "cell_type": "code",
      "source": [
        "print(response_500.text)"
      ],
      "metadata": {
        "colab": {
          "base_uri": "https://localhost:8080/"
        },
        "id": "fIujycg0XdCb",
        "outputId": "08697914-dbe8-4443-fd89-dac6d729cc45"
      },
      "execution_count": 42,
      "outputs": [
        {
          "output_type": "stream",
          "name": "stdout",
          "text": [
            "<!DOCTYPE html>\n",
            "<!--[if IE 8]>         <html class=\"no-js lt-ie9\" lang=\"en\" > <![endif]-->\n",
            "<!--[if gt IE 8]><!--> <html class=\"no-js\" lang=\"en\" > <!--<![endif]-->\n",
            "\n",
            "<html>\n",
            "  <head>\n",
            "    <script src=\"/js/vendor/298279967.js\"></script>\n",
            "    <meta charset=\"utf-8\" />\n",
            "    <meta name=\"viewport\" content=\"width=device-width\" />\n",
            "    <title>The Internet</title>\n",
            "    <link href=\"/css/app.css\" rel=\"stylesheet\">\n",
            "    <link href=\"/css/font-awesome.css\" rel=\"stylesheet\">\n",
            "    <script src=\"/js/vendor/jquery-1.11.3.min.js\"></script>\n",
            "    <script src=\"/js/vendor/jquery-ui-1.11.4/jquery-ui.js\"></script>\n",
            "    <script src=\"/js/foundation/foundation.js\"></script>\n",
            "    <script src=\"/js/foundation/foundation.alerts.js\"></script>\n",
            "    <script>\n",
            "      $(document).foundation();\n",
            "    </script>\n",
            "  </head>\n",
            "  <body>\n",
            "    <div class=\"row\">\n",
            "      <div id=\"flash-messages\" class=\"large-12 columns\">\n",
            "      \n",
            "        \n",
            "      \n",
            "        \n",
            "      \n",
            "        \n",
            "      \n",
            "      </div>\n",
            "    </div>\n",
            "    <div class=\"row\">\n",
            "      <a href=\"https://github.com/tourdedave/the-internet\"><img style=\"position: absolute; top: 0; right: 0; border: 0;\" src=\"/img/forkme_right_green_007200.png\" alt=\"Fork me on GitHub\"></a>\n",
            "      <div id=\"content\" class=\"large-12 columns\">\n",
            "        <div class=\"example\">\n",
            "  <h3>Status Codes</h3>\n",
            "  <p>\n",
            "    This page returned a 500 status code.</br>\n",
            "    </br>\n",
            "    For a definition and common list of HTTP status codes, go <a href='/status_codes'>here</a>\n",
            "  </p>\n",
            "</div>\n",
            "\n",
            "      </div>\n",
            "    </div>\n",
            "    <div id='page-footer' class=\"row\">\n",
            "      <div class=\"large-4 large-centered columns\">\n",
            "        <hr>\n",
            "        <div style=\"text-align: center;\">Powered by <a target=\"_blank\" href=\"http://elementalselenium.com/\">Elemental Selenium</a></div>\n",
            "      </div>\n",
            "    </div>\n",
            "  </body>\n",
            "</html>\n",
            "\n"
          ]
        }
      ]
    },
    {
      "cell_type": "code",
      "source": [
        "response_auth = requests.get('https://api.twitter.com/2/tweets/search/recent?query=from:elonmusk')\n",
        "response_auth.status_code"
      ],
      "metadata": {
        "colab": {
          "base_uri": "https://localhost:8080/"
        },
        "id": "skG-a3LZXqVY",
        "outputId": "e8c70daa-7fcc-498c-aa2f-e101ef16a2c5"
      },
      "execution_count": 43,
      "outputs": [
        {
          "output_type": "execute_result",
          "data": {
            "text/plain": [
              "401"
            ]
          },
          "metadata": {},
          "execution_count": 43
        }
      ]
    },
    {
      "cell_type": "code",
      "source": [
        "response_auth.json()"
      ],
      "metadata": {
        "colab": {
          "base_uri": "https://localhost:8080/"
        },
        "id": "MqWlJPUzX-Hs",
        "outputId": "1e7ca528-efb5-4d5d-80b7-7af497618b0a"
      },
      "execution_count": 44,
      "outputs": [
        {
          "output_type": "execute_result",
          "data": {
            "text/plain": [
              "{'title': 'Unauthorized',\n",
              " 'type': 'about:blank',\n",
              " 'status': 401,\n",
              " 'detail': 'Unauthorized'}"
            ]
          },
          "metadata": {},
          "execution_count": 44
        }
      ]
    },
    {
      "cell_type": "markdown",
      "source": [
        "# REST API:\n",
        "stands for Representational State Transer.\n",
        "It is an architectural style that defines a set of constraints and principles for designing networked applications.\n",
        "REST APIs are based on simplicity,scalability and statelessness.\n",
        "they use standard HTTP methods like GET,POST,PUT,DELETE to perform operations on resources.\n",
        "URLs(endpoints) are used to identify and access resources.\n",
        "REST APIs primarily use JSON(JavaScript Object Notation) for data exchange.\n"
      ],
      "metadata": {
        "id": "X3VNhWN8b_yj"
      }
    },
    {
      "cell_type": "markdown",
      "source": [
        "# ##SOAP:\n",
        "stands fro simple object access protocol\n",
        "soap is a protocol for facilitating communication between applications over a network.\n",
        "it uses XML as the data format for communication."
      ],
      "metadata": {
        "id": "no6CBXqlcEbS"
      }
    },
    {
      "cell_type": "code",
      "source": [],
      "metadata": {
        "id": "-CvEX-9ia143"
      },
      "execution_count": 45,
      "outputs": []
    },
    {
      "cell_type": "code",
      "source": [],
      "metadata": {
        "id": "OU3lANt9YBKM"
      },
      "execution_count": null,
      "outputs": []
    }
  ]
}