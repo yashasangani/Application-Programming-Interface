{
  "nbformat": 4,
  "nbformat_minor": 0,
  "metadata": {
    "colab": {
      "provenance": [],
      "authorship_tag": "ABX9TyNNX+8wiac1fajdh/5PBVND",
      "include_colab_link": true
    },
    "kernelspec": {
      "name": "python3",
      "display_name": "Python 3"
    },
    "language_info": {
      "name": "python"
    }
  },
  "cells": [
    {
      "cell_type": "markdown",
      "metadata": {
        "id": "view-in-github",
        "colab_type": "text"
      },
      "source": [
        "<a href=\"https://colab.research.google.com/github/yashasangani/Application-Programming-Interface/blob/main/HTTP_Headers_and_JSON.ipynb\" target=\"_parent\"><img src=\"https://colab.research.google.com/assets/colab-badge.svg\" alt=\"Open In Colab\"/></a>"
      ]
    },
    {
      "cell_type": "markdown",
      "source": [
        "## HTTP Headers\n",
        "common headers\n",
        "\n",
        "-content-type: specifies the format of the data being sent or received(e.g.JSON,XML,HTML)\n",
        "\n",
        "-authorization: includes authentication credentials to access protected resources.\n",
        "\n",
        "-accept:indicates the preferred response format the client expects from the server."
      ],
      "metadata": {
        "id": "7RTtQEJ8imhY"
      }
    },
    {
      "cell_type": "markdown",
      "source": [
        "## JSON Format\n",
        "\n",
        "-JSON (javascript object notation)is a lightweight data interchange format that is easy for humans to read and write and easy for machined to parse and generate.\n",
        "\n",
        "-JSON is based on key-value pairs,similar to python dictionaries . it consists of objects enclosed in curly braces {} and lits enclosed in square brackets []."
      ],
      "metadata": {
        "id": "qjTB7lcIjbQT"
      }
    },
    {
      "cell_type": "markdown",
      "source": [
        "## HTTP Headers/JSON Format"
      ],
      "metadata": {
        "id": "cADSETt4j__k"
      }
    },
    {
      "cell_type": "code",
      "execution_count": 19,
      "metadata": {
        "id": "2UPQmLxzicqn"
      },
      "outputs": [],
      "source": [
        "import json\n",
        "import requests\n",
        "\n",
        "post_url = 'https://dummyjson.com/products/add'\n",
        "\n",
        "# this is additional information\n",
        "headers = {'content-Type' : 'application/json'}\n",
        "\n",
        "data_to_post = {'title':'pencil'}\n",
        "\n",
        "string_data_to_post = json.dumps(data_to_post)\n",
        "\n",
        "response = requests.post(post_url,headers=headers,data=string_data_to_post)"
      ]
    },
    {
      "cell_type": "code",
      "source": [
        "response.json()"
      ],
      "metadata": {
        "colab": {
          "base_uri": "https://localhost:8080/"
        },
        "id": "hkwjMRyIlYc2",
        "outputId": "0e1afa07-9462-4080-bf1b-e52a823c0a89"
      },
      "execution_count": 20,
      "outputs": [
        {
          "output_type": "execute_result",
          "data": {
            "text/plain": [
              "{'id': 195, 'title': 'pencil'}"
            ]
          },
          "metadata": {},
          "execution_count": 20
        }
      ]
    },
    {
      "cell_type": "code",
      "source": [
        "dict_example =[{\"name\":\"jhon\" ,\"occupation\":\"firefighter\"},\n",
        "                {\"name\":\"mary\",\"occupation\":\"nurse\"},\n",
        "                {\"name\":\"joe\",\"occupation\":\"food tester\"}]\n",
        ""
      ],
      "metadata": {
        "id": "Dx-4fMXvm1z-"
      },
      "execution_count": 21,
      "outputs": []
    },
    {
      "cell_type": "code",
      "source": [
        "type(dict_example)"
      ],
      "metadata": {
        "colab": {
          "base_uri": "https://localhost:8080/"
        },
        "id": "s0S8QgUqnmBV",
        "outputId": "de7ec6d1-0717-4340-a5eb-27f1ca5164ce"
      },
      "execution_count": 22,
      "outputs": [
        {
          "output_type": "execute_result",
          "data": {
            "text/plain": [
              "list"
            ]
          },
          "metadata": {},
          "execution_count": 22
        }
      ]
    },
    {
      "cell_type": "code",
      "source": [
        "print(json.dumps(dict_example,indent = 3))"
      ],
      "metadata": {
        "colab": {
          "base_uri": "https://localhost:8080/"
        },
        "id": "erBt9UwennkG",
        "outputId": "18250aa8-632e-46e4-f1bd-d5326ee11a2e"
      },
      "execution_count": 24,
      "outputs": [
        {
          "output_type": "stream",
          "name": "stdout",
          "text": [
            "[\n",
            "   {\n",
            "      \"name\": \"jhon\",\n",
            "      \"occupation\": \"firefighter\"\n",
            "   },\n",
            "   {\n",
            "      \"name\": \"mary\",\n",
            "      \"occupation\": \"nurse\"\n",
            "   },\n",
            "   {\n",
            "      \"name\": \"joe\",\n",
            "      \"occupation\": \"food tester\"\n",
            "   }\n",
            "]\n"
          ]
        }
      ]
    },
    {
      "cell_type": "code",
      "source": [
        "print(json.dumps(dict_example[0],indent = 3))"
      ],
      "metadata": {
        "colab": {
          "base_uri": "https://localhost:8080/"
        },
        "id": "8L2sWVnVntR-",
        "outputId": "1baecb98-a61e-40a8-f948-02855f60d9c8"
      },
      "execution_count": 26,
      "outputs": [
        {
          "output_type": "stream",
          "name": "stdout",
          "text": [
            "{\n",
            "   \"name\": \"jhon\",\n",
            "   \"occupation\": \"firefighter\"\n",
            "}\n"
          ]
        }
      ]
    },
    {
      "cell_type": "markdown",
      "source": [
        "### API parameters and Data Retrieval\n",
        "\n",
        "API Parameters\n",
        "\n",
        "-API parameters are used to customize the API request and filter the data returned by the API.\n",
        "\n",
        "-parameters are added to the aPI endpoint URL and allow users to specify criteria such as serch keywords,date ranges, sorting preferences, and more.                                         \n",
        "\n",
        "### Retrievaing DAta:\n",
        "\n",
        "-by making HTTP requests to specific aPI endpoints,users can retrieve data from the API\n",
        "\n",
        "-the api response typically includes the requested data in a structured format, such as JSON or XML\n",
        "\n",
        "### accessing DATA:\n",
        "\n",
        "-once the data is retrieved from the aPI, use correct format\n",
        "\n",
        "## Parsing DATA:\n",
        "APIS often return data in a structured format ,such as JSON or XML\n",
        "\n",
        "-users can parse the structured data to extract specific information of interest using parsing techniques and librearies available in their programming language."
      ],
      "metadata": {
        "id": "e3DCX5A3pF2i"
      }
    },
    {
      "cell_type": "markdown",
      "source": [
        "##API: Parameters, Retrieving , Accessing, Parsing data"
      ],
      "metadata": {
        "id": "x1naFEFjraCq"
      }
    },
    {
      "cell_type": "code",
      "source": [
        "laptop_search_url = \"https://dummyjson.com/products/search?q=laptop\"\n",
        "bag_search_url = \"https://dummyjson.com/products/search?q=bags\"\n",
        "# we are searching based on parameteres\n",
        "\n",
        "field_filter_url = \"https://dummyjson.com/products&select=title,price,stock\"\n",
        "#filtering the field based on params\n",
        "\n",
        "filter_url = 'https://dummyjson.com/products?limit=10&skip=10&select=title,price'\n",
        "#filtering the amout of data that is fetched"
      ],
      "metadata": {
        "id": "YCfPlOKkn5WA"
      },
      "execution_count": 28,
      "outputs": []
    },
    {
      "cell_type": "code",
      "source": [
        "base_url = \"https://dummyjson.com/products\"\n",
        "response = requests.get(base_url)\n",
        "len(response.json()[\"products\"])"
      ],
      "metadata": {
        "colab": {
          "base_uri": "https://localhost:8080/"
        },
        "id": "f1jIPyH3r3ix",
        "outputId": "3a82d397-18a5-4c24-b4e6-abb1f236505d"
      },
      "execution_count": 31,
      "outputs": [
        {
          "output_type": "execute_result",
          "data": {
            "text/plain": [
              "30"
            ]
          },
          "metadata": {},
          "execution_count": 31
        }
      ]
    },
    {
      "cell_type": "code",
      "source": [
        "\n",
        "response = requests.get(laptop_search_url)\n",
        "response.json()[\"products\"][0]"
      ],
      "metadata": {
        "colab": {
          "base_uri": "https://localhost:8080/"
        },
        "id": "HNpSd3fasZZ-",
        "outputId": "74e1b73a-83a9-4c9c-800f-cb5341ceeaf0"
      },
      "execution_count": 35,
      "outputs": [
        {
          "output_type": "execute_result",
          "data": {
            "text/plain": [
              "{'id': 78,\n",
              " 'title': 'Apple MacBook Pro 14 Inch Space Grey',\n",
              " 'description': \"The MacBook Pro 14 Inch in Space Grey is a powerful and sleek laptop, featuring Apple's M1 Pro chip for exceptional performance and a stunning Retina display.\",\n",
              " 'category': 'laptops',\n",
              " 'price': 1999.99,\n",
              " 'discountPercentage': 9.25,\n",
              " 'rating': 3.13,\n",
              " 'stock': 39,\n",
              " 'tags': ['laptops', 'apple'],\n",
              " 'brand': 'Apple',\n",
              " 'sku': 'QDKO6NRJ',\n",
              " 'weight': 4,\n",
              " 'dimensions': {'width': 12.38, 'height': 21.55, 'depth': 27.95},\n",
              " 'warrantyInformation': '1 month warranty',\n",
              " 'shippingInformation': 'Ships in 1 week',\n",
              " 'availabilityStatus': 'In Stock',\n",
              " 'reviews': [{'rating': 5,\n",
              "   'comment': 'Would buy again!',\n",
              "   'date': '2024-05-23T08:56:21.622Z',\n",
              "   'reviewerName': 'Hunter Gordon',\n",
              "   'reviewerEmail': 'hunter.gordon@x.dummyjson.com'},\n",
              "  {'rating': 5,\n",
              "   'comment': 'Would buy again!',\n",
              "   'date': '2024-05-23T08:56:21.622Z',\n",
              "   'reviewerName': 'Emma Wilson',\n",
              "   'reviewerEmail': 'emma.wilson@x.dummyjson.com'},\n",
              "  {'rating': 5,\n",
              "   'comment': 'Very pleased!',\n",
              "   'date': '2024-05-23T08:56:21.622Z',\n",
              "   'reviewerName': 'David Martinez',\n",
              "   'reviewerEmail': 'david.martinez@x.dummyjson.com'}],\n",
              " 'returnPolicy': '30 days return policy',\n",
              " 'minimumOrderQuantity': 1,\n",
              " 'meta': {'createdAt': '2024-05-23T08:56:21.622Z',\n",
              "  'updatedAt': '2024-05-23T08:56:21.622Z',\n",
              "  'barcode': '3883623063065',\n",
              "  'qrCode': 'https://assets.dummyjson.com/public/qr-code.png'},\n",
              " 'images': ['https://cdn.dummyjson.com/products/images/laptops/Apple%20MacBook%20Pro%2014%20Inch%20Space%20Grey/1.png',\n",
              "  'https://cdn.dummyjson.com/products/images/laptops/Apple%20MacBook%20Pro%2014%20Inch%20Space%20Grey/2.png',\n",
              "  'https://cdn.dummyjson.com/products/images/laptops/Apple%20MacBook%20Pro%2014%20Inch%20Space%20Grey/3.png'],\n",
              " 'thumbnail': 'https://cdn.dummyjson.com/products/images/laptops/Apple%20MacBook%20Pro%2014%20Inch%20Space%20Grey/thumbnail.png'}"
            ]
          },
          "metadata": {},
          "execution_count": 35
        }
      ]
    },
    {
      "cell_type": "code",
      "source": [
        "field_filter_url = \"https://dummyjson.com/products?&select=title,price,stock\"\n",
        "response = requests.get(field_filter_url)\n",
        "response.json()[\"products\"]"
      ],
      "metadata": {
        "colab": {
          "base_uri": "https://localhost:8080/"
        },
        "id": "hVRT3yyQtDwF",
        "outputId": "247977ea-6d20-4d81-e626-c78f07c34584"
      },
      "execution_count": 41,
      "outputs": [
        {
          "output_type": "execute_result",
          "data": {
            "text/plain": [
              "[{'id': 1,\n",
              "  'title': 'Essence Mascara Lash Princess',\n",
              "  'price': 9.99,\n",
              "  'stock': 5},\n",
              " {'id': 2,\n",
              "  'title': 'Eyeshadow Palette with Mirror',\n",
              "  'price': 19.99,\n",
              "  'stock': 44},\n",
              " {'id': 3, 'title': 'Powder Canister', 'price': 14.99, 'stock': 59},\n",
              " {'id': 4, 'title': 'Red Lipstick', 'price': 12.99, 'stock': 68},\n",
              " {'id': 5, 'title': 'Red Nail Polish', 'price': 8.99, 'stock': 71},\n",
              " {'id': 6, 'title': 'Calvin Klein CK One', 'price': 49.99, 'stock': 17},\n",
              " {'id': 7, 'title': 'Chanel Coco Noir Eau De', 'price': 129.99, 'stock': 41},\n",
              " {'id': 8, 'title': \"Dior J'adore\", 'price': 89.99, 'stock': 91},\n",
              " {'id': 9, 'title': 'Dolce Shine Eau de', 'price': 69.99, 'stock': 3},\n",
              " {'id': 10, 'title': 'Gucci Bloom Eau de', 'price': 79.99, 'stock': 93},\n",
              " {'id': 11, 'title': 'Annibale Colombo Bed', 'price': 1899.99, 'stock': 47},\n",
              " {'id': 12, 'title': 'Annibale Colombo Sofa', 'price': 2499.99, 'stock': 16},\n",
              " {'id': 13,\n",
              "  'title': 'Bedside Table African Cherry',\n",
              "  'price': 299.99,\n",
              "  'stock': 16},\n",
              " {'id': 14,\n",
              "  'title': 'Knoll Saarinen Executive Conference Chair',\n",
              "  'price': 499.99,\n",
              "  'stock': 47},\n",
              " {'id': 15,\n",
              "  'title': 'Wooden Bathroom Sink With Mirror',\n",
              "  'price': 799.99,\n",
              "  'stock': 95},\n",
              " {'id': 16, 'title': 'Apple', 'price': 1.99, 'stock': 9},\n",
              " {'id': 17, 'title': 'Beef Steak', 'price': 12.99, 'stock': 96},\n",
              " {'id': 18, 'title': 'Cat Food', 'price': 8.99, 'stock': 13},\n",
              " {'id': 19, 'title': 'Chicken Meat', 'price': 9.99, 'stock': 69},\n",
              " {'id': 20, 'title': 'Cooking Oil', 'price': 4.99, 'stock': 22},\n",
              " {'id': 21, 'title': 'Cucumber', 'price': 1.49, 'stock': 22},\n",
              " {'id': 22, 'title': 'Dog Food', 'price': 10.99, 'stock': 40},\n",
              " {'id': 23, 'title': 'Eggs', 'price': 2.99, 'stock': 10},\n",
              " {'id': 24, 'title': 'Fish Steak', 'price': 14.99, 'stock': 99},\n",
              " {'id': 25, 'title': 'Green Bell Pepper', 'price': 1.29, 'stock': 89},\n",
              " {'id': 26, 'title': 'Green Chili Pepper', 'price': 0.99, 'stock': 8},\n",
              " {'id': 27, 'title': 'Honey Jar', 'price': 6.99, 'stock': 25},\n",
              " {'id': 28, 'title': 'Ice Cream', 'price': 5.49, 'stock': 76},\n",
              " {'id': 29, 'title': 'Juice', 'price': 3.99, 'stock': 99},\n",
              " {'id': 30, 'title': 'Kiwi', 'price': 2.49, 'stock': 1}]"
            ]
          },
          "metadata": {},
          "execution_count": 41
        }
      ]
    },
    {
      "cell_type": "code",
      "source": [
        "filter_url = 'https://dummyjson.com/products?limit=10&skip=10&select=title,price'\n",
        "response_10 = requests.get(filter_url)\n",
        "response_10.json()[\"products\"]"
      ],
      "metadata": {
        "colab": {
          "base_uri": "https://localhost:8080/"
        },
        "id": "qlDrfffDtwE1",
        "outputId": "4a583b34-a0a1-470b-89bf-be7791cc2235"
      },
      "execution_count": 43,
      "outputs": [
        {
          "output_type": "execute_result",
          "data": {
            "text/plain": [
              "[{'id': 11, 'title': 'Annibale Colombo Bed', 'price': 1899.99},\n",
              " {'id': 12, 'title': 'Annibale Colombo Sofa', 'price': 2499.99},\n",
              " {'id': 13, 'title': 'Bedside Table African Cherry', 'price': 299.99},\n",
              " {'id': 14,\n",
              "  'title': 'Knoll Saarinen Executive Conference Chair',\n",
              "  'price': 499.99},\n",
              " {'id': 15, 'title': 'Wooden Bathroom Sink With Mirror', 'price': 799.99},\n",
              " {'id': 16, 'title': 'Apple', 'price': 1.99},\n",
              " {'id': 17, 'title': 'Beef Steak', 'price': 12.99},\n",
              " {'id': 18, 'title': 'Cat Food', 'price': 8.99},\n",
              " {'id': 19, 'title': 'Chicken Meat', 'price': 9.99},\n",
              " {'id': 20, 'title': 'Cooking Oil', 'price': 4.99}]"
            ]
          },
          "metadata": {},
          "execution_count": 43
        }
      ]
    },
    {
      "cell_type": "code",
      "source": [
        "type(response_10.json()['products'])"
      ],
      "metadata": {
        "colab": {
          "base_uri": "https://localhost:8080/"
        },
        "id": "3f2UagkMupYI",
        "outputId": "af8ac090-9fe5-4ffc-a30d-4a629411836d"
      },
      "execution_count": 45,
      "outputs": [
        {
          "output_type": "execute_result",
          "data": {
            "text/plain": [
              "list"
            ]
          },
          "metadata": {},
          "execution_count": 45
        }
      ]
    },
    {
      "cell_type": "code",
      "source": [
        "for i in response_10.json()['products']:\n",
        "  if i[\"price\"] < 30:\n",
        "    print(i)"
      ],
      "metadata": {
        "colab": {
          "base_uri": "https://localhost:8080/"
        },
        "id": "8QGC9k1ZuzZ1",
        "outputId": "7e74af67-f2c3-408b-cb04-c9fd91458982"
      },
      "execution_count": 47,
      "outputs": [
        {
          "output_type": "stream",
          "name": "stdout",
          "text": [
            "{'id': 16, 'title': 'Apple', 'price': 1.99}\n",
            "{'id': 17, 'title': 'Beef Steak', 'price': 12.99}\n",
            "{'id': 18, 'title': 'Cat Food', 'price': 8.99}\n",
            "{'id': 19, 'title': 'Chicken Meat', 'price': 9.99}\n",
            "{'id': 20, 'title': 'Cooking Oil', 'price': 4.99}\n"
          ]
        }
      ]
    },
    {
      "cell_type": "markdown",
      "source": [
        "###Problem statement\n",
        "Imagine you're building a movie database that requires fetching movie data from an external API. You must work with JSON data to extract relevant information and create a pandas dataset to accomplish this.\n",
        "\n",
        "Your task is to create a Python program that retrieves movie data from an API, parses the JSON responses, and provides insights about the movies.\n",
        "\n",
        "Get API key from: http://www.omdbapi.com/apikey.aspx\n",
        "Link: https://www.omdbapi.com/\n",
        "\n",
        "1. Implement a function named fetch_movies that fetches movie data from the API and returns the JSON response.\n",
        "\n",
        "2. Implement a function named parse_movies that inputs the JSON response and extracts relevant movie information, such as title, release year, genre, and ratings.\n",
        "\n",
        "\n",
        "Sample Output\n",
        "\n",
        "Title   Release Year    Genre   Ratings"
      ],
      "metadata": {
        "id": "FO5zKT_2wBBY"
      }
    },
    {
      "cell_type": "code",
      "source": [
        "import pandas as pd\n",
        "import requests\n",
        "\n",
        "API_KEY = '8fcbcec5'\n",
        "BASE_URL = 'http://www.omdbapi.com/'\n",
        "\n",
        "def fetch_movies(movie_name):\n",
        "  query ={\n",
        "      'apikey':API_KEY,\n",
        "      's':movie_name\n",
        "  }\n",
        "  response = requests.get(BASE_URL,params=query)\n",
        "  return response.json()[\"Search\"]\n",
        "\n",
        ""
      ],
      "metadata": {
        "id": "3hVL677JvDMD"
      },
      "execution_count": 63,
      "outputs": []
    },
    {
      "cell_type": "code",
      "source": [
        "fetch_movies('Avengers')"
      ],
      "metadata": {
        "colab": {
          "base_uri": "https://localhost:8080/"
        },
        "id": "DKRZJDI10fOw",
        "outputId": "f6477fb3-9bea-4843-9524-8ffd120e7715"
      },
      "execution_count": 64,
      "outputs": [
        {
          "output_type": "execute_result",
          "data": {
            "text/plain": [
              "[{'Title': 'The Avengers',\n",
              "  'Year': '2012',\n",
              "  'imdbID': 'tt0848228',\n",
              "  'Type': 'movie',\n",
              "  'Poster': 'https://m.media-amazon.com/images/M/MV5BNDYxNjQyMjAtNTdiOS00NGYwLWFmNTAtNThmYjU5ZGI2YTI1XkEyXkFqcGdeQXVyMTMxODk2OTU@._V1_SX300.jpg'},\n",
              " {'Title': 'Avengers: Endgame',\n",
              "  'Year': '2019',\n",
              "  'imdbID': 'tt4154796',\n",
              "  'Type': 'movie',\n",
              "  'Poster': 'https://m.media-amazon.com/images/M/MV5BMTc5MDE2ODcwNV5BMl5BanBnXkFtZTgwMzI2NzQ2NzM@._V1_SX300.jpg'},\n",
              " {'Title': 'Avengers: Infinity War',\n",
              "  'Year': '2018',\n",
              "  'imdbID': 'tt4154756',\n",
              "  'Type': 'movie',\n",
              "  'Poster': 'https://m.media-amazon.com/images/M/MV5BMjMxNjY2MDU1OV5BMl5BanBnXkFtZTgwNzY1MTUwNTM@._V1_SX300.jpg'},\n",
              " {'Title': 'Avengers: Age of Ultron',\n",
              "  'Year': '2015',\n",
              "  'imdbID': 'tt2395427',\n",
              "  'Type': 'movie',\n",
              "  'Poster': 'https://m.media-amazon.com/images/M/MV5BMTM4OGJmNWMtOTM4Ni00NTE3LTg3MDItZmQxYjc4N2JhNmUxXkEyXkFqcGdeQXVyNTgzMDMzMTg@._V1_SX300.jpg'},\n",
              " {'Title': 'The Avengers',\n",
              "  'Year': '1998',\n",
              "  'imdbID': 'tt0118661',\n",
              "  'Type': 'movie',\n",
              "  'Poster': 'https://m.media-amazon.com/images/M/MV5BZTQ4NmIzMTktOTdjOC00NzE4LWIzNTgtODkwNzM5ZjUzZDkxXkEyXkFqcGdeQXVyMTUzMDUzNTI3._V1_SX300.jpg'},\n",
              " {'Title': \"The Avengers: Earth's Mightiest Heroes\",\n",
              "  'Year': '2010–2012',\n",
              "  'imdbID': 'tt1626038',\n",
              "  'Type': 'series',\n",
              "  'Poster': 'https://m.media-amazon.com/images/M/MV5BYzA4ZjVhYzctZmI0NC00ZmIxLWFmYTgtOGIxMDYxODhmMGQ2XkEyXkFqcGdeQXVyNjExODE1MDc@._V1_SX300.jpg'},\n",
              " {'Title': 'Ultimate Avengers: The Movie',\n",
              "  'Year': '2006',\n",
              "  'imdbID': 'tt0491703',\n",
              "  'Type': 'movie',\n",
              "  'Poster': 'https://m.media-amazon.com/images/M/MV5BMTYyMjk0NTMwMl5BMl5BanBnXkFtZTgwNzY0NjAwNzE@._V1_SX300.jpg'},\n",
              " {'Title': 'The Avengers',\n",
              "  'Year': '1961–1969',\n",
              "  'imdbID': 'tt0054518',\n",
              "  'Type': 'series',\n",
              "  'Poster': 'https://m.media-amazon.com/images/M/MV5BZWI4ZWM4ZWQtODk1ZC00MzMxLThlZmMtOGFmMTYxZTAwYjc5XkEyXkFqcGdeQXVyMTk0MjQ3Nzk@._V1_SX300.jpg'},\n",
              " {'Title': 'Ultimate Avengers II',\n",
              "  'Year': '2006',\n",
              "  'imdbID': 'tt0803093',\n",
              "  'Type': 'movie',\n",
              "  'Poster': 'https://m.media-amazon.com/images/M/MV5BZjI3MTI5ZTYtZmNmNy00OGZmLTlhNWMtNjZiYmYzNDhlOGRkL2ltYWdlL2ltYWdlXkEyXkFqcGdeQXVyNTAyODkwOQ@@._V1_SX300.jpg'},\n",
              " {'Title': 'Avengers Assemble',\n",
              "  'Year': '2012–2019',\n",
              "  'imdbID': 'tt2455546',\n",
              "  'Type': 'series',\n",
              "  'Poster': 'https://m.media-amazon.com/images/M/MV5BMTY0NTUyMDQwOV5BMl5BanBnXkFtZTgwNjAwMTA0MDE@._V1_SX300.jpg'}]"
            ]
          },
          "metadata": {},
          "execution_count": 64
        }
      ]
    },
    {
      "cell_type": "code",
      "source": [
        "def parse_movies(movie_name):\n",
        "  parsed_data =  {\"Title\":[],'Release Year':[],\"Genre\":[],\"Ratings\":[]}\n",
        "  for i in data:\n",
        "    parsed_data['Title']= parsed_data[\"Title\"] + [i['Title']]\n",
        "    parsed_data['Release Year']= parsed_data[\"Release Year\"] + [i['Year']]\n",
        "    parsed_data['Genre']= parsed_data[\"Genre\"] + [i['Type']]\n",
        "    parsed_data['Ratings']= parsed_data[\"Ratings\"]+ [i['imdbID']]\n",
        "    return parsed_data\n"
      ],
      "metadata": {
        "id": "-UOWSkvD0seE"
      },
      "execution_count": 67,
      "outputs": []
    },
    {
      "cell_type": "code",
      "source": [
        "movied_name = \"harry potter\"\n",
        "data=fetch_movies(movied_name)\n",
        "parsed_data = parse_movies(data)\n",
        "if parsed_data:\n",
        "  df = pd.DataFrame(parsed_data)\n",
        "  print(df)\n",
        "else:\n",
        "  print(\"No movies found\")"
      ],
      "metadata": {
        "colab": {
          "base_uri": "https://localhost:8080/"
        },
        "id": "X0Vx7_wu2zY8",
        "outputId": "4a87eb05-44e6-4246-e3dc-ade169eb7f93"
      },
      "execution_count": 68,
      "outputs": [
        {
          "output_type": "stream",
          "name": "stdout",
          "text": [
            "                                          Title Release Year  Genre    Ratings\n",
            "0  Harry Potter and the Deathly Hallows: Part 2         2011  movie  tt1201607\n"
          ]
        }
      ]
    },
    {
      "cell_type": "code",
      "source": [],
      "metadata": {
        "id": "EgRTUslJ2-j4"
      },
      "execution_count": 66,
      "outputs": []
    }
  ]
}