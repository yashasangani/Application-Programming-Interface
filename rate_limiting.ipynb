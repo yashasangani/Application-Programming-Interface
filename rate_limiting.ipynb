{
  "cells": [
    {
      "cell_type": "markdown",
      "metadata": {
        "id": "view-in-github",
        "colab_type": "text"
      },
      "source": [
        "<a href=\"https://colab.research.google.com/github/yashasangani/Application-Programming-Interface/blob/main/rate_limiting.ipynb\" target=\"_parent\"><img src=\"https://colab.research.google.com/assets/colab-badge.svg\" alt=\"Open In Colab\"/></a>"
      ]
    },
    {
      "cell_type": "code",
      "execution_count": null,
      "id": "1bf0b72e",
      "metadata": {
        "id": "1bf0b72e",
        "outputId": "49030d5f-507f-4539-c247-a1f116f2beee"
      },
      "outputs": [
        {
          "name": "stdout",
          "output_type": "stream",
          "text": [
            "the iteration number is 0 and the response is 200\n",
            "the iteration number is 1 and the response is 200\n",
            "the iteration number is 2 and the response is 200\n",
            "the iteration number is 3 and the response is 200\n",
            "the iteration number is 4 and the response is 200\n",
            "the iteration number is 5 and the response is 429\n",
            "the iteration number is 6 and the response is 429\n",
            "the iteration number is 7 and the response is 429\n",
            "the iteration number is 8 and the response is 429\n",
            "the iteration number is 9 and the response is 429\n"
          ]
        }
      ],
      "source": [
        "import requests\n",
        "import time\n",
        "\n",
        "RATE_LIMIT_API_KEY = \"mVkaKboKieEnmInrt1FgjHWJwbLXtb2W\"\n",
        "\n",
        "URL = f\"https://api.polygon.io/v2/aggs/ticker/AAPL/range/1/day/2023-01-09/2023-01-09?apiKey={RATE_LIMIT_API_KEY}\"\n",
        "\n",
        "for i in range(0,10):\n",
        "    response =  requests.get(URL)\n",
        "    print(f\"the iteration number is {i} and the response is {response.status_code}\")\n",
        "\n",
        "\n"
      ]
    },
    {
      "cell_type": "code",
      "execution_count": null,
      "id": "616fcda6",
      "metadata": {
        "id": "616fcda6",
        "outputId": "ab7f70be-6743-4105-f7ee-4c3512979537"
      },
      "outputs": [
        {
          "data": {
            "text/plain": [
              "{'status': 'ERROR',\n",
              " 'request_id': '7f30816c44cd91884253485e41b58bfa',\n",
              " 'error': \"You've exceeded the maximum requests per minute, please wait or upgrade your subscription to continue. https://polygon.io/pricing\"}"
            ]
          },
          "execution_count": 10,
          "metadata": {},
          "output_type": "execute_result"
        }
      ],
      "source": [
        "response.json()"
      ]
    },
    {
      "cell_type": "code",
      "execution_count": null,
      "id": "ad87235d",
      "metadata": {
        "id": "ad87235d"
      },
      "outputs": [],
      "source": []
    },
    {
      "cell_type": "code",
      "execution_count": null,
      "id": "c0900e98",
      "metadata": {
        "id": "c0900e98",
        "outputId": "5a76cb35-a1c8-4c3d-fd8b-fe8bda1db12d"
      },
      "outputs": [
        {
          "name": "stdout",
          "output_type": "stream",
          "text": [
            "Waiting for 1 min ...\n",
            "200\n"
          ]
        }
      ],
      "source": [
        "import time\n",
        "\n",
        "for i in range(0,10):\n",
        "\n",
        "    response  = requests.get(URL)\n",
        "\n",
        "    if response.status_code == 200:\n",
        "        continue\n",
        "\n",
        "    elif response.status_code == 429:\n",
        "\n",
        "        print(\"Waiting for 1 min ...\")\n",
        "\n",
        "        time.sleep(62)\n",
        "\n",
        "        response = requests.get(URL)\n",
        "\n",
        "        print(response.status_code)\n",
        "\n",
        "    else:\n",
        "\n",
        "#if some other error we will continue\n",
        "\n",
        "        print(response.status_code)\n",
        "\n",
        "        continue"
      ]
    },
    {
      "cell_type": "code",
      "execution_count": null,
      "id": "273eb02c",
      "metadata": {
        "id": "273eb02c"
      },
      "outputs": [],
      "source": [
        "response  = requests.get(URL)\n"
      ]
    },
    {
      "cell_type": "code",
      "execution_count": null,
      "id": "76d7faf9",
      "metadata": {
        "id": "76d7faf9",
        "outputId": "54c87647-e60e-4aac-e98a-fbca23f71e03"
      },
      "outputs": [
        {
          "data": {
            "text/plain": [
              "<Response [200]>"
            ]
          },
          "execution_count": 20,
          "metadata": {},
          "output_type": "execute_result"
        }
      ],
      "source": [
        "response"
      ]
    },
    {
      "cell_type": "code",
      "execution_count": null,
      "id": "dbd599e8",
      "metadata": {
        "id": "dbd599e8",
        "outputId": "d9cf022a-35c1-444a-a66f-648201090e8a"
      },
      "outputs": [
        {
          "data": {
            "text/plain": [
              "{'ticker': 'AAPL',\n",
              " 'queryCount': 1,\n",
              " 'resultsCount': 1,\n",
              " 'adjusted': True,\n",
              " 'results': [{'v': 70790813.0,\n",
              "   'vw': 131.6292,\n",
              "   'o': 130.465,\n",
              "   'c': 130.15,\n",
              "   'h': 133.41,\n",
              "   'l': 129.89,\n",
              "   't': 1673240400000,\n",
              "   'n': 645365}],\n",
              " 'status': 'OK',\n",
              " 'request_id': 'd3fc9425b4ecdfe2736f257f07e66931',\n",
              " 'count': 1}"
            ]
          },
          "execution_count": 22,
          "metadata": {},
          "output_type": "execute_result"
        }
      ],
      "source": [
        "response.json()"
      ]
    }
  ],
  "metadata": {
    "kernelspec": {
      "display_name": "Python 3 (ipykernel)",
      "language": "python",
      "name": "python3"
    },
    "language_info": {
      "codemirror_mode": {
        "name": "ipython",
        "version": 3
      },
      "file_extension": ".py",
      "mimetype": "text/x-python",
      "name": "python",
      "nbconvert_exporter": "python",
      "pygments_lexer": "ipython3",
      "version": "3.11.5"
    },
    "colab": {
      "provenance": [],
      "include_colab_link": true
    }
  },
  "nbformat": 4,
  "nbformat_minor": 5
}